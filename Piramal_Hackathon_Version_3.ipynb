{
  "nbformat": 4,
  "nbformat_minor": 0,
  "metadata": {
    "colab": {
      "name": "Piramal_Hackathon.ipynb",
      "provenance": [],
      "collapsed_sections": [],
      "toc_visible": true
    },
    "kernelspec": {
      "name": "python3",
      "display_name": "Python 3"
    }
  },
  "cells": [
    {
      "cell_type": "code",
      "metadata": {
        "id": "o1PNFLjMX31d",
        "colab_type": "code",
        "colab": {
          "base_uri": "https://localhost:8080/",
          "height": 428
        },
        "outputId": "04e2e5ad-5edc-420a-9052-1e834300572b"
      },
      "source": [
        "import pandas as pd\n",
        "\n",
        "train = pd.read_csv('Train.csv')\n",
        "#test = pd.read_csv('Test.csv')\n",
        "\n",
        "train.head()"
      ],
      "execution_count": 48,
      "outputs": [
        {
          "output_type": "execute_result",
          "data": {
            "text/html": [
              "<div>\n",
              "<style scoped>\n",
              "    .dataframe tbody tr th:only-of-type {\n",
              "        vertical-align: middle;\n",
              "    }\n",
              "\n",
              "    .dataframe tbody tr th {\n",
              "        vertical-align: top;\n",
              "    }\n",
              "\n",
              "    .dataframe thead th {\n",
              "        text-align: right;\n",
              "    }\n",
              "</style>\n",
              "<table border=\"1\" class=\"dataframe\">\n",
              "  <thead>\n",
              "    <tr style=\"text-align: right;\">\n",
              "      <th></th>\n",
              "      <th>L_Id</th>\n",
              "      <th>Date of Creation</th>\n",
              "      <th>Agent Category Assigned</th>\n",
              "      <th>Type of Request</th>\n",
              "      <th>Description of the Request</th>\n",
              "      <th>Location</th>\n",
              "      <th>Street Type</th>\n",
              "      <th>Region Type</th>\n",
              "      <th>Ward No</th>\n",
              "      <th>Estimated Date of Completion</th>\n",
              "      <th>Request Solution Category</th>\n",
              "      <th>Actual Date of Completion</th>\n",
              "      <th>Team Assigned</th>\n",
              "      <th>A_1</th>\n",
              "      <th>A_2</th>\n",
              "      <th>Problem Category</th>\n",
              "    </tr>\n",
              "  </thead>\n",
              "  <tbody>\n",
              "    <tr>\n",
              "      <th>0</th>\n",
              "      <td>LM_1</td>\n",
              "      <td>18-12-2018 00:29</td>\n",
              "      <td>1</td>\n",
              "      <td>10</td>\n",
              "      <td>2</td>\n",
              "      <td>13</td>\n",
              "      <td>11223.0</td>\n",
              "      <td>0</td>\n",
              "      <td>7</td>\n",
              "      <td>18-12-2018 09:29</td>\n",
              "      <td>4</td>\n",
              "      <td>18-12-2018 05:34</td>\n",
              "      <td>45</td>\n",
              "      <td>1</td>\n",
              "      <td>1</td>\n",
              "      <td>1</td>\n",
              "    </tr>\n",
              "    <tr>\n",
              "      <th>1</th>\n",
              "      <td>LM_2</td>\n",
              "      <td>30-11-2018 22:19</td>\n",
              "      <td>1</td>\n",
              "      <td>15</td>\n",
              "      <td>17</td>\n",
              "      <td>13</td>\n",
              "      <td>10019.0</td>\n",
              "      <td>0</td>\n",
              "      <td>30</td>\n",
              "      <td>01-12-2018 07:19</td>\n",
              "      <td>8</td>\n",
              "      <td>01-12-2018 00:35</td>\n",
              "      <td>22</td>\n",
              "      <td>2</td>\n",
              "      <td>2</td>\n",
              "      <td>1</td>\n",
              "    </tr>\n",
              "    <tr>\n",
              "      <th>2</th>\n",
              "      <td>LM_3</td>\n",
              "      <td>12-12-2018 02:37</td>\n",
              "      <td>1</td>\n",
              "      <td>11</td>\n",
              "      <td>22</td>\n",
              "      <td>0</td>\n",
              "      <td>11237.0</td>\n",
              "      <td>2</td>\n",
              "      <td>7</td>\n",
              "      <td>12-12-2018 11:37</td>\n",
              "      <td>8</td>\n",
              "      <td>12-12-2018 04:29</td>\n",
              "      <td>17</td>\n",
              "      <td>1</td>\n",
              "      <td>1</td>\n",
              "      <td>1</td>\n",
              "    </tr>\n",
              "    <tr>\n",
              "      <th>3</th>\n",
              "      <td>LM_4</td>\n",
              "      <td>26-12-2018 01:45</td>\n",
              "      <td>1</td>\n",
              "      <td>11</td>\n",
              "      <td>22</td>\n",
              "      <td>12</td>\n",
              "      <td>11213.0</td>\n",
              "      <td>0</td>\n",
              "      <td>7</td>\n",
              "      <td>26-12-2018 10:45</td>\n",
              "      <td>7</td>\n",
              "      <td>26-12-2018 05:26</td>\n",
              "      <td>33</td>\n",
              "      <td>1</td>\n",
              "      <td>1</td>\n",
              "      <td>1</td>\n",
              "    </tr>\n",
              "    <tr>\n",
              "      <th>4</th>\n",
              "      <td>LM_5</td>\n",
              "      <td>24-12-2018 03:22</td>\n",
              "      <td>1</td>\n",
              "      <td>2</td>\n",
              "      <td>27</td>\n",
              "      <td>13</td>\n",
              "      <td>10460.0</td>\n",
              "      <td>0</td>\n",
              "      <td>6</td>\n",
              "      <td>24-12-2018 12:22</td>\n",
              "      <td>4</td>\n",
              "      <td>24-12-2018 10:20</td>\n",
              "      <td>24</td>\n",
              "      <td>0</td>\n",
              "      <td>0</td>\n",
              "      <td>1</td>\n",
              "    </tr>\n",
              "  </tbody>\n",
              "</table>\n",
              "</div>"
            ],
            "text/plain": [
              "   L_Id  Date of Creation  Agent Category Assigned  ...  A_1  A_2  Problem Category\n",
              "0  LM_1  18-12-2018 00:29                        1  ...    1    1                 1\n",
              "1  LM_2  30-11-2018 22:19                        1  ...    2    2                 1\n",
              "2  LM_3  12-12-2018 02:37                        1  ...    1    1                 1\n",
              "3  LM_4  26-12-2018 01:45                        1  ...    1    1                 1\n",
              "4  LM_5  24-12-2018 03:22                        1  ...    0    0                 1\n",
              "\n",
              "[5 rows x 16 columns]"
            ]
          },
          "metadata": {
            "tags": []
          },
          "execution_count": 48
        }
      ]
    },
    {
      "cell_type": "markdown",
      "metadata": {
        "id": "JLeAtLTwblm1",
        "colab_type": "text"
      },
      "source": [
        "#**Exploratory Data Analysis**"
      ]
    },
    {
      "cell_type": "code",
      "metadata": {
        "id": "rFdOkloEaAjl",
        "colab_type": "code",
        "colab": {
          "base_uri": "https://localhost:8080/",
          "height": 306
        },
        "outputId": "200b927d-ab55-4ed1-a523-582921e17e80"
      },
      "source": [
        "train.isnull().sum()"
      ],
      "execution_count": 49,
      "outputs": [
        {
          "output_type": "execute_result",
          "data": {
            "text/plain": [
              "L_Id                              0\n",
              "Date of Creation                  0\n",
              "Agent Category Assigned           0\n",
              "Type of Request                   0\n",
              "Description of the Request        0\n",
              "Location                          0\n",
              "Street Type                     419\n",
              "Region Type                       0\n",
              "Ward No                           0\n",
              "Estimated Date of Completion      0\n",
              "Request Solution Category         0\n",
              "Actual Date of Completion       432\n",
              "Team Assigned                     0\n",
              "A_1                               0\n",
              "A_2                               0\n",
              "Problem Category                  0\n",
              "dtype: int64"
            ]
          },
          "metadata": {
            "tags": []
          },
          "execution_count": 49
        }
      ]
    },
    {
      "cell_type": "code",
      "metadata": {
        "id": "DiQK7SLnG_1S",
        "colab_type": "code",
        "colab": {}
      },
      "source": [
        "#train['Street Type'] = train['Street Type'].fillna(train['Street Type'].mean())\n",
        "\n",
        "train['Street Type'] = train['Street Type'].fillna(train['Street Type'].mode()[0])"
      ],
      "execution_count": 52,
      "outputs": []
    },
    {
      "cell_type": "code",
      "metadata": {
        "id": "j_jsAqEtGsgU",
        "colab_type": "code",
        "colab": {
          "base_uri": "https://localhost:8080/",
          "height": 306
        },
        "outputId": "205b7b51-4670-4868-d517-39af7a58f234"
      },
      "source": [
        "train.isnull().sum()"
      ],
      "execution_count": 53,
      "outputs": [
        {
          "output_type": "execute_result",
          "data": {
            "text/plain": [
              "L_Id                              0\n",
              "Date of Creation                  0\n",
              "Agent Category Assigned           0\n",
              "Type of Request                   0\n",
              "Description of the Request        0\n",
              "Location                          0\n",
              "Street Type                       0\n",
              "Region Type                       0\n",
              "Ward No                           0\n",
              "Estimated Date of Completion      0\n",
              "Request Solution Category         0\n",
              "Actual Date of Completion       432\n",
              "Team Assigned                     0\n",
              "A_1                               0\n",
              "A_2                               0\n",
              "Problem Category                  0\n",
              "dtype: int64"
            ]
          },
          "metadata": {
            "tags": []
          },
          "execution_count": 53
        }
      ]
    },
    {
      "cell_type": "markdown",
      "metadata": {
        "id": "hEh2y9TqvH9w",
        "colab_type": "text"
      },
      "source": [
        "#**Checking Dataset SkewNess**"
      ]
    },
    {
      "cell_type": "code",
      "metadata": {
        "id": "vWbfh0a0uoaF",
        "colab_type": "code",
        "colab": {
          "base_uri": "https://localhost:8080/",
          "height": 204
        },
        "outputId": "c51a6c47-5b73-4238-9517-c746eb1a708c"
      },
      "source": [
        "# Checking Problem Category wise Data frequency \n",
        "print('Problem Category frequency :')\n",
        "print(train['Problem Category'].value_counts(normalize=True))\n",
        "print(' ')\n",
        "print('Problem Category count :')\n",
        "print(train['Problem Category'].value_counts())"
      ],
      "execution_count": 54,
      "outputs": [
        {
          "output_type": "stream",
          "text": [
            "Problem Category frequency :\n",
            "1    0.931977\n",
            "2    0.046746\n",
            "0    0.021277\n",
            "Name: Problem Category, dtype: float64\n",
            " \n",
            "Problem Category count :\n",
            "1    6001\n",
            "2     301\n",
            "0     137\n",
            "Name: Problem Category, dtype: int64\n"
          ],
          "name": "stdout"
        }
      ]
    },
    {
      "cell_type": "code",
      "metadata": {
        "id": "eAiBoVZYv435",
        "colab_type": "code",
        "colab": {
          "base_uri": "https://localhost:8080/",
          "height": 351
        },
        "outputId": "9a5c8e67-eb56-413d-cdce-0f3cc54dc050"
      },
      "source": [
        "train.describe()"
      ],
      "execution_count": 55,
      "outputs": [
        {
          "output_type": "execute_result",
          "data": {
            "text/html": [
              "<div>\n",
              "<style scoped>\n",
              "    .dataframe tbody tr th:only-of-type {\n",
              "        vertical-align: middle;\n",
              "    }\n",
              "\n",
              "    .dataframe tbody tr th {\n",
              "        vertical-align: top;\n",
              "    }\n",
              "\n",
              "    .dataframe thead th {\n",
              "        text-align: right;\n",
              "    }\n",
              "</style>\n",
              "<table border=\"1\" class=\"dataframe\">\n",
              "  <thead>\n",
              "    <tr style=\"text-align: right;\">\n",
              "      <th></th>\n",
              "      <th>Agent Category Assigned</th>\n",
              "      <th>Type of Request</th>\n",
              "      <th>Description of the Request</th>\n",
              "      <th>Location</th>\n",
              "      <th>Street Type</th>\n",
              "      <th>Region Type</th>\n",
              "      <th>Ward No</th>\n",
              "      <th>Request Solution Category</th>\n",
              "      <th>Team Assigned</th>\n",
              "      <th>A_1</th>\n",
              "      <th>A_2</th>\n",
              "      <th>Problem Category</th>\n",
              "    </tr>\n",
              "  </thead>\n",
              "  <tbody>\n",
              "    <tr>\n",
              "      <th>count</th>\n",
              "      <td>6439.0</td>\n",
              "      <td>6439.000000</td>\n",
              "      <td>6439.000000</td>\n",
              "      <td>6439.000000</td>\n",
              "      <td>6439.000000</td>\n",
              "      <td>6439.000000</td>\n",
              "      <td>6439.000000</td>\n",
              "      <td>6439.000000</td>\n",
              "      <td>6439.000000</td>\n",
              "      <td>6439.000000</td>\n",
              "      <td>6439.000000</td>\n",
              "      <td>6439.000000</td>\n",
              "    </tr>\n",
              "    <tr>\n",
              "      <th>mean</th>\n",
              "      <td>1.0</td>\n",
              "      <td>7.807579</td>\n",
              "      <td>22.504892</td>\n",
              "      <td>12.054822</td>\n",
              "      <td>10918.334213</td>\n",
              "      <td>0.555676</td>\n",
              "      <td>19.020966</td>\n",
              "      <td>6.686442</td>\n",
              "      <td>28.230005</td>\n",
              "      <td>1.992856</td>\n",
              "      <td>1.992856</td>\n",
              "      <td>1.025470</td>\n",
              "    </tr>\n",
              "    <tr>\n",
              "      <th>std</th>\n",
              "      <td>0.0</td>\n",
              "      <td>5.033016</td>\n",
              "      <td>11.012981</td>\n",
              "      <td>3.069295</td>\n",
              "      <td>536.384591</td>\n",
              "      <td>1.160858</td>\n",
              "      <td>13.646950</td>\n",
              "      <td>2.842832</td>\n",
              "      <td>18.073382</td>\n",
              "      <td>1.338121</td>\n",
              "      <td>1.338121</td>\n",
              "      <td>0.259586</td>\n",
              "    </tr>\n",
              "    <tr>\n",
              "      <th>min</th>\n",
              "      <td>1.0</td>\n",
              "      <td>0.000000</td>\n",
              "      <td>0.000000</td>\n",
              "      <td>0.000000</td>\n",
              "      <td>10001.000000</td>\n",
              "      <td>0.000000</td>\n",
              "      <td>0.000000</td>\n",
              "      <td>2.000000</td>\n",
              "      <td>0.000000</td>\n",
              "      <td>0.000000</td>\n",
              "      <td>0.000000</td>\n",
              "      <td>0.000000</td>\n",
              "    </tr>\n",
              "    <tr>\n",
              "      <th>25%</th>\n",
              "      <td>1.0</td>\n",
              "      <td>2.000000</td>\n",
              "      <td>15.000000</td>\n",
              "      <td>13.000000</td>\n",
              "      <td>10457.000000</td>\n",
              "      <td>0.000000</td>\n",
              "      <td>7.000000</td>\n",
              "      <td>4.000000</td>\n",
              "      <td>13.000000</td>\n",
              "      <td>1.000000</td>\n",
              "      <td>1.000000</td>\n",
              "      <td>1.000000</td>\n",
              "    </tr>\n",
              "    <tr>\n",
              "      <th>50%</th>\n",
              "      <td>1.0</td>\n",
              "      <td>10.000000</td>\n",
              "      <td>25.000000</td>\n",
              "      <td>13.000000</td>\n",
              "      <td>11215.000000</td>\n",
              "      <td>0.000000</td>\n",
              "      <td>13.000000</td>\n",
              "      <td>7.000000</td>\n",
              "      <td>28.000000</td>\n",
              "      <td>2.000000</td>\n",
              "      <td>2.000000</td>\n",
              "      <td>1.000000</td>\n",
              "    </tr>\n",
              "    <tr>\n",
              "      <th>75%</th>\n",
              "      <td>1.0</td>\n",
              "      <td>11.000000</td>\n",
              "      <td>30.000000</td>\n",
              "      <td>13.000000</td>\n",
              "      <td>11367.000000</td>\n",
              "      <td>0.000000</td>\n",
              "      <td>30.000000</td>\n",
              "      <td>8.000000</td>\n",
              "      <td>44.000000</td>\n",
              "      <td>3.000000</td>\n",
              "      <td>3.000000</td>\n",
              "      <td>1.000000</td>\n",
              "    </tr>\n",
              "    <tr>\n",
              "      <th>max</th>\n",
              "      <td>1.0</td>\n",
              "      <td>20.000000</td>\n",
              "      <td>41.000000</td>\n",
              "      <td>16.000000</td>\n",
              "      <td>11694.000000</td>\n",
              "      <td>5.000000</td>\n",
              "      <td>49.000000</td>\n",
              "      <td>15.000000</td>\n",
              "      <td>66.000000</td>\n",
              "      <td>5.000000</td>\n",
              "      <td>5.000000</td>\n",
              "      <td>2.000000</td>\n",
              "    </tr>\n",
              "  </tbody>\n",
              "</table>\n",
              "</div>"
            ],
            "text/plain": [
              "       Agent Category Assigned  Type of Request  ...          A_2  Problem Category\n",
              "count                   6439.0      6439.000000  ...  6439.000000       6439.000000\n",
              "mean                       1.0         7.807579  ...     1.992856          1.025470\n",
              "std                        0.0         5.033016  ...     1.338121          0.259586\n",
              "min                        1.0         0.000000  ...     0.000000          0.000000\n",
              "25%                        1.0         2.000000  ...     1.000000          1.000000\n",
              "50%                        1.0        10.000000  ...     2.000000          1.000000\n",
              "75%                        1.0        11.000000  ...     3.000000          1.000000\n",
              "max                        1.0        20.000000  ...     5.000000          2.000000\n",
              "\n",
              "[8 rows x 12 columns]"
            ]
          },
          "metadata": {
            "tags": []
          },
          "execution_count": 55
        }
      ]
    },
    {
      "cell_type": "markdown",
      "metadata": {
        "id": "k57anIV5y1kq",
        "colab_type": "text"
      },
      "source": [
        "As we can see Values for StreetType, WardNo and TeamAssigned is of high range compare to other columns. \n",
        "\n",
        "Lets scale these values :"
      ]
    },
    {
      "cell_type": "code",
      "metadata": {
        "id": "bi_lwhvryQum",
        "colab_type": "code",
        "colab": {}
      },
      "source": [
        "#Normalized Data\n",
        "train['MinMax_StreetType'] = (train['Street Type']-min(train['Street Type']))/(max(train['Street Type'])-min(train['Street Type']))\n",
        "train['MinMax_WardNo'] = (train['Ward No']-min(train['Ward No']))/(max(train['Ward No'])-min(train['Ward No']))\n",
        "train['MinMax_TeamAssigned'] = (train['Team Assigned']-min(train['Team Assigned']))/(max(train['Team Assigned'])-min(train['Team Assigned']))\n",
        "\n",
        "train.drop(['L_Id', 'Street Type', 'Ward No', 'Team Assigned', 'Description of the Request'], axis=1, inplace=True)"
      ],
      "execution_count": 56,
      "outputs": []
    },
    {
      "cell_type": "code",
      "metadata": {
        "id": "QfMHKUxBzhjL",
        "colab_type": "code",
        "colab": {
          "base_uri": "https://localhost:8080/",
          "height": 351
        },
        "outputId": "c2398f6c-5323-4cbf-e9fa-ee01c3630708"
      },
      "source": [
        "train.describe()"
      ],
      "execution_count": 57,
      "outputs": [
        {
          "output_type": "execute_result",
          "data": {
            "text/html": [
              "<div>\n",
              "<style scoped>\n",
              "    .dataframe tbody tr th:only-of-type {\n",
              "        vertical-align: middle;\n",
              "    }\n",
              "\n",
              "    .dataframe tbody tr th {\n",
              "        vertical-align: top;\n",
              "    }\n",
              "\n",
              "    .dataframe thead th {\n",
              "        text-align: right;\n",
              "    }\n",
              "</style>\n",
              "<table border=\"1\" class=\"dataframe\">\n",
              "  <thead>\n",
              "    <tr style=\"text-align: right;\">\n",
              "      <th></th>\n",
              "      <th>Agent Category Assigned</th>\n",
              "      <th>Type of Request</th>\n",
              "      <th>Location</th>\n",
              "      <th>Region Type</th>\n",
              "      <th>Request Solution Category</th>\n",
              "      <th>A_1</th>\n",
              "      <th>A_2</th>\n",
              "      <th>Problem Category</th>\n",
              "      <th>MinMax_StreetType</th>\n",
              "      <th>MinMax_WardNo</th>\n",
              "      <th>MinMax_TeamAssigned</th>\n",
              "    </tr>\n",
              "  </thead>\n",
              "  <tbody>\n",
              "    <tr>\n",
              "      <th>count</th>\n",
              "      <td>6439.0</td>\n",
              "      <td>6439.000000</td>\n",
              "      <td>6439.000000</td>\n",
              "      <td>6439.000000</td>\n",
              "      <td>6439.000000</td>\n",
              "      <td>6439.000000</td>\n",
              "      <td>6439.000000</td>\n",
              "      <td>6439.000000</td>\n",
              "      <td>6439.000000</td>\n",
              "      <td>6439.000000</td>\n",
              "      <td>6439.000000</td>\n",
              "    </tr>\n",
              "    <tr>\n",
              "      <th>mean</th>\n",
              "      <td>1.0</td>\n",
              "      <td>7.807579</td>\n",
              "      <td>12.054822</td>\n",
              "      <td>0.555676</td>\n",
              "      <td>6.686442</td>\n",
              "      <td>1.992856</td>\n",
              "      <td>1.992856</td>\n",
              "      <td>1.025470</td>\n",
              "      <td>0.541839</td>\n",
              "      <td>0.388183</td>\n",
              "      <td>0.427727</td>\n",
              "    </tr>\n",
              "    <tr>\n",
              "      <th>std</th>\n",
              "      <td>0.0</td>\n",
              "      <td>5.033016</td>\n",
              "      <td>3.069295</td>\n",
              "      <td>1.160858</td>\n",
              "      <td>2.842832</td>\n",
              "      <td>1.338121</td>\n",
              "      <td>1.338121</td>\n",
              "      <td>0.259586</td>\n",
              "      <td>0.316825</td>\n",
              "      <td>0.278509</td>\n",
              "      <td>0.273839</td>\n",
              "    </tr>\n",
              "    <tr>\n",
              "      <th>min</th>\n",
              "      <td>1.0</td>\n",
              "      <td>0.000000</td>\n",
              "      <td>0.000000</td>\n",
              "      <td>0.000000</td>\n",
              "      <td>2.000000</td>\n",
              "      <td>0.000000</td>\n",
              "      <td>0.000000</td>\n",
              "      <td>0.000000</td>\n",
              "      <td>0.000000</td>\n",
              "      <td>0.000000</td>\n",
              "      <td>0.000000</td>\n",
              "    </tr>\n",
              "    <tr>\n",
              "      <th>25%</th>\n",
              "      <td>1.0</td>\n",
              "      <td>2.000000</td>\n",
              "      <td>13.000000</td>\n",
              "      <td>0.000000</td>\n",
              "      <td>4.000000</td>\n",
              "      <td>1.000000</td>\n",
              "      <td>1.000000</td>\n",
              "      <td>1.000000</td>\n",
              "      <td>0.269344</td>\n",
              "      <td>0.142857</td>\n",
              "      <td>0.196970</td>\n",
              "    </tr>\n",
              "    <tr>\n",
              "      <th>50%</th>\n",
              "      <td>1.0</td>\n",
              "      <td>10.000000</td>\n",
              "      <td>13.000000</td>\n",
              "      <td>0.000000</td>\n",
              "      <td>7.000000</td>\n",
              "      <td>2.000000</td>\n",
              "      <td>2.000000</td>\n",
              "      <td>1.000000</td>\n",
              "      <td>0.717070</td>\n",
              "      <td>0.265306</td>\n",
              "      <td>0.424242</td>\n",
              "    </tr>\n",
              "    <tr>\n",
              "      <th>75%</th>\n",
              "      <td>1.0</td>\n",
              "      <td>11.000000</td>\n",
              "      <td>13.000000</td>\n",
              "      <td>0.000000</td>\n",
              "      <td>8.000000</td>\n",
              "      <td>3.000000</td>\n",
              "      <td>3.000000</td>\n",
              "      <td>1.000000</td>\n",
              "      <td>0.806852</td>\n",
              "      <td>0.612245</td>\n",
              "      <td>0.666667</td>\n",
              "    </tr>\n",
              "    <tr>\n",
              "      <th>max</th>\n",
              "      <td>1.0</td>\n",
              "      <td>20.000000</td>\n",
              "      <td>16.000000</td>\n",
              "      <td>5.000000</td>\n",
              "      <td>15.000000</td>\n",
              "      <td>5.000000</td>\n",
              "      <td>5.000000</td>\n",
              "      <td>2.000000</td>\n",
              "      <td>1.000000</td>\n",
              "      <td>1.000000</td>\n",
              "      <td>1.000000</td>\n",
              "    </tr>\n",
              "  </tbody>\n",
              "</table>\n",
              "</div>"
            ],
            "text/plain": [
              "       Agent Category Assigned  ...  MinMax_TeamAssigned\n",
              "count                   6439.0  ...          6439.000000\n",
              "mean                       1.0  ...             0.427727\n",
              "std                        0.0  ...             0.273839\n",
              "min                        1.0  ...             0.000000\n",
              "25%                        1.0  ...             0.196970\n",
              "50%                        1.0  ...             0.424242\n",
              "75%                        1.0  ...             0.666667\n",
              "max                        1.0  ...             1.000000\n",
              "\n",
              "[8 rows x 11 columns]"
            ]
          },
          "metadata": {
            "tags": []
          },
          "execution_count": 57
        }
      ]
    },
    {
      "cell_type": "markdown",
      "metadata": {
        "id": "-6K5kiQRw3nE",
        "colab_type": "text"
      },
      "source": [
        "Dataset is highly skewed. \n",
        "I will go for technique to deal with imbalanced Dataset.\n",
        "\n",
        "We have two options here : \n",
        "(1) UnderSampling\n",
        "(2) OverSampling\n",
        "\n",
        "Let's try Undersampling first : "
      ]
    },
    {
      "cell_type": "code",
      "metadata": {
        "id": "yFmuWzph3P9T",
        "colab_type": "code",
        "colab": {
          "base_uri": "https://localhost:8080/",
          "height": 428
        },
        "outputId": "2c834cb8-707b-4f2a-f2a8-9db44416386e"
      },
      "source": [
        "# Problem Category count :\n",
        "#1    6001\n",
        "#2     301\n",
        "#0     137\n",
        "\n",
        "ProbCategory_0 = train.loc[train['Problem Category'] == 0]\n",
        "ProbCategory_1 = train.loc[train['Problem Category'] == 1][:300]\n",
        "ProbCategory_2 = train.loc[train['Problem Category'] == 2]\n",
        "\n",
        "normal_distributed_df = pd.concat([ProbCategory_0, ProbCategory_1, ProbCategory_2])\n",
        "\n",
        "# Shuffle dataframe rows\n",
        "new_df = normal_distributed_df.sample(frac=1, random_state=42)\n",
        "\n",
        "new_df.head()"
      ],
      "execution_count": 58,
      "outputs": [
        {
          "output_type": "execute_result",
          "data": {
            "text/html": [
              "<div>\n",
              "<style scoped>\n",
              "    .dataframe tbody tr th:only-of-type {\n",
              "        vertical-align: middle;\n",
              "    }\n",
              "\n",
              "    .dataframe tbody tr th {\n",
              "        vertical-align: top;\n",
              "    }\n",
              "\n",
              "    .dataframe thead th {\n",
              "        text-align: right;\n",
              "    }\n",
              "</style>\n",
              "<table border=\"1\" class=\"dataframe\">\n",
              "  <thead>\n",
              "    <tr style=\"text-align: right;\">\n",
              "      <th></th>\n",
              "      <th>Date of Creation</th>\n",
              "      <th>Agent Category Assigned</th>\n",
              "      <th>Type of Request</th>\n",
              "      <th>Location</th>\n",
              "      <th>Region Type</th>\n",
              "      <th>Estimated Date of Completion</th>\n",
              "      <th>Request Solution Category</th>\n",
              "      <th>Actual Date of Completion</th>\n",
              "      <th>A_1</th>\n",
              "      <th>A_2</th>\n",
              "      <th>Problem Category</th>\n",
              "      <th>MinMax_StreetType</th>\n",
              "      <th>MinMax_WardNo</th>\n",
              "      <th>MinMax_TeamAssigned</th>\n",
              "    </tr>\n",
              "  </thead>\n",
              "  <tbody>\n",
              "    <tr>\n",
              "      <th>170</th>\n",
              "      <td>12-12-2018 19:52</td>\n",
              "      <td>1</td>\n",
              "      <td>15</td>\n",
              "      <td>13</td>\n",
              "      <td>2</td>\n",
              "      <td>13-12-2018 04:52</td>\n",
              "      <td>10</td>\n",
              "      <td>13-12-2018 00:42</td>\n",
              "      <td>2</td>\n",
              "      <td>2</td>\n",
              "      <td>1</td>\n",
              "      <td>0.037803</td>\n",
              "      <td>0.612245</td>\n",
              "      <td>0.515152</td>\n",
              "    </tr>\n",
              "    <tr>\n",
              "      <th>216</th>\n",
              "      <td>07-12-2018 15:09</td>\n",
              "      <td>1</td>\n",
              "      <td>10</td>\n",
              "      <td>13</td>\n",
              "      <td>2</td>\n",
              "      <td>08-12-2018 00:09</td>\n",
              "      <td>4</td>\n",
              "      <td>07-12-2018 19:02</td>\n",
              "      <td>3</td>\n",
              "      <td>3</td>\n",
              "      <td>1</td>\n",
              "      <td>0.998228</td>\n",
              "      <td>0.285714</td>\n",
              "      <td>0.833333</td>\n",
              "    </tr>\n",
              "    <tr>\n",
              "      <th>100</th>\n",
              "      <td>01-12-2018 19:56</td>\n",
              "      <td>1</td>\n",
              "      <td>2</td>\n",
              "      <td>13</td>\n",
              "      <td>0</td>\n",
              "      <td>02-12-2018 04:56</td>\n",
              "      <td>8</td>\n",
              "      <td>02-12-2018 00:34</td>\n",
              "      <td>0</td>\n",
              "      <td>0</td>\n",
              "      <td>1</td>\n",
              "      <td>0.269344</td>\n",
              "      <td>0.122449</td>\n",
              "      <td>0.303030</td>\n",
              "    </tr>\n",
              "    <tr>\n",
              "      <th>1638</th>\n",
              "      <td>22-07-2018 15:04</td>\n",
              "      <td>1</td>\n",
              "      <td>13</td>\n",
              "      <td>7</td>\n",
              "      <td>4</td>\n",
              "      <td>23-07-2018 00:04</td>\n",
              "      <td>12</td>\n",
              "      <td>NaN</td>\n",
              "      <td>5</td>\n",
              "      <td>5</td>\n",
              "      <td>2</td>\n",
              "      <td>0.817484</td>\n",
              "      <td>0.632653</td>\n",
              "      <td>0.000000</td>\n",
              "    </tr>\n",
              "    <tr>\n",
              "      <th>23</th>\n",
              "      <td>22-12-2018 20:45</td>\n",
              "      <td>1</td>\n",
              "      <td>11</td>\n",
              "      <td>0</td>\n",
              "      <td>0</td>\n",
              "      <td>23-12-2018 05:45</td>\n",
              "      <td>7</td>\n",
              "      <td>24-12-2018 05:58</td>\n",
              "      <td>2</td>\n",
              "      <td>2</td>\n",
              "      <td>1</td>\n",
              "      <td>0.001181</td>\n",
              "      <td>0.612245</td>\n",
              "      <td>0.121212</td>\n",
              "    </tr>\n",
              "  </tbody>\n",
              "</table>\n",
              "</div>"
            ],
            "text/plain": [
              "      Date of Creation  ...  MinMax_TeamAssigned\n",
              "170   12-12-2018 19:52  ...             0.515152\n",
              "216   07-12-2018 15:09  ...             0.833333\n",
              "100   01-12-2018 19:56  ...             0.303030\n",
              "1638  22-07-2018 15:04  ...             0.000000\n",
              "23    22-12-2018 20:45  ...             0.121212\n",
              "\n",
              "[5 rows x 14 columns]"
            ]
          },
          "metadata": {
            "tags": []
          },
          "execution_count": 58
        }
      ]
    },
    {
      "cell_type": "code",
      "metadata": {
        "id": "n1kSu-2k4FI-",
        "colab_type": "code",
        "colab": {
          "base_uri": "https://localhost:8080/",
          "height": 34
        },
        "outputId": "bd72dc04-2634-4065-e13a-fd41117957c9"
      },
      "source": [
        "new_df.shape"
      ],
      "execution_count": 59,
      "outputs": [
        {
          "output_type": "execute_result",
          "data": {
            "text/plain": [
              "(738, 14)"
            ]
          },
          "metadata": {
            "tags": []
          },
          "execution_count": 59
        }
      ]
    },
    {
      "cell_type": "markdown",
      "metadata": {
        "id": "oZLx2tqEqeEr",
        "colab_type": "text"
      },
      "source": [
        "#**Working on Date Columns**"
      ]
    },
    {
      "cell_type": "code",
      "metadata": {
        "id": "iKFxcwkIgQLT",
        "colab_type": "code",
        "colab": {}
      },
      "source": [
        "from datetime import datetime, timedelta, date\n",
        "DiffBetDateOfCreation_ExpectedTime = []\n",
        "for ind in new_df.index: \n",
        "  #print(new_df['Date of Creation'][ind])\n",
        "  DateOfCreation = datetime.strptime(new_df['Date of Creation'][ind], '%d-%m-%Y %H:%M')\n",
        "  #print(DateOfCreation)\n",
        "  ExpectedDate = datetime.strptime(new_df['Estimated Date of Completion'][ind], '%d-%m-%Y %H:%M')\n",
        "  #print(ExpectedDate)\n",
        "  DiffBetDateOfCreation_ExpectedTime.append((ExpectedDate - DateOfCreation).total_seconds() / 60)"
      ],
      "execution_count": 60,
      "outputs": []
    },
    {
      "cell_type": "code",
      "metadata": {
        "id": "NbM-HeN-frnW",
        "colab_type": "code",
        "colab": {}
      },
      "source": [
        "new_df['DateCreation_EstimatedDate'] = DiffBetDateOfCreation_ExpectedTime"
      ],
      "execution_count": 61,
      "outputs": []
    },
    {
      "cell_type": "code",
      "metadata": {
        "id": "LQFLtIqN49pS",
        "colab_type": "code",
        "colab": {
          "base_uri": "https://localhost:8080/",
          "height": 51
        },
        "outputId": "9efc27f9-2a1d-4920-80cd-669c776757ef"
      },
      "source": [
        "new_df['DateCreation_EstimatedDate'].value_counts()"
      ],
      "execution_count": 62,
      "outputs": [
        {
          "output_type": "execute_result",
          "data": {
            "text/plain": [
              "540.0    738\n",
              "Name: DateCreation_EstimatedDate, dtype: int64"
            ]
          },
          "metadata": {
            "tags": []
          },
          "execution_count": 62
        }
      ]
    },
    {
      "cell_type": "markdown",
      "metadata": {
        "id": "Y785V8Wd5HXi",
        "colab_type": "text"
      },
      "source": [
        "So, We can say that for all the entries Estimated time has been added as 540 minutes from the time when an entry is being made into dataset ie. [Date of Creation]. Hence this column will be of no use interms ot Problem Category classification."
      ]
    },
    {
      "cell_type": "code",
      "metadata": {
        "id": "AaPF7fUP5FER",
        "colab_type": "code",
        "colab": {}
      },
      "source": [
        "new_df.drop(['Estimated Date of Completion', 'DateCreation_EstimatedDate'], axis=1, inplace=True)"
      ],
      "execution_count": 63,
      "outputs": []
    },
    {
      "cell_type": "code",
      "metadata": {
        "id": "9SeQp0y06Fqi",
        "colab_type": "code",
        "colab": {
          "base_uri": "https://localhost:8080/",
          "height": 34
        },
        "outputId": "1708649e-9712-4646-ed07-c6f1782f346c"
      },
      "source": [
        "new_df.head()\n",
        "new_df.shape"
      ],
      "execution_count": 64,
      "outputs": [
        {
          "output_type": "execute_result",
          "data": {
            "text/plain": [
              "(738, 13)"
            ]
          },
          "metadata": {
            "tags": []
          },
          "execution_count": 64
        }
      ]
    },
    {
      "cell_type": "code",
      "metadata": {
        "id": "NIdFzvATs_km",
        "colab_type": "code",
        "colab": {
          "base_uri": "https://localhost:8080/",
          "height": 1000
        },
        "outputId": "d11b1f6b-bbd6-4506-a9c7-e510ebe66d1f"
      },
      "source": [
        "from datetime import datetime, timedelta, date\n",
        "DiffBetDateOfCreation_ActualTime = []\n",
        "for ind in new_df.index: \n",
        "  #print(new_df['Date of Creation'][ind])\n",
        "  DateOfCreation = datetime.strptime(new_df['Date of Creation'][ind], '%d-%m-%Y %H:%M')\n",
        "  #print(DateOfCreation)\n",
        "  try:\n",
        "    ActualDate = datetime.strptime(new_df['Actual Date of Completion'][ind], '%d-%m-%Y %H:%M')\n",
        "    DiffBetDateOfCreation_ActualTime.append((ActualDate - DateOfCreation).total_seconds() / 60)\n",
        "    print('done')\n",
        "  except:\n",
        "    print(new_df['Actual Date of Completion'][ind])\n",
        "    DiffBetDateOfCreation_ActualTime.append(0)\n",
        "  \n",
        "  #DiffBetDateOfCreation_ActualTime.append((ActualDate - DateOfCreation).total_seconds() / 60)"
      ],
      "execution_count": 65,
      "outputs": [
        {
          "output_type": "stream",
          "text": [
            "done\n",
            "done\n",
            "done\n",
            "nan\n",
            "done\n",
            "done\n",
            "nan\n",
            "done\n",
            "nan\n",
            "nan\n",
            "done\n",
            "nan\n",
            "nan\n",
            "nan\n",
            "done\n",
            "nan\n",
            "done\n",
            "nan\n",
            "done\n",
            "nan\n",
            "done\n",
            "nan\n",
            "done\n",
            "nan\n",
            "nan\n",
            "nan\n",
            "nan\n",
            "nan\n",
            "nan\n",
            "nan\n",
            "done\n",
            "nan\n",
            "nan\n",
            "done\n",
            "done\n",
            "nan\n",
            "nan\n",
            "nan\n",
            "done\n",
            "nan\n",
            "nan\n",
            "done\n",
            "nan\n",
            "nan\n",
            "nan\n",
            "nan\n",
            "nan\n",
            "nan\n",
            "nan\n",
            "nan\n",
            "nan\n",
            "nan\n",
            "done\n",
            "nan\n",
            "done\n",
            "nan\n",
            "nan\n",
            "done\n",
            "nan\n",
            "nan\n",
            "nan\n",
            "done\n",
            "done\n",
            "done\n",
            "done\n",
            "nan\n",
            "done\n",
            "done\n",
            "done\n",
            "done\n",
            "nan\n",
            "nan\n",
            "nan\n",
            "nan\n",
            "done\n",
            "nan\n",
            "done\n",
            "done\n",
            "done\n",
            "nan\n",
            "done\n",
            "nan\n",
            "done\n",
            "nan\n",
            "done\n",
            "done\n",
            "nan\n",
            "nan\n",
            "nan\n",
            "nan\n",
            "nan\n",
            "nan\n",
            "nan\n",
            "nan\n",
            "nan\n",
            "done\n",
            "done\n",
            "nan\n",
            "done\n",
            "nan\n",
            "done\n",
            "done\n",
            "done\n",
            "nan\n",
            "done\n",
            "nan\n",
            "nan\n",
            "nan\n",
            "done\n",
            "done\n",
            "nan\n",
            "nan\n",
            "nan\n",
            "done\n",
            "done\n",
            "done\n",
            "done\n",
            "nan\n",
            "nan\n",
            "nan\n",
            "nan\n",
            "nan\n",
            "nan\n",
            "nan\n",
            "nan\n",
            "done\n",
            "nan\n",
            "nan\n",
            "done\n",
            "nan\n",
            "done\n",
            "nan\n",
            "done\n",
            "done\n",
            "done\n",
            "done\n",
            "nan\n",
            "done\n",
            "nan\n",
            "done\n",
            "done\n",
            "nan\n",
            "nan\n",
            "nan\n",
            "nan\n",
            "done\n",
            "nan\n",
            "done\n",
            "done\n",
            "done\n",
            "nan\n",
            "done\n",
            "nan\n",
            "done\n",
            "done\n",
            "nan\n",
            "nan\n",
            "done\n",
            "nan\n",
            "done\n",
            "nan\n",
            "done\n",
            "done\n",
            "done\n",
            "nan\n",
            "done\n",
            "nan\n",
            "nan\n",
            "done\n",
            "nan\n",
            "nan\n",
            "nan\n",
            "done\n",
            "nan\n",
            "nan\n",
            "done\n",
            "done\n",
            "nan\n",
            "nan\n",
            "nan\n",
            "nan\n",
            "done\n",
            "nan\n",
            "nan\n",
            "nan\n",
            "nan\n",
            "nan\n",
            "nan\n",
            "nan\n",
            "nan\n",
            "done\n",
            "done\n",
            "done\n",
            "done\n",
            "done\n",
            "nan\n",
            "nan\n",
            "nan\n",
            "done\n",
            "done\n",
            "nan\n",
            "nan\n",
            "nan\n",
            "done\n",
            "done\n",
            "nan\n",
            "done\n",
            "done\n",
            "nan\n",
            "done\n",
            "done\n",
            "nan\n",
            "done\n",
            "nan\n",
            "nan\n",
            "done\n",
            "done\n",
            "nan\n",
            "done\n",
            "nan\n",
            "nan\n",
            "done\n",
            "nan\n",
            "done\n",
            "nan\n",
            "done\n",
            "done\n",
            "nan\n",
            "nan\n",
            "nan\n",
            "done\n",
            "done\n",
            "nan\n",
            "nan\n",
            "nan\n",
            "nan\n",
            "nan\n",
            "nan\n",
            "nan\n",
            "nan\n",
            "nan\n",
            "nan\n",
            "nan\n",
            "done\n",
            "nan\n",
            "nan\n",
            "nan\n",
            "nan\n",
            "nan\n",
            "done\n",
            "nan\n",
            "nan\n",
            "done\n",
            "nan\n",
            "nan\n",
            "done\n",
            "nan\n",
            "nan\n",
            "nan\n",
            "done\n",
            "nan\n",
            "done\n",
            "done\n",
            "nan\n",
            "nan\n",
            "done\n",
            "nan\n",
            "nan\n",
            "done\n",
            "done\n",
            "nan\n",
            "nan\n",
            "done\n",
            "done\n",
            "done\n",
            "done\n",
            "done\n",
            "done\n",
            "nan\n",
            "nan\n",
            "nan\n",
            "done\n",
            "nan\n",
            "done\n",
            "nan\n",
            "nan\n",
            "nan\n",
            "nan\n",
            "done\n",
            "nan\n",
            "nan\n",
            "nan\n",
            "done\n",
            "done\n",
            "done\n",
            "done\n",
            "nan\n",
            "done\n",
            "done\n",
            "nan\n",
            "nan\n",
            "done\n",
            "nan\n",
            "done\n",
            "done\n",
            "done\n",
            "done\n",
            "nan\n",
            "nan\n",
            "nan\n",
            "nan\n",
            "nan\n",
            "done\n",
            "done\n",
            "nan\n",
            "nan\n",
            "done\n",
            "nan\n",
            "done\n",
            "done\n",
            "nan\n",
            "nan\n",
            "done\n",
            "done\n",
            "done\n",
            "done\n",
            "done\n",
            "nan\n",
            "done\n",
            "done\n",
            "done\n",
            "nan\n",
            "nan\n",
            "done\n",
            "nan\n",
            "done\n",
            "done\n",
            "nan\n",
            "done\n",
            "done\n",
            "nan\n",
            "nan\n",
            "nan\n",
            "nan\n",
            "nan\n",
            "done\n",
            "nan\n",
            "nan\n",
            "nan\n",
            "nan\n",
            "nan\n",
            "done\n",
            "done\n",
            "done\n",
            "nan\n",
            "nan\n",
            "done\n",
            "nan\n",
            "nan\n",
            "nan\n",
            "done\n",
            "nan\n",
            "nan\n",
            "done\n",
            "nan\n",
            "done\n",
            "done\n",
            "done\n",
            "nan\n",
            "done\n",
            "nan\n",
            "done\n",
            "nan\n",
            "done\n",
            "done\n",
            "done\n",
            "nan\n",
            "done\n",
            "nan\n",
            "nan\n",
            "done\n",
            "done\n",
            "nan\n",
            "nan\n",
            "done\n",
            "nan\n",
            "nan\n",
            "done\n",
            "done\n",
            "nan\n",
            "done\n",
            "nan\n",
            "done\n",
            "nan\n",
            "nan\n",
            "done\n",
            "done\n",
            "nan\n",
            "done\n",
            "done\n",
            "done\n",
            "done\n",
            "nan\n",
            "nan\n",
            "done\n",
            "done\n",
            "nan\n",
            "nan\n",
            "done\n",
            "done\n",
            "nan\n",
            "nan\n",
            "done\n",
            "nan\n",
            "nan\n",
            "done\n",
            "nan\n",
            "done\n",
            "done\n",
            "nan\n",
            "nan\n",
            "nan\n",
            "nan\n",
            "nan\n",
            "nan\n",
            "nan\n",
            "nan\n",
            "nan\n",
            "nan\n",
            "nan\n",
            "done\n",
            "nan\n",
            "nan\n",
            "nan\n",
            "nan\n",
            "nan\n",
            "nan\n",
            "nan\n",
            "done\n",
            "nan\n",
            "done\n",
            "nan\n",
            "done\n",
            "nan\n",
            "done\n",
            "nan\n",
            "nan\n",
            "done\n",
            "nan\n",
            "nan\n",
            "done\n",
            "done\n",
            "nan\n",
            "done\n",
            "done\n",
            "nan\n",
            "done\n",
            "done\n",
            "nan\n",
            "nan\n",
            "done\n",
            "nan\n",
            "nan\n",
            "nan\n",
            "done\n",
            "nan\n",
            "nan\n",
            "nan\n",
            "nan\n",
            "nan\n",
            "nan\n",
            "nan\n",
            "nan\n",
            "nan\n",
            "nan\n",
            "done\n",
            "nan\n",
            "nan\n",
            "done\n",
            "done\n",
            "done\n",
            "nan\n",
            "done\n",
            "done\n",
            "nan\n",
            "nan\n",
            "done\n",
            "nan\n",
            "nan\n",
            "done\n",
            "done\n",
            "nan\n",
            "nan\n",
            "nan\n",
            "done\n",
            "done\n",
            "nan\n",
            "nan\n",
            "nan\n",
            "nan\n",
            "done\n",
            "nan\n",
            "nan\n",
            "nan\n",
            "done\n",
            "done\n",
            "nan\n",
            "done\n",
            "nan\n",
            "nan\n",
            "nan\n",
            "nan\n",
            "nan\n",
            "nan\n",
            "nan\n",
            "nan\n",
            "done\n",
            "done\n",
            "nan\n",
            "nan\n",
            "nan\n",
            "done\n",
            "done\n",
            "done\n",
            "done\n",
            "nan\n",
            "nan\n",
            "nan\n",
            "done\n",
            "done\n",
            "nan\n",
            "nan\n",
            "nan\n",
            "done\n",
            "nan\n",
            "done\n",
            "done\n",
            "nan\n",
            "nan\n",
            "done\n",
            "nan\n",
            "done\n",
            "done\n",
            "done\n",
            "done\n",
            "nan\n",
            "done\n",
            "done\n",
            "nan\n",
            "done\n",
            "done\n",
            "nan\n",
            "nan\n",
            "done\n",
            "nan\n",
            "nan\n",
            "done\n",
            "nan\n",
            "nan\n",
            "nan\n",
            "nan\n",
            "done\n",
            "nan\n",
            "nan\n",
            "done\n",
            "nan\n",
            "nan\n",
            "nan\n",
            "nan\n",
            "done\n",
            "nan\n",
            "done\n",
            "done\n",
            "nan\n",
            "done\n",
            "done\n",
            "nan\n",
            "done\n",
            "done\n",
            "done\n",
            "done\n",
            "done\n",
            "done\n",
            "nan\n",
            "nan\n",
            "nan\n",
            "done\n",
            "nan\n",
            "nan\n",
            "nan\n",
            "nan\n",
            "nan\n",
            "nan\n",
            "nan\n",
            "nan\n",
            "nan\n",
            "done\n",
            "done\n",
            "nan\n",
            "done\n",
            "nan\n",
            "done\n",
            "nan\n",
            "nan\n",
            "nan\n",
            "nan\n",
            "nan\n",
            "done\n",
            "nan\n",
            "nan\n",
            "nan\n",
            "nan\n",
            "done\n",
            "done\n",
            "done\n",
            "nan\n",
            "done\n",
            "nan\n",
            "nan\n",
            "nan\n",
            "nan\n",
            "nan\n",
            "nan\n",
            "done\n",
            "nan\n",
            "nan\n",
            "nan\n",
            "done\n",
            "nan\n",
            "nan\n",
            "nan\n",
            "done\n",
            "nan\n",
            "done\n",
            "done\n",
            "done\n",
            "done\n",
            "nan\n",
            "nan\n",
            "done\n",
            "nan\n",
            "nan\n",
            "nan\n",
            "nan\n",
            "nan\n",
            "nan\n",
            "nan\n",
            "done\n",
            "nan\n",
            "nan\n",
            "done\n",
            "done\n",
            "done\n",
            "nan\n",
            "done\n",
            "done\n",
            "done\n",
            "nan\n",
            "nan\n",
            "nan\n",
            "done\n",
            "done\n",
            "done\n",
            "nan\n",
            "done\n",
            "nan\n",
            "nan\n",
            "nan\n",
            "done\n",
            "nan\n",
            "nan\n",
            "nan\n",
            "nan\n",
            "done\n",
            "nan\n",
            "nan\n",
            "done\n",
            "nan\n",
            "done\n",
            "nan\n",
            "done\n",
            "nan\n",
            "done\n",
            "done\n",
            "nan\n",
            "done\n",
            "nan\n",
            "done\n",
            "done\n",
            "done\n",
            "nan\n",
            "nan\n",
            "nan\n",
            "nan\n",
            "nan\n",
            "done\n",
            "nan\n",
            "nan\n",
            "nan\n",
            "done\n",
            "nan\n",
            "nan\n",
            "nan\n",
            "nan\n",
            "nan\n",
            "nan\n",
            "nan\n",
            "done\n",
            "nan\n",
            "done\n",
            "nan\n",
            "done\n",
            "done\n",
            "done\n",
            "done\n",
            "done\n",
            "nan\n",
            "done\n",
            "done\n",
            "nan\n",
            "nan\n",
            "nan\n",
            "nan\n",
            "done\n",
            "nan\n",
            "nan\n",
            "done\n",
            "done\n",
            "nan\n",
            "nan\n",
            "nan\n",
            "nan\n",
            "nan\n",
            "nan\n",
            "nan\n",
            "done\n",
            "done\n",
            "done\n"
          ],
          "name": "stdout"
        }
      ]
    },
    {
      "cell_type": "code",
      "metadata": {
        "id": "ds-ow0gaeTg5",
        "colab_type": "code",
        "colab": {}
      },
      "source": [
        "new_df['DateCreation_ActualDate'] = DiffBetDateOfCreation_ActualTime"
      ],
      "execution_count": 66,
      "outputs": []
    },
    {
      "cell_type": "markdown",
      "metadata": {
        "id": "zlMuJtHT7oVz",
        "colab_type": "text"
      },
      "source": [
        "---- Not able to decide what to do with this column... \n",
        "Let'z drop Actual Date column as of now ---- "
      ]
    },
    {
      "cell_type": "code",
      "metadata": {
        "id": "wyrvDri6wQBE",
        "colab_type": "code",
        "colab": {}
      },
      "source": [
        "new_df.drop(['Date of Creation', 'Actual Date of Completion', 'DateCreation_ActualDate'], axis=1, inplace=True)"
      ],
      "execution_count": 67,
      "outputs": []
    },
    {
      "cell_type": "code",
      "metadata": {
        "id": "fwzGr0Ir8GnR",
        "colab_type": "code",
        "colab": {
          "base_uri": "https://localhost:8080/",
          "height": 258
        },
        "outputId": "7c77af28-ccce-4e02-cf2a-a2bf478fbeec"
      },
      "source": [
        "new_df.head()"
      ],
      "execution_count": 68,
      "outputs": [
        {
          "output_type": "execute_result",
          "data": {
            "text/html": [
              "<div>\n",
              "<style scoped>\n",
              "    .dataframe tbody tr th:only-of-type {\n",
              "        vertical-align: middle;\n",
              "    }\n",
              "\n",
              "    .dataframe tbody tr th {\n",
              "        vertical-align: top;\n",
              "    }\n",
              "\n",
              "    .dataframe thead th {\n",
              "        text-align: right;\n",
              "    }\n",
              "</style>\n",
              "<table border=\"1\" class=\"dataframe\">\n",
              "  <thead>\n",
              "    <tr style=\"text-align: right;\">\n",
              "      <th></th>\n",
              "      <th>Agent Category Assigned</th>\n",
              "      <th>Type of Request</th>\n",
              "      <th>Location</th>\n",
              "      <th>Region Type</th>\n",
              "      <th>Request Solution Category</th>\n",
              "      <th>A_1</th>\n",
              "      <th>A_2</th>\n",
              "      <th>Problem Category</th>\n",
              "      <th>MinMax_StreetType</th>\n",
              "      <th>MinMax_WardNo</th>\n",
              "      <th>MinMax_TeamAssigned</th>\n",
              "    </tr>\n",
              "  </thead>\n",
              "  <tbody>\n",
              "    <tr>\n",
              "      <th>170</th>\n",
              "      <td>1</td>\n",
              "      <td>15</td>\n",
              "      <td>13</td>\n",
              "      <td>2</td>\n",
              "      <td>10</td>\n",
              "      <td>2</td>\n",
              "      <td>2</td>\n",
              "      <td>1</td>\n",
              "      <td>0.037803</td>\n",
              "      <td>0.612245</td>\n",
              "      <td>0.515152</td>\n",
              "    </tr>\n",
              "    <tr>\n",
              "      <th>216</th>\n",
              "      <td>1</td>\n",
              "      <td>10</td>\n",
              "      <td>13</td>\n",
              "      <td>2</td>\n",
              "      <td>4</td>\n",
              "      <td>3</td>\n",
              "      <td>3</td>\n",
              "      <td>1</td>\n",
              "      <td>0.998228</td>\n",
              "      <td>0.285714</td>\n",
              "      <td>0.833333</td>\n",
              "    </tr>\n",
              "    <tr>\n",
              "      <th>100</th>\n",
              "      <td>1</td>\n",
              "      <td>2</td>\n",
              "      <td>13</td>\n",
              "      <td>0</td>\n",
              "      <td>8</td>\n",
              "      <td>0</td>\n",
              "      <td>0</td>\n",
              "      <td>1</td>\n",
              "      <td>0.269344</td>\n",
              "      <td>0.122449</td>\n",
              "      <td>0.303030</td>\n",
              "    </tr>\n",
              "    <tr>\n",
              "      <th>1638</th>\n",
              "      <td>1</td>\n",
              "      <td>13</td>\n",
              "      <td>7</td>\n",
              "      <td>4</td>\n",
              "      <td>12</td>\n",
              "      <td>5</td>\n",
              "      <td>5</td>\n",
              "      <td>2</td>\n",
              "      <td>0.817484</td>\n",
              "      <td>0.632653</td>\n",
              "      <td>0.000000</td>\n",
              "    </tr>\n",
              "    <tr>\n",
              "      <th>23</th>\n",
              "      <td>1</td>\n",
              "      <td>11</td>\n",
              "      <td>0</td>\n",
              "      <td>0</td>\n",
              "      <td>7</td>\n",
              "      <td>2</td>\n",
              "      <td>2</td>\n",
              "      <td>1</td>\n",
              "      <td>0.001181</td>\n",
              "      <td>0.612245</td>\n",
              "      <td>0.121212</td>\n",
              "    </tr>\n",
              "  </tbody>\n",
              "</table>\n",
              "</div>"
            ],
            "text/plain": [
              "      Agent Category Assigned  ...  MinMax_TeamAssigned\n",
              "170                         1  ...             0.515152\n",
              "216                         1  ...             0.833333\n",
              "100                         1  ...             0.303030\n",
              "1638                        1  ...             0.000000\n",
              "23                          1  ...             0.121212\n",
              "\n",
              "[5 rows x 11 columns]"
            ]
          },
          "metadata": {
            "tags": []
          },
          "execution_count": 68
        }
      ]
    },
    {
      "cell_type": "code",
      "metadata": {
        "id": "tBn2tOpdCLwV",
        "colab_type": "code",
        "colab": {
          "base_uri": "https://localhost:8080/",
          "height": 221
        },
        "outputId": "5da429ab-d063-4645-89c4-75e9d840808a"
      },
      "source": [
        "new_df.isnull().sum()"
      ],
      "execution_count": 69,
      "outputs": [
        {
          "output_type": "execute_result",
          "data": {
            "text/plain": [
              "Agent Category Assigned      0\n",
              "Type of Request              0\n",
              "Location                     0\n",
              "Region Type                  0\n",
              "Request Solution Category    0\n",
              "A_1                          0\n",
              "A_2                          0\n",
              "Problem Category             0\n",
              "MinMax_StreetType            0\n",
              "MinMax_WardNo                0\n",
              "MinMax_TeamAssigned          0\n",
              "dtype: int64"
            ]
          },
          "metadata": {
            "tags": []
          },
          "execution_count": 69
        }
      ]
    },
    {
      "cell_type": "markdown",
      "metadata": {
        "id": "7XUO4L228Zyf",
        "colab_type": "text"
      },
      "source": [
        "#**Correlation Matrix**"
      ]
    },
    {
      "cell_type": "code",
      "metadata": {
        "id": "eQZpMX4q8tkM",
        "colab_type": "code",
        "colab": {
          "base_uri": "https://localhost:8080/",
          "height": 718
        },
        "outputId": "4f491fb1-74e4-4a8f-fc88-57945efaf14c"
      },
      "source": [
        "import matplotlib.pyplot as plt\n",
        "import seaborn as sns\n",
        "from pylab import rcParams\n",
        "rcParams['figure.figsize'] = 12, 10\n",
        "\n",
        "sub_sample_corr = new_df.corr()\n",
        "sns.heatmap(sub_sample_corr, cmap='coolwarm_r', annot_kws={'size':20})\n",
        "plt.show()"
      ],
      "execution_count": 70,
      "outputs": [
        {
          "output_type": "display_data",
          "data": {
            "image/png": "[encoded data removed]",
            "text/plain": [
              "<Figure size 864x720 with 2 Axes>"
            ]
          },
          "metadata": {
            "tags": [],
            "needs_background": "light"
          }
        }
      ]
    },
    {
      "cell_type": "markdown",
      "metadata": {
        "id": "SQ6nJs3i9aHP",
        "colab_type": "text"
      },
      "source": [
        "As we can see \"Region_Type\", \"Request_Solution_Category\", \"A_1\", \"A_2\", \"MinMax_WardNo\" and \"Probelm Category\" columns are highly correlated with each other.. "
      ]
    },
    {
      "cell_type": "markdown",
      "metadata": {
        "id": "l8Upuli5-iTw",
        "colab_type": "text"
      },
      "source": [
        "# **Applying Classifiers**"
      ]
    },
    {
      "cell_type": "code",
      "metadata": {
        "id": "_kzVtlne9QFR",
        "colab_type": "code",
        "colab": {}
      },
      "source": [
        "new_df_temp = new_df\n",
        "\n",
        "# Splitting Independent and Dependent Variables\n",
        "X = new_df_temp.loc[:, new_df_temp.columns != 'Problem Category'].values\n",
        "y = new_df_temp['Problem Category'].values"
      ],
      "execution_count": 71,
      "outputs": []
    },
    {
      "cell_type": "code",
      "metadata": {
        "id": "uPJxXvAz_4y7",
        "colab_type": "code",
        "colab": {}
      },
      "source": [
        "from sklearn.model_selection import train_test_split\n",
        "\n",
        "# Splitting the dataset into the Training set and Test set\n",
        "X_train, X_test, y_train, y_test = train_test_split(X, y, test_size=0.25, random_state=0, stratify=y)"
      ],
      "execution_count": 72,
      "outputs": []
    },
    {
      "cell_type": "code",
      "metadata": {
        "id": "KQw-oVFaBid2",
        "colab_type": "code",
        "colab": {
          "base_uri": "https://localhost:8080/",
          "height": 34
        },
        "outputId": "6c755cb2-eeb6-411f-d087-1c25b0ce593e"
      },
      "source": [
        "from sklearn.linear_model import LogisticRegression\n",
        "logisticRegr = LogisticRegression()\n",
        "logisticRegr.fit(X_train, y_train)\n",
        "\n",
        "predictions = logisticRegr.predict(X_test)\n",
        "score = logisticRegr.score(X_test, y_test)\n",
        "print(score)"
      ],
      "execution_count": 73,
      "outputs": [
        {
          "output_type": "stream",
          "text": [
            "0.7945945945945946\n"
          ],
          "name": "stdout"
        }
      ]
    },
    {
      "cell_type": "code",
      "metadata": {
        "id": "dTK3LlXQCQYO",
        "colab_type": "code",
        "colab": {}
      },
      "source": [
        "import numpy as np\n",
        "from sklearn.metrics import roc_auc_score\n",
        "from sklearn.preprocessing import LabelBinarizer\n",
        "from sklearn.metrics import precision_score\n",
        "from sklearn.metrics import recall_score\n",
        "\n",
        "#In an imbalanced classification problem with more than two classes, precision is \n",
        "#calculated as the sum of true positives across all classes divided by the sum of \n",
        "#true positives and false positives across all classes.\n",
        "\n",
        "#When using the precision_score() function for multiclass classification, it is \n",
        "#important to specify the minority classes via the “labels” argument and to perform \n",
        "#set the “average” argument to ‘micro‘ to ensure the calculation is performed as we expect.\n",
        "# calculate prediction\n",
        "def multiclass_precision_score(y_test, y_pred, average=\"macro\"):\n",
        "  precision = precision_score(y_test, y_pred, labels=[0,2], average=average)\n",
        "  return precision\n",
        "\n",
        "#Recall is a metric that quantifies the number of correct positive predictions made \n",
        "#out of all positive predictions that could have been made.\n",
        "# calculate recall\n",
        "def multiclass_recall_score(y_test, y_pred, average='macro'):\n",
        "  recall = recall_score(y_test, y_pred, average=average)\n",
        "  return recall\n",
        "\n",
        "\n",
        "#def multiclass_roc_auc_score(y_test, y_pred, average=\"macro\"):\n",
        "#\n",
        "#  lb = LabelBinarizer()\n",
        "#  lb.fit(y_test)\n",
        "#\n",
        "#  y_test = lb.transform(y_test)\n",
        "#  y_pred = lb.transform(y_pred)\n",
        "#\n",
        "#  return roc_auc_score(y_test, y_pred, average=average, multi_class='ovr')"
      ],
      "execution_count": 74,
      "outputs": []
    },
    {
      "cell_type": "code",
      "metadata": {
        "id": "c94GmoexAfhE",
        "colab_type": "code",
        "colab": {
          "base_uri": "https://localhost:8080/",
          "height": 68
        },
        "outputId": "49d33d5e-2a49-4dbd-c313-e1bd197443f5"
      },
      "source": [
        "import xgboost as xgb\n",
        "import warnings\n",
        "warnings.filterwarnings(\"ignore\")\n",
        "warnings.filterwarnings(module='sklearn*', action='ignore', category=DeprecationWarning)\n",
        "from sklearn.tree import DecisionTreeClassifier \n",
        "from sklearn.ensemble import RandomForestClassifier\n",
        "from sklearn.metrics import confusion_matrix\n",
        "from sklearn.metrics import accuracy_score\n",
        "\n",
        "dtree_model = DecisionTreeClassifier(max_depth=2).fit(X_train, y_train)   #Optimum Value for max_depth : 10\n",
        "dtree_predictions = dtree_model.predict(X_test)\n",
        "\n",
        "#print('Accuracy : ', accuracy_score(y_test, dtree_predictions))\n",
        "#print('ROC for DecisionTreeClassifier : ', multiclass_roc_auc_score(y_test, dtree_predictions))\n",
        "\n",
        "print('DecisionTreeClassifier + UnderSampling')\n",
        "print('Precision: ', multiclass_recall_score(y_test, dtree_predictions))\n",
        "print('Recall: ', multiclass_precision_score(y_test, dtree_predictions))"
      ],
      "execution_count": 76,
      "outputs": [
        {
          "output_type": "stream",
          "text": [
            "DecisionTreeClassifier + UnderSampling\n",
            "Precision:  0.662280701754386\n",
            "Recall:  0.35046728971962615\n"
          ],
          "name": "stdout"
        }
      ]
    },
    {
      "cell_type": "code",
      "metadata": {
        "id": "sOY-C35TAycj",
        "colab_type": "code",
        "colab": {
          "base_uri": "https://localhost:8080/",
          "height": 68
        },
        "outputId": "68cc78d2-079d-49b9-a4ea-fa5d73fd5248"
      },
      "source": [
        "rf_clf = RandomForestClassifier(n_estimators=100, max_depth=2, random_state=0)   \n",
        "rf_clf.fit(X_train, y_train)\n",
        "rf_predictions = rf_clf.predict(X_test)\n",
        "    \n",
        "#print('Accuracy : ', accuracy_score(y_test, rf_predictions))\n",
        "#print('ROC for RandomForestClassifier : ', multiclass_roc_auc_score(y_test, rf_predictions))\n",
        "\n",
        "print('RandomForestClassifier + UnderSampling')\n",
        "print('Precision: ', multiclass_recall_score(y_test, rf_predictions))\n",
        "print('Recall: ', multiclass_precision_score(y_test, rf_predictions))"
      ],
      "execution_count": 79,
      "outputs": [
        {
          "output_type": "stream",
          "text": [
            "RandomForestClassifier + UnderSampling\n",
            "Precision:  0.6534502923976608\n",
            "Recall:  0.3523809523809524\n"
          ],
          "name": "stdout"
        }
      ]
    },
    {
      "cell_type": "code",
      "metadata": {
        "id": "lbA0RHB-JLUT",
        "colab_type": "code",
        "colab": {
          "base_uri": "https://localhost:8080/",
          "height": 68
        },
        "outputId": "830e190d-853e-4380-a289-c45a680aa915"
      },
      "source": [
        "xg_cl = xgb.XGBClassifier(objective= \"multi:softprob\", \n",
        "                          n_estimators=1000, \n",
        "                          learning_rate=0.1, \n",
        "                          seed=123,\n",
        "                          max_depth=2)\n",
        "\n",
        "xg_cl.fit(X_train, y_train)\n",
        "\n",
        "preds = xg_cl.predict(X_test)\n",
        "        \n",
        "#print('Accuracy : ', accuracy_score(y_test, preds))\n",
        "#print('ROC for XGBClassifier : ', multiclass_roc_auc_score(y_test, preds))\n",
        "\n",
        "print('XGBClassifier + UnderSampling')\n",
        "print('Precision: ', multiclass_recall_score(y_test, preds))\n",
        "print('Recall: ', multiclass_precision_score(y_test, preds))"
      ],
      "execution_count": 80,
      "outputs": [
        {
          "output_type": "stream",
          "text": [
            "XGBClassifier + UnderSampling\n",
            "Precision:  0.6927244582043345\n",
            "Recall:  0.6400832177531206\n"
          ],
          "name": "stdout"
        }
      ]
    },
    {
      "cell_type": "markdown",
      "metadata": {
        "id": "qwLvey6eQB-5",
        "colab_type": "text"
      },
      "source": [
        "#**Implementing SMOTE**"
      ]
    },
    {
      "cell_type": "code",
      "metadata": {
        "id": "ykO9tCMxQfiL",
        "colab_type": "code",
        "colab": {}
      },
      "source": [
        "import pandas as pd\n",
        "\n",
        "train_smote = pd.read_csv('Train.csv')\n",
        "#test_smote = pd.read_csv('Test.csv')"
      ],
      "execution_count": 81,
      "outputs": []
    },
    {
      "cell_type": "code",
      "metadata": {
        "id": "-zculWiQQaUr",
        "colab_type": "code",
        "colab": {
          "base_uri": "https://localhost:8080/",
          "height": 204
        },
        "outputId": "27a7001e-6ac0-44be-8903-c01ea85271bb"
      },
      "source": [
        "train_smote['Street Type'] = train_smote['Street Type'].fillna(train_smote['Street Type'].mode()[0])\n",
        "train_smote.isnull().sum()\n",
        "\n",
        "# Checking Problem Category wise Data frequency \n",
        "print('Problem Category frequency :')\n",
        "print(train_smote['Problem Category'].value_counts(normalize=True))\n",
        "print(' ')\n",
        "print('Problem Category count :')\n",
        "print(train_smote['Problem Category'].value_counts())"
      ],
      "execution_count": 82,
      "outputs": [
        {
          "output_type": "stream",
          "text": [
            "Problem Category frequency :\n",
            "1    0.931977\n",
            "2    0.046746\n",
            "0    0.021277\n",
            "Name: Problem Category, dtype: float64\n",
            " \n",
            "Problem Category count :\n",
            "1    6001\n",
            "2     301\n",
            "0     137\n",
            "Name: Problem Category, dtype: int64\n"
          ],
          "name": "stdout"
        }
      ]
    },
    {
      "cell_type": "code",
      "metadata": {
        "id": "MlaJJShQRzkE",
        "colab_type": "code",
        "colab": {}
      },
      "source": [
        "#Normalized Data\n",
        "train_smote['MinMax_StreetType'] = (train_smote['Street Type']-min(train_smote['Street Type']))/(max(train_smote['Street Type'])-min(train_smote['Street Type']))\n",
        "train_smote['MinMax_WardNo'] = (train_smote['Ward No']-min(train_smote['Ward No']))/(max(train_smote['Ward No'])-min(train_smote['Ward No']))\n",
        "train_smote['MinMax_TeamAssigned'] = (train_smote['Team Assigned']-min(train_smote['Team Assigned']))/(max(train_smote['Team Assigned'])-min(train_smote['Team Assigned']))\n",
        "\n",
        "train_smote.drop(['L_Id', 'Street Type', 'Ward No', 'Team Assigned', 'Description of the Request'], axis=1, inplace=True)"
      ],
      "execution_count": 83,
      "outputs": []
    },
    {
      "cell_type": "code",
      "metadata": {
        "id": "vwAXQ__uSgVj",
        "colab_type": "code",
        "colab": {}
      },
      "source": [
        "train_smote.drop(['Date of Creation', 'Actual Date of Completion', 'Estimated Date of Completion'], axis=1, inplace=True)"
      ],
      "execution_count": 84,
      "outputs": []
    },
    {
      "cell_type": "code",
      "metadata": {
        "id": "YkHryyApS0jK",
        "colab_type": "code",
        "colab": {}
      },
      "source": [
        "# Splitting Independent and Dependent Variables\n",
        "X = train_smote.loc[:, train_smote.columns != 'Problem Category'].values\n",
        "y = train_smote['Problem Category'].values\n",
        "\n",
        "from sklearn.model_selection import train_test_split\n",
        "\n",
        "# Splitting the dataset into the Training set and Test set\n",
        "X_train, X_test, y_train, y_test = train_test_split(X, y, test_size=0.25, random_state=0, stratify=y)"
      ],
      "execution_count": 85,
      "outputs": []
    },
    {
      "cell_type": "code",
      "metadata": {
        "id": "31uRMdraQWQW",
        "colab_type": "code",
        "colab": {
          "base_uri": "https://localhost:8080/",
          "height": 51
        },
        "outputId": "8802b68a-4069-4411-9357-14f7cc96c527"
      },
      "source": [
        "from imblearn.over_sampling import SMOTE\n",
        "smote = SMOTE('minority')\n",
        "x_sm, y_sm = smote.fit_sample(X_train, y_train)\n",
        "\n",
        "print(X_train.shape)\n",
        "print(x_sm.shape)"
      ],
      "execution_count": 86,
      "outputs": [
        {
          "output_type": "stream",
          "text": [
            "(4829, 10)\n",
            "(9226, 10)\n"
          ],
          "name": "stdout"
        }
      ]
    },
    {
      "cell_type": "code",
      "metadata": {
        "id": "B5FrJhwjT-Fb",
        "colab_type": "code",
        "colab": {
          "base_uri": "https://localhost:8080/",
          "height": 34
        },
        "outputId": "bebdd898-5849-407d-da07-72fbebff91ec"
      },
      "source": [
        "from sklearn.linear_model import LogisticRegression\n",
        "logisticRegr = LogisticRegression()\n",
        "logisticRegr.fit(x_sm, y_sm)\n",
        "\n",
        "predictions = logisticRegr.predict(X_test)\n",
        "score = logisticRegr.score(X_test, y_test)\n",
        "print(score)"
      ],
      "execution_count": 87,
      "outputs": [
        {
          "output_type": "stream",
          "text": [
            "0.9329192546583851\n"
          ],
          "name": "stdout"
        }
      ]
    },
    {
      "cell_type": "code",
      "metadata": {
        "id": "-GO9cAbyUNx7",
        "colab_type": "code",
        "colab": {
          "base_uri": "https://localhost:8080/",
          "height": 68
        },
        "outputId": "1d66e13a-51da-4e7d-947c-61a5c15644de"
      },
      "source": [
        "import xgboost as xgb\n",
        "import warnings\n",
        "warnings.filterwarnings(\"ignore\")\n",
        "warnings.filterwarnings(module='sklearn*', action='ignore', category=DeprecationWarning)\n",
        "from sklearn.tree import DecisionTreeClassifier \n",
        "from sklearn.ensemble import RandomForestClassifier\n",
        "from sklearn.metrics import confusion_matrix\n",
        "from sklearn.metrics import accuracy_score\n",
        "\n",
        "dtree_model = DecisionTreeClassifier(max_depth=2).fit(x_sm, y_sm)   #Optimum Value for max_depth : 10\n",
        "dtree_predictions_2 = dtree_model.predict(X_test)\n",
        "\n",
        "#print('Accuracy : ', accuracy_score(y_test, dtree_predictions_2))\n",
        "#print('ROC for DecisionTreeClassifier : ', multiclass_roc_auc_score(y_test, dtree_predictions_2))\n",
        "\n",
        "print('DecisionTreeClassifier + SMOTE')\n",
        "print('Precision: ', multiclass_recall_score(y_test, dtree_predictions_2))\n",
        "print('Recall: ', multiclass_precision_score(y_test, dtree_predictions_2))"
      ],
      "execution_count": 89,
      "outputs": [
        {
          "output_type": "stream",
          "text": [
            "DecisionTreeClassifier + SMOTE\n",
            "Precision:  0.6274509803921569\n",
            "Recall:  0.15\n"
          ],
          "name": "stdout"
        }
      ]
    },
    {
      "cell_type": "code",
      "metadata": {
        "id": "iTdYdocKUZlH",
        "colab_type": "code",
        "colab": {
          "base_uri": "https://localhost:8080/",
          "height": 68
        },
        "outputId": "8baf4351-2434-4af7-8e90-95064ddae068"
      },
      "source": [
        "rf_clf = RandomForestClassifier(n_estimators=100, max_depth=2, random_state=0)   \n",
        "rf_clf.fit(x_sm, y_sm)\n",
        "rf_predictions_2 = rf_clf.predict(X_test)\n",
        "    \n",
        "#print('Accuracy : ', accuracy_score(y_test, rf_predictions_2))\n",
        "#print('ROC for RandomForestClassifier : ', multiclass_roc_auc_score(y_test, rf_predictions_2))\n",
        "\n",
        "print('RandomForestClassifier + SMOTE')\n",
        "print('Precision: ', multiclass_recall_score(y_test, rf_predictions_2))\n",
        "print('Recall: ', multiclass_precision_score(y_test, rf_predictions_2))"
      ],
      "execution_count": 90,
      "outputs": [
        {
          "output_type": "stream",
          "text": [
            "RandomForestClassifier + SMOTE\n",
            "Precision:  0.6272289062193831\n",
            "Recall:  0.1485148514851485\n"
          ],
          "name": "stdout"
        }
      ]
    },
    {
      "cell_type": "code",
      "metadata": {
        "id": "aFYGQkKdTxI6",
        "colab_type": "code",
        "colab": {
          "base_uri": "https://localhost:8080/",
          "height": 68
        },
        "outputId": "5d19d8b2-baec-4b52-f1f1-1bd176caa08a"
      },
      "source": [
        "#XGB Classifier\n",
        "xg_cl = xgb.XGBClassifier(objective= \"multi:softprob\", \n",
        "                                  n_estimators=5000, \n",
        "                                  learning_rate=0.05, \n",
        "                                  seed=123,\n",
        "                                  max_depth=2)\n",
        "\n",
        "xg_cl.fit(x_sm, y_sm)\n",
        "\n",
        "preds_5000_2 = xg_cl.predict(X_test)\n",
        "        \n",
        "#print('Accuracy : ', accuracy_score(y_test, preds_5000_2))\n",
        "#print('ROC for XGBClassifier(5000) : ', multiclass_roc_auc_score(y_test, preds_5000_2))\n",
        "\n",
        "print('XGBClassifier(5000) + SMOTE')\n",
        "print('Precision: ', multiclass_recall_score(y_test, preds_5000_2))\n",
        "print('Recall: ', multiclass_precision_score(y_test, preds_5000_2))"
      ],
      "execution_count": 92,
      "outputs": [
        {
          "output_type": "stream",
          "text": [
            "XGBClassifier(5000) + SMOTE\n",
            "Precision:  0.6915032679738563\n",
            "Recall:  0.619493908153702\n"
          ],
          "name": "stdout"
        }
      ]
    },
    {
      "cell_type": "code",
      "metadata": {
        "id": "g-e5AFN_UzXb",
        "colab_type": "code",
        "colab": {}
      },
      "source": [
        "result = pd.DataFrame(preds)"
      ],
      "execution_count": null,
      "outputs": []
    },
    {
      "cell_type": "markdown",
      "metadata": {
        "id": "RJcunivxGwLm",
        "colab_type": "text"
      },
      "source": [
        "#**Precision vs. Recall for Imbalanced Classification**\n",
        "You may decide to use precision or recall on your imbalanced classification problem. </br>\n",
        "\n",
        "Maximizing precision will minimize the number false positives, whereas maximizing the recall will minimize the number of false negatives. </br>\n",
        "\n",
        "Precision: Appropriate when minimizing false positives is the focus. </br>\n",
        "Recall: Appropriate when minimizing false negatives is the focus. </br>"
      ]
    }
  ]
}