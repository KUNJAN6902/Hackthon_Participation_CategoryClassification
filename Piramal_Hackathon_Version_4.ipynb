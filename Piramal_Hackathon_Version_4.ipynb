{
  "nbformat": 4,
  "nbformat_minor": 0,
  "metadata": {
    "colab": {
      "name": "Piramal_Hackathon_Version_4.ipynb",
      "provenance": [],
      "collapsed_sections": [
        "LmZ1GymVBpWQ",
        "9fpeq2ZKBy7-",
        "on8zXrJ1Tx5v"
      ],
      "toc_visible": true
    },
    "kernelspec": {
      "name": "python3",
      "display_name": "Python 3"
    }
  },
  "cells": [
    {
      "cell_type": "markdown",
      "metadata": {
        "id": "LmZ1GymVBpWQ",
        "colab_type": "text"
      },
      "source": [
        "#**Approach Description**"
      ]
    },
    {
      "cell_type": "markdown",
      "metadata": {
        "id": "K-mdLsv0BUYB",
        "colab_type": "text"
      },
      "source": [
        "In this Notebook, I am trying to apply Abhishek Thakur's technique that he has mentioned in his article **\"Approaching any ML problem\"**\n",
        "\n",
        "https://www.linkedin.com/pulse/approaching-almost-any-machine-learning-problem-abhishek-thakur/"
      ]
    },
    {
      "cell_type": "markdown",
      "metadata": {
        "id": "9fpeq2ZKBy7-",
        "colab_type": "text"
      },
      "source": [
        "#Loading data"
      ]
    },
    {
      "cell_type": "code",
      "metadata": {
        "id": "o1PNFLjMX31d",
        "colab_type": "code",
        "colab": {
          "base_uri": "https://localhost:8080/",
          "height": 428
        },
        "outputId": "45b772ea-fb8a-40d0-b176-dd18a293dd4f"
      },
      "source": [
        "import pandas as pd\n",
        "\n",
        "train = pd.read_csv('Train.csv')\n",
        "train.head()"
      ],
      "execution_count": null,
      "outputs": [
        {
          "output_type": "execute_result",
          "data": {
            "text/html": [
              "<div>\n",
              "<style scoped>\n",
              "    .dataframe tbody tr th:only-of-type {\n",
              "        vertical-align: middle;\n",
              "    }\n",
              "\n",
              "    .dataframe tbody tr th {\n",
              "        vertical-align: top;\n",
              "    }\n",
              "\n",
              "    .dataframe thead th {\n",
              "        text-align: right;\n",
              "    }\n",
              "</style>\n",
              "<table border=\"1\" class=\"dataframe\">\n",
              "  <thead>\n",
              "    <tr style=\"text-align: right;\">\n",
              "      <th></th>\n",
              "      <th>L_Id</th>\n",
              "      <th>Date of Creation</th>\n",
              "      <th>Agent Category Assigned</th>\n",
              "      <th>Type of Request</th>\n",
              "      <th>Description of the Request</th>\n",
              "      <th>Location</th>\n",
              "      <th>Street Type</th>\n",
              "      <th>Region Type</th>\n",
              "      <th>Ward No</th>\n",
              "      <th>Estimated Date of Completion</th>\n",
              "      <th>Request Solution Category</th>\n",
              "      <th>Actual Date of Completion</th>\n",
              "      <th>Team Assigned</th>\n",
              "      <th>A_1</th>\n",
              "      <th>A_2</th>\n",
              "      <th>Problem Category</th>\n",
              "    </tr>\n",
              "  </thead>\n",
              "  <tbody>\n",
              "    <tr>\n",
              "      <th>0</th>\n",
              "      <td>LM_1</td>\n",
              "      <td>18-12-2018 00:29</td>\n",
              "      <td>1</td>\n",
              "      <td>10</td>\n",
              "      <td>2</td>\n",
              "      <td>13</td>\n",
              "      <td>11223.0</td>\n",
              "      <td>0</td>\n",
              "      <td>7</td>\n",
              "      <td>18-12-2018 09:29</td>\n",
              "      <td>4</td>\n",
              "      <td>18-12-2018 05:34</td>\n",
              "      <td>45</td>\n",
              "      <td>1</td>\n",
              "      <td>1</td>\n",
              "      <td>1</td>\n",
              "    </tr>\n",
              "    <tr>\n",
              "      <th>1</th>\n",
              "      <td>LM_2</td>\n",
              "      <td>30-11-2018 22:19</td>\n",
              "      <td>1</td>\n",
              "      <td>15</td>\n",
              "      <td>17</td>\n",
              "      <td>13</td>\n",
              "      <td>10019.0</td>\n",
              "      <td>0</td>\n",
              "      <td>30</td>\n",
              "      <td>01-12-2018 07:19</td>\n",
              "      <td>8</td>\n",
              "      <td>01-12-2018 00:35</td>\n",
              "      <td>22</td>\n",
              "      <td>2</td>\n",
              "      <td>2</td>\n",
              "      <td>1</td>\n",
              "    </tr>\n",
              "    <tr>\n",
              "      <th>2</th>\n",
              "      <td>LM_3</td>\n",
              "      <td>12-12-2018 02:37</td>\n",
              "      <td>1</td>\n",
              "      <td>11</td>\n",
              "      <td>22</td>\n",
              "      <td>0</td>\n",
              "      <td>11237.0</td>\n",
              "      <td>2</td>\n",
              "      <td>7</td>\n",
              "      <td>12-12-2018 11:37</td>\n",
              "      <td>8</td>\n",
              "      <td>12-12-2018 04:29</td>\n",
              "      <td>17</td>\n",
              "      <td>1</td>\n",
              "      <td>1</td>\n",
              "      <td>1</td>\n",
              "    </tr>\n",
              "    <tr>\n",
              "      <th>3</th>\n",
              "      <td>LM_4</td>\n",
              "      <td>26-12-2018 01:45</td>\n",
              "      <td>1</td>\n",
              "      <td>11</td>\n",
              "      <td>22</td>\n",
              "      <td>12</td>\n",
              "      <td>11213.0</td>\n",
              "      <td>0</td>\n",
              "      <td>7</td>\n",
              "      <td>26-12-2018 10:45</td>\n",
              "      <td>7</td>\n",
              "      <td>26-12-2018 05:26</td>\n",
              "      <td>33</td>\n",
              "      <td>1</td>\n",
              "      <td>1</td>\n",
              "      <td>1</td>\n",
              "    </tr>\n",
              "    <tr>\n",
              "      <th>4</th>\n",
              "      <td>LM_5</td>\n",
              "      <td>24-12-2018 03:22</td>\n",
              "      <td>1</td>\n",
              "      <td>2</td>\n",
              "      <td>27</td>\n",
              "      <td>13</td>\n",
              "      <td>10460.0</td>\n",
              "      <td>0</td>\n",
              "      <td>6</td>\n",
              "      <td>24-12-2018 12:22</td>\n",
              "      <td>4</td>\n",
              "      <td>24-12-2018 10:20</td>\n",
              "      <td>24</td>\n",
              "      <td>0</td>\n",
              "      <td>0</td>\n",
              "      <td>1</td>\n",
              "    </tr>\n",
              "  </tbody>\n",
              "</table>\n",
              "</div>"
            ],
            "text/plain": [
              "   L_Id  Date of Creation  Agent Category Assigned  ...  A_1  A_2  Problem Category\n",
              "0  LM_1  18-12-2018 00:29                        1  ...    1    1                 1\n",
              "1  LM_2  30-11-2018 22:19                        1  ...    2    2                 1\n",
              "2  LM_3  12-12-2018 02:37                        1  ...    1    1                 1\n",
              "3  LM_4  26-12-2018 01:45                        1  ...    1    1                 1\n",
              "4  LM_5  24-12-2018 03:22                        1  ...    0    0                 1\n",
              "\n",
              "[5 rows x 16 columns]"
            ]
          },
          "metadata": {
            "tags": []
          },
          "execution_count": 46
        }
      ]
    },
    {
      "cell_type": "markdown",
      "metadata": {
        "id": "on8zXrJ1Tx5v",
        "colab_type": "text"
      },
      "source": [
        "#**Numerical Variables**"
      ]
    },
    {
      "cell_type": "code",
      "metadata": {
        "id": "URLRajNtUsF_",
        "colab_type": "code",
        "colab": {
          "base_uri": "https://localhost:8080/",
          "height": 306
        },
        "outputId": "f746bdda-5ac5-49ef-9814-350e2d3495ab"
      },
      "source": [
        "train.dtypes"
      ],
      "execution_count": null,
      "outputs": [
        {
          "output_type": "execute_result",
          "data": {
            "text/plain": [
              "L_Id                             object\n",
              "Date of Creation                 object\n",
              "Agent Category Assigned           int64\n",
              "Type of Request                   int64\n",
              "Description of the Request        int64\n",
              "Location                          int64\n",
              "Street Type                     float64\n",
              "Region Type                       int64\n",
              "Ward No                           int64\n",
              "Estimated Date of Completion     object\n",
              "Request Solution Category         int64\n",
              "Actual Date of Completion        object\n",
              "Team Assigned                     int64\n",
              "A_1                               int64\n",
              "A_2                               int64\n",
              "Problem Category                  int64\n",
              "dtype: object"
            ]
          },
          "metadata": {
            "tags": []
          },
          "execution_count": 47
        }
      ]
    },
    {
      "cell_type": "code",
      "metadata": {
        "id": "FAnb2TF3ToST",
        "colab_type": "code",
        "colab": {
          "base_uri": "https://localhost:8080/",
          "height": 102
        },
        "outputId": "b8427410-488f-4fb6-9b3c-471f28e8365b"
      },
      "source": [
        "train.select_dtypes(include=['int64','float64']).columns"
      ],
      "execution_count": null,
      "outputs": [
        {
          "output_type": "execute_result",
          "data": {
            "text/plain": [
              "Index(['Agent Category Assigned', 'Type of Request',\n",
              "       'Description of the Request', 'Location', 'Street Type', 'Region Type',\n",
              "       'Ward No', 'Request Solution Category', 'Team Assigned', 'A_1', 'A_2',\n",
              "       'Problem Category'],\n",
              "      dtype='object')"
            ]
          },
          "metadata": {
            "tags": []
          },
          "execution_count": 48
        }
      ]
    },
    {
      "cell_type": "markdown",
      "metadata": {
        "id": "Pv6JK7MsYaMP",
        "colab_type": "text"
      },
      "source": [
        "We will keep all Numeric features and remove all Other Columns\n",
        "\n",
        "---\n",
        "\n"
      ]
    },
    {
      "cell_type": "code",
      "metadata": {
        "id": "wxu8bKKSZYfk",
        "colab_type": "code",
        "colab": {}
      },
      "source": [
        "train.drop(['L_Id', 'Date of Creation', 'Estimated Date of Completion', 'Actual Date of Completion'], axis=1, inplace=True)"
      ],
      "execution_count": null,
      "outputs": []
    },
    {
      "cell_type": "code",
      "metadata": {
        "id": "GB9gqA7dZs-L",
        "colab_type": "code",
        "colab": {
          "base_uri": "https://localhost:8080/",
          "height": 238
        },
        "outputId": "90492053-1c85-4941-cb99-7a58202bc9b0"
      },
      "source": [
        "train.head()"
      ],
      "execution_count": null,
      "outputs": [
        {
          "output_type": "execute_result",
          "data": {
            "text/html": [
              "<div>\n",
              "<style scoped>\n",
              "    .dataframe tbody tr th:only-of-type {\n",
              "        vertical-align: middle;\n",
              "    }\n",
              "\n",
              "    .dataframe tbody tr th {\n",
              "        vertical-align: top;\n",
              "    }\n",
              "\n",
              "    .dataframe thead th {\n",
              "        text-align: right;\n",
              "    }\n",
              "</style>\n",
              "<table border=\"1\" class=\"dataframe\">\n",
              "  <thead>\n",
              "    <tr style=\"text-align: right;\">\n",
              "      <th></th>\n",
              "      <th>Agent Category Assigned</th>\n",
              "      <th>Type of Request</th>\n",
              "      <th>Description of the Request</th>\n",
              "      <th>Location</th>\n",
              "      <th>Street Type</th>\n",
              "      <th>Region Type</th>\n",
              "      <th>Ward No</th>\n",
              "      <th>Request Solution Category</th>\n",
              "      <th>Team Assigned</th>\n",
              "      <th>A_1</th>\n",
              "      <th>A_2</th>\n",
              "      <th>Problem Category</th>\n",
              "    </tr>\n",
              "  </thead>\n",
              "  <tbody>\n",
              "    <tr>\n",
              "      <th>0</th>\n",
              "      <td>1</td>\n",
              "      <td>10</td>\n",
              "      <td>2</td>\n",
              "      <td>13</td>\n",
              "      <td>11223.0</td>\n",
              "      <td>0</td>\n",
              "      <td>7</td>\n",
              "      <td>4</td>\n",
              "      <td>45</td>\n",
              "      <td>1</td>\n",
              "      <td>1</td>\n",
              "      <td>1</td>\n",
              "    </tr>\n",
              "    <tr>\n",
              "      <th>1</th>\n",
              "      <td>1</td>\n",
              "      <td>15</td>\n",
              "      <td>17</td>\n",
              "      <td>13</td>\n",
              "      <td>10019.0</td>\n",
              "      <td>0</td>\n",
              "      <td>30</td>\n",
              "      <td>8</td>\n",
              "      <td>22</td>\n",
              "      <td>2</td>\n",
              "      <td>2</td>\n",
              "      <td>1</td>\n",
              "    </tr>\n",
              "    <tr>\n",
              "      <th>2</th>\n",
              "      <td>1</td>\n",
              "      <td>11</td>\n",
              "      <td>22</td>\n",
              "      <td>0</td>\n",
              "      <td>11237.0</td>\n",
              "      <td>2</td>\n",
              "      <td>7</td>\n",
              "      <td>8</td>\n",
              "      <td>17</td>\n",
              "      <td>1</td>\n",
              "      <td>1</td>\n",
              "      <td>1</td>\n",
              "    </tr>\n",
              "    <tr>\n",
              "      <th>3</th>\n",
              "      <td>1</td>\n",
              "      <td>11</td>\n",
              "      <td>22</td>\n",
              "      <td>12</td>\n",
              "      <td>11213.0</td>\n",
              "      <td>0</td>\n",
              "      <td>7</td>\n",
              "      <td>7</td>\n",
              "      <td>33</td>\n",
              "      <td>1</td>\n",
              "      <td>1</td>\n",
              "      <td>1</td>\n",
              "    </tr>\n",
              "    <tr>\n",
              "      <th>4</th>\n",
              "      <td>1</td>\n",
              "      <td>2</td>\n",
              "      <td>27</td>\n",
              "      <td>13</td>\n",
              "      <td>10460.0</td>\n",
              "      <td>0</td>\n",
              "      <td>6</td>\n",
              "      <td>4</td>\n",
              "      <td>24</td>\n",
              "      <td>0</td>\n",
              "      <td>0</td>\n",
              "      <td>1</td>\n",
              "    </tr>\n",
              "  </tbody>\n",
              "</table>\n",
              "</div>"
            ],
            "text/plain": [
              "   Agent Category Assigned  Type of Request  ...  A_2  Problem Category\n",
              "0                        1               10  ...    1                 1\n",
              "1                        1               15  ...    2                 1\n",
              "2                        1               11  ...    1                 1\n",
              "3                        1               11  ...    1                 1\n",
              "4                        1                2  ...    0                 1\n",
              "\n",
              "[5 rows x 12 columns]"
            ]
          },
          "metadata": {
            "tags": []
          },
          "execution_count": 50
        }
      ]
    },
    {
      "cell_type": "code",
      "metadata": {
        "id": "WZ5oyavOojM8",
        "colab_type": "code",
        "colab": {
          "base_uri": "https://localhost:8080/",
          "height": 561
        },
        "outputId": "bd56d024-b3d4-4578-9d56-f74830a5425c"
      },
      "source": [
        "print('Agent Category Assigned : ', train['Agent Category Assigned'].unique())\n",
        "print('Type of Request : ', train['Type of Request'].unique())\n",
        "print('Description of the Request : ', train['Description of the Request'].unique())\n",
        "print('Location : ', train['Location'].unique())\n",
        "print('Street Type : ', train['Street Type'].unique())\n",
        "print('Region Type : ', train['Region Type'].unique())\n",
        "print('Ward No : ', train['Ward No'].unique())\n",
        "print('Request Solution Category : ', train['Request Solution Category'].unique())\n",
        "print('Team Assigned : ', train['Team Assigned'].unique())\n",
        "print('A_1 : ', train.A_1.unique())\n",
        "print('A_2 : ', train.A_2.unique())"
      ],
      "execution_count": null,
      "outputs": [
        {
          "output_type": "stream",
          "text": [
            "Agent Category Assigned :  [1]\n",
            "Type of Request :  [10 15 11  2 14 20  3  1  0 13  8 16  5 18 17 12 19  4  9]\n",
            "Description of the Request :  [ 2 17 22 27 23 14 31 10 34 20 15  3 41 30  6  1 25 35 29 26  5  0 11 21\n",
            " 28 19 37 40  7 12  8 39 36 38 24  4 32  9]\n",
            "Location :  [13  0 12 10  7  9  6  3  5  8 16 14  1]\n",
            "Street Type :  [11223. 10019. 11237. 11213. 10460. 11375. 10009. 11354. 11201. 11434.\n",
            " 10314. 11235.    nan 10457. 11219. 10308. 10017. 10458. 11432. 10003.\n",
            " 10462. 11214. 11204. 11228. 11411. 11356. 11102. 11226. 10312. 10026.\n",
            " 10039. 10027. 11101. 10029. 11373. 11385. 10451. 11225. 11365. 11416.\n",
            " 10466. 11211. 11206. 10034. 11216. 10002. 11229. 11232. 10016. 11218.\n",
            " 11357. 10028. 11238. 10472. 11230. 11103. 11691. 10453. 11207. 11358.\n",
            " 10461. 10001. 11368. 11694. 11355. 11209. 10032. 10023. 10465. 10040.\n",
            " 11366. 11419. 11436. 11378. 10013. 11429. 10452. 11217. 11415. 11417.\n",
            " 11367. 10302. 11105. 11414. 11208. 11418. 11224. 11220. 10065. 10468.\n",
            " 11233. 11106. 10036. 11104. 11420. 11374. 10010. 11234. 11370. 11210.\n",
            " 11215. 10469. 10456. 10025. 10075. 11433. 11363. 10459. 10021. 11426.\n",
            " 10467. 10470. 11231. 10018. 10475. 11236. 10031. 10303. 11221. 11435.\n",
            " 11212. 11203. 10011. 11422. 10022. 10012. 11205. 11421. 11369. 10024.\n",
            " 11222. 11377. 10037. 11249. 10033. 11239. 11372. 10463. 10014. 11427.\n",
            " 10030. 11362. 10304. 11379. 11004. 10454. 11364. 11423. 10305. 10038.\n",
            " 11361. 11413. 10301. 10473. 11428. 10306. 11040. 10035. 10464. 10004.\n",
            " 11693. 11692. 10309. 11412. 10471. 10128. 10455. 11430. 10281. 10007.\n",
            " 10310. 10006. 11360. 10307. 10005. 10474. 10282. 11109.]\n",
            "Region Type :  [0 2 4 1 3 5]\n",
            "Ward No :  [ 7 30  6 17 16 23 45 31  8 10  1 26 13 38 18 33 47 14 11 39 43 27 35 24\n",
            " 21 37 46 42 36 12 25  4 40 48 49 22 28 19 32 20  3 44 29  0 41 34]\n",
            "Request Solution Category :  [ 4  8  7  6 12  9 13  2 10 15 11  5]\n",
            "Team Assigned :  [45 22 17 33 24 27 13 31  7 51  5 56  0 49 15 26 28  8 44 41  4 54 42 38\n",
            " 46 19 23  1 37 47 39 48  2 50 20 29 34 36 55 21 18 30 40 35 43  3 53 16\n",
            "  9 25 52 12 14 59 58 10  6 57 11 32 61 65 64 66 60]\n",
            "A_1 :  [1 2 0 3 4 5]\n",
            "A_2 :  [1 2 0 3 4 5]\n"
          ],
          "name": "stdout"
        }
      ]
    },
    {
      "cell_type": "code",
      "metadata": {
        "id": "DiQK7SLnG_1S",
        "colab_type": "code",
        "colab": {}
      },
      "source": [
        "#train['Street Type'] = train['Street Type'].fillna(train['Street Type'].mean())\n",
        "\n",
        "train['Street Type'] = train['Street Type'].fillna(train['Street Type'].mode()[0])"
      ],
      "execution_count": null,
      "outputs": []
    },
    {
      "cell_type": "code",
      "metadata": {
        "id": "j_jsAqEtGsgU",
        "colab_type": "code",
        "colab": {
          "base_uri": "https://localhost:8080/",
          "height": 238
        },
        "outputId": "86379062-afe1-4a1c-971d-cecc46626259"
      },
      "source": [
        "train.isnull().sum()"
      ],
      "execution_count": null,
      "outputs": [
        {
          "output_type": "execute_result",
          "data": {
            "text/plain": [
              "Agent Category Assigned       0\n",
              "Type of Request               0\n",
              "Description of the Request    0\n",
              "Location                      0\n",
              "Street Type                   0\n",
              "Region Type                   0\n",
              "Ward No                       0\n",
              "Request Solution Category     0\n",
              "Team Assigned                 0\n",
              "A_1                           0\n",
              "A_2                           0\n",
              "Problem Category              0\n",
              "dtype: int64"
            ]
          },
          "metadata": {
            "tags": []
          },
          "execution_count": 53
        }
      ]
    },
    {
      "cell_type": "markdown",
      "metadata": {
        "id": "hEh2y9TqvH9w",
        "colab_type": "text"
      },
      "source": [
        "#**Checking Dataset SkewNess**"
      ]
    },
    {
      "cell_type": "code",
      "metadata": {
        "id": "vWbfh0a0uoaF",
        "colab_type": "code",
        "colab": {
          "base_uri": "https://localhost:8080/",
          "height": 204
        },
        "outputId": "6e6253cf-501a-4e79-a391-33d659693ca6"
      },
      "source": [
        "# Checking Problem Category wise Data frequency \n",
        "print('Problem Category frequency :')\n",
        "print(train['Problem Category'].value_counts(normalize=True))\n",
        "print(' ')\n",
        "print('Problem Category count :')\n",
        "print(train['Problem Category'].value_counts())"
      ],
      "execution_count": null,
      "outputs": [
        {
          "output_type": "stream",
          "text": [
            "Problem Category frequency :\n",
            "1    0.931977\n",
            "2    0.046746\n",
            "0    0.021277\n",
            "Name: Problem Category, dtype: float64\n",
            " \n",
            "Problem Category count :\n",
            "1    6001\n",
            "2     301\n",
            "0     137\n",
            "Name: Problem Category, dtype: int64\n"
          ],
          "name": "stdout"
        }
      ]
    },
    {
      "cell_type": "markdown",
      "metadata": {
        "id": "-6K5kiQRw3nE",
        "colab_type": "text"
      },
      "source": [
        "Dataset is highly skewed. \n",
        "I will go for technique to deal with imbalanced Dataset.\n",
        "\n",
        "We have two options here : \n",
        "(1) UnderSampling\n",
        "(2) OverSampling\n",
        "\n",
        "Let's try Undersampling first : "
      ]
    },
    {
      "cell_type": "code",
      "metadata": {
        "id": "yFmuWzph3P9T",
        "colab_type": "code",
        "colab": {
          "base_uri": "https://localhost:8080/",
          "height": 238
        },
        "outputId": "0ea1f9d1-a2cf-4922-eb78-6e487e6a3c5a"
      },
      "source": [
        "# Problem Category count :\n",
        "#1    6001\n",
        "#2     301\n",
        "#0     137\n",
        "\n",
        "ProbCategory_0 = train.loc[train['Problem Category'] == 0]\n",
        "ProbCategory_1 = train.loc[train['Problem Category'] == 1][:300]\n",
        "ProbCategory_2 = train.loc[train['Problem Category'] == 2]\n",
        "\n",
        "normal_distributed_df = pd.concat([ProbCategory_0, ProbCategory_1, ProbCategory_2])\n",
        "\n",
        "# Shuffle dataframe rows\n",
        "new_df = normal_distributed_df.sample(frac=1, random_state=42)\n",
        "\n",
        "new_df.head()"
      ],
      "execution_count": null,
      "outputs": [
        {
          "output_type": "execute_result",
          "data": {
            "text/html": [
              "<div>\n",
              "<style scoped>\n",
              "    .dataframe tbody tr th:only-of-type {\n",
              "        vertical-align: middle;\n",
              "    }\n",
              "\n",
              "    .dataframe tbody tr th {\n",
              "        vertical-align: top;\n",
              "    }\n",
              "\n",
              "    .dataframe thead th {\n",
              "        text-align: right;\n",
              "    }\n",
              "</style>\n",
              "<table border=\"1\" class=\"dataframe\">\n",
              "  <thead>\n",
              "    <tr style=\"text-align: right;\">\n",
              "      <th></th>\n",
              "      <th>Agent Category Assigned</th>\n",
              "      <th>Type of Request</th>\n",
              "      <th>Description of the Request</th>\n",
              "      <th>Location</th>\n",
              "      <th>Street Type</th>\n",
              "      <th>Region Type</th>\n",
              "      <th>Ward No</th>\n",
              "      <th>Request Solution Category</th>\n",
              "      <th>Team Assigned</th>\n",
              "      <th>A_1</th>\n",
              "      <th>A_2</th>\n",
              "      <th>Problem Category</th>\n",
              "    </tr>\n",
              "  </thead>\n",
              "  <tbody>\n",
              "    <tr>\n",
              "      <th>170</th>\n",
              "      <td>1</td>\n",
              "      <td>15</td>\n",
              "      <td>5</td>\n",
              "      <td>13</td>\n",
              "      <td>10065.0</td>\n",
              "      <td>2</td>\n",
              "      <td>30</td>\n",
              "      <td>10</td>\n",
              "      <td>34</td>\n",
              "      <td>2</td>\n",
              "      <td>2</td>\n",
              "      <td>1</td>\n",
              "    </tr>\n",
              "    <tr>\n",
              "      <th>216</th>\n",
              "      <td>1</td>\n",
              "      <td>10</td>\n",
              "      <td>34</td>\n",
              "      <td>13</td>\n",
              "      <td>11691.0</td>\n",
              "      <td>2</td>\n",
              "      <td>14</td>\n",
              "      <td>4</td>\n",
              "      <td>55</td>\n",
              "      <td>3</td>\n",
              "      <td>3</td>\n",
              "      <td>1</td>\n",
              "    </tr>\n",
              "    <tr>\n",
              "      <th>100</th>\n",
              "      <td>1</td>\n",
              "      <td>2</td>\n",
              "      <td>31</td>\n",
              "      <td>13</td>\n",
              "      <td>10457.0</td>\n",
              "      <td>0</td>\n",
              "      <td>6</td>\n",
              "      <td>8</td>\n",
              "      <td>20</td>\n",
              "      <td>0</td>\n",
              "      <td>0</td>\n",
              "      <td>1</td>\n",
              "    </tr>\n",
              "    <tr>\n",
              "      <th>1638</th>\n",
              "      <td>1</td>\n",
              "      <td>13</td>\n",
              "      <td>22</td>\n",
              "      <td>7</td>\n",
              "      <td>11385.0</td>\n",
              "      <td>4</td>\n",
              "      <td>31</td>\n",
              "      <td>12</td>\n",
              "      <td>0</td>\n",
              "      <td>5</td>\n",
              "      <td>5</td>\n",
              "      <td>2</td>\n",
              "    </tr>\n",
              "    <tr>\n",
              "      <th>23</th>\n",
              "      <td>1</td>\n",
              "      <td>11</td>\n",
              "      <td>22</td>\n",
              "      <td>0</td>\n",
              "      <td>10003.0</td>\n",
              "      <td>0</td>\n",
              "      <td>30</td>\n",
              "      <td>7</td>\n",
              "      <td>8</td>\n",
              "      <td>2</td>\n",
              "      <td>2</td>\n",
              "      <td>1</td>\n",
              "    </tr>\n",
              "  </tbody>\n",
              "</table>\n",
              "</div>"
            ],
            "text/plain": [
              "      Agent Category Assigned  Type of Request  ...  A_2  Problem Category\n",
              "170                         1               15  ...    2                 1\n",
              "216                         1               10  ...    3                 1\n",
              "100                         1                2  ...    0                 1\n",
              "1638                        1               13  ...    5                 2\n",
              "23                          1               11  ...    2                 1\n",
              "\n",
              "[5 rows x 12 columns]"
            ]
          },
          "metadata": {
            "tags": []
          },
          "execution_count": 55
        }
      ]
    },
    {
      "cell_type": "code",
      "metadata": {
        "id": "n1kSu-2k4FI-",
        "colab_type": "code",
        "colab": {
          "base_uri": "https://localhost:8080/",
          "height": 34
        },
        "outputId": "9cd903e4-be86-466a-94fc-f7959caf4be7"
      },
      "source": [
        "new_df.shape"
      ],
      "execution_count": null,
      "outputs": [
        {
          "output_type": "execute_result",
          "data": {
            "text/plain": [
              "(738, 12)"
            ]
          },
          "metadata": {
            "tags": []
          },
          "execution_count": 56
        }
      ]
    },
    {
      "cell_type": "markdown",
      "metadata": {
        "id": "7XUO4L228Zyf",
        "colab_type": "text"
      },
      "source": [
        "#**Correlation Matrix**"
      ]
    },
    {
      "cell_type": "code",
      "metadata": {
        "id": "eQZpMX4q8tkM",
        "colab_type": "code",
        "colab": {
          "base_uri": "https://localhost:8080/",
          "height": 718
        },
        "outputId": "c9441b02-2cda-40f6-9932-6c7f61f3e78d"
      },
      "source": [
        "import matplotlib.pyplot as plt\n",
        "import seaborn as sns\n",
        "from pylab import rcParams\n",
        "rcParams['figure.figsize'] = 12, 10\n",
        "\n",
        "sub_sample_corr = new_df.corr()\n",
        "sns.heatmap(sub_sample_corr, cmap='coolwarm_r', annot_kws={'size':20})\n",
        "plt.show()"
      ],
      "execution_count": null,
      "outputs": [
        {
          "output_type": "display_data",
          "data": {
            "image/png": "[encoded data removed]",
            "text/plain": [
              "<Figure size 864x720 with 2 Axes>"
            ]
          },
          "metadata": {
            "tags": [],
            "needs_background": "light"
          }
        }
      ]
    },
    {
      "cell_type": "markdown",
      "metadata": {
        "id": "l8Upuli5-iTw",
        "colab_type": "text"
      },
      "source": [
        "# **Applying Classifiers**"
      ]
    },
    {
      "cell_type": "code",
      "metadata": {
        "id": "_kzVtlne9QFR",
        "colab_type": "code",
        "colab": {}
      },
      "source": [
        "new_df_temp = new_df\n",
        "\n",
        "# Splitting Independent and Dependent Variables\n",
        "X = new_df_temp.loc[:, new_df_temp.columns != 'Problem Category'].values\n",
        "y = new_df_temp['Problem Category'].values"
      ],
      "execution_count": null,
      "outputs": []
    },
    {
      "cell_type": "code",
      "metadata": {
        "id": "uPJxXvAz_4y7",
        "colab_type": "code",
        "colab": {}
      },
      "source": [
        "from sklearn.model_selection import train_test_split\n",
        "\n",
        "# Splitting the dataset into the Training set and Test set\n",
        "X_train, X_test, y_train, y_test = train_test_split(X, y, test_size=0.25, random_state=0, stratify=y)"
      ],
      "execution_count": null,
      "outputs": []
    },
    {
      "cell_type": "code",
      "metadata": {
        "id": "KQw-oVFaBid2",
        "colab_type": "code",
        "colab": {
          "base_uri": "https://localhost:8080/",
          "height": 34
        },
        "outputId": "6c755cb2-eeb6-411f-d087-1c25b0ce593e"
      },
      "source": [
        "#No Point in applying Linear Classifier as Data is not Normalized\n",
        "\n",
        "from sklearn.linear_model import LogisticRegression\n",
        "logisticRegr = LogisticRegression()\n",
        "logisticRegr.fit(X_train, y_train)\n",
        "\n",
        "predictions = logisticRegr.predict(X_test)\n",
        "score = logisticRegr.score(X_test, y_test)\n",
        "print(score)"
      ],
      "execution_count": null,
      "outputs": [
        {
          "output_type": "stream",
          "text": [
            "0.7945945945945946\n"
          ],
          "name": "stdout"
        }
      ]
    },
    {
      "cell_type": "code",
      "metadata": {
        "id": "dTK3LlXQCQYO",
        "colab_type": "code",
        "colab": {}
      },
      "source": [
        "import numpy as np\n",
        "from sklearn.metrics import roc_auc_score\n",
        "from sklearn.preprocessing import LabelBinarizer\n",
        "from sklearn.metrics import precision_score\n",
        "from sklearn.metrics import recall_score\n",
        "\n",
        "#In an imbalanced classification problem with more than two classes, precision is \n",
        "#calculated as the sum of true positives across all classes divided by the sum of \n",
        "#true positives and false positives across all classes.\n",
        "\n",
        "#When using the precision_score() function for multiclass classification, it is \n",
        "#important to specify the minority classes via the “labels” argument and to perform \n",
        "#set the “average” argument to ‘micro‘ to ensure the calculation is performed as we expect.\n",
        "# calculate prediction\n",
        "def multiclass_precision_score(y_test, y_pred, average=\"macro\"):\n",
        "  precision = precision_score(y_test, y_pred, labels=[0,2], average=average)\n",
        "  return precision\n",
        "\n",
        "#Recall is a metric that quantifies the number of correct positive predictions made \n",
        "#out of all positive predictions that could have been made.\n",
        "# calculate recall\n",
        "def multiclass_recall_score(y_test, y_pred, average='macro'):\n",
        "  recall = recall_score(y_test, y_pred, average=average)\n",
        "  return recall"
      ],
      "execution_count": null,
      "outputs": []
    },
    {
      "cell_type": "code",
      "metadata": {
        "id": "c94GmoexAfhE",
        "colab_type": "code",
        "colab": {
          "base_uri": "https://localhost:8080/",
          "height": 68
        },
        "outputId": "bad54354-b531-4165-fa35-218a63774927"
      },
      "source": [
        "import xgboost as xgb\n",
        "import warnings\n",
        "warnings.filterwarnings(\"ignore\")\n",
        "warnings.filterwarnings(module='sklearn*', action='ignore', category=DeprecationWarning)\n",
        "from sklearn.tree import DecisionTreeClassifier \n",
        "from sklearn.ensemble import RandomForestClassifier\n",
        "from sklearn.metrics import confusion_matrix\n",
        "from sklearn.metrics import accuracy_score\n",
        "\n",
        "dtree_model = DecisionTreeClassifier(max_depth=3).fit(X_train, y_train)   #Optimum Value for max_depth : 10\n",
        "dtree_predictions = dtree_model.predict(X_test)\n",
        "\n",
        "print('DecisionTreeClassifier + UnderSampling')\n",
        "print('Precision: ', multiclass_recall_score(y_test, dtree_predictions))\n",
        "print('Recall: ', multiclass_precision_score(y_test, dtree_predictions))"
      ],
      "execution_count": null,
      "outputs": [
        {
          "output_type": "stream",
          "text": [
            "DecisionTreeClassifier + UnderSampling\n",
            "Precision:  0.6666666666666666\n",
            "Recall:  0.34545454545454546\n"
          ],
          "name": "stdout"
        }
      ]
    },
    {
      "cell_type": "code",
      "metadata": {
        "id": "4ARJpJB-1pmf",
        "colab_type": "code",
        "colab": {
          "base_uri": "https://localhost:8080/",
          "height": 103
        },
        "outputId": "b86bd331-046e-4a69-9df1-562cbdd61314"
      },
      "source": [
        "# Creates a confusion matrix\n",
        "cm = confusion_matrix(y_test, dtree_predictions)\n",
        "cm_df = pd.DataFrame(cm)\n",
        "cm_df.style.background_gradient(cmap='coolwarm')"
      ],
      "execution_count": null,
      "outputs": [
        {
          "output_type": "execute_result",
          "data": {
            "text/html": [
              "<style  type=\"text/css\" >\n",
              "    #T_84108ed2_e79f_11ea_b15f_0242ac1c0002row0_col0 {\n",
              "            background-color:  #3b4cc0;\n",
              "            color:  #f1f1f1;\n",
              "        }    #T_84108ed2_e79f_11ea_b15f_0242ac1c0002row0_col1 {\n",
              "            background-color:  #3b4cc0;\n",
              "            color:  #f1f1f1;\n",
              "        }    #T_84108ed2_e79f_11ea_b15f_0242ac1c0002row0_col2 {\n",
              "            background-color:  #cedaeb;\n",
              "            color:  #000000;\n",
              "        }    #T_84108ed2_e79f_11ea_b15f_0242ac1c0002row1_col0 {\n",
              "            background-color:  #3b4cc0;\n",
              "            color:  #f1f1f1;\n",
              "        }    #T_84108ed2_e79f_11ea_b15f_0242ac1c0002row1_col1 {\n",
              "            background-color:  #b40426;\n",
              "            color:  #f1f1f1;\n",
              "        }    #T_84108ed2_e79f_11ea_b15f_0242ac1c0002row1_col2 {\n",
              "            background-color:  #3b4cc0;\n",
              "            color:  #f1f1f1;\n",
              "        }    #T_84108ed2_e79f_11ea_b15f_0242ac1c0002row2_col0 {\n",
              "            background-color:  #3b4cc0;\n",
              "            color:  #f1f1f1;\n",
              "        }    #T_84108ed2_e79f_11ea_b15f_0242ac1c0002row2_col1 {\n",
              "            background-color:  #3b4cc0;\n",
              "            color:  #f1f1f1;\n",
              "        }    #T_84108ed2_e79f_11ea_b15f_0242ac1c0002row2_col2 {\n",
              "            background-color:  #b40426;\n",
              "            color:  #f1f1f1;\n",
              "        }</style><table id=\"T_84108ed2_e79f_11ea_b15f_0242ac1c0002\" ><thead>    <tr>        <th class=\"blank level0\" ></th>        <th class=\"col_heading level0 col0\" >0</th>        <th class=\"col_heading level0 col1\" >1</th>        <th class=\"col_heading level0 col2\" >2</th>    </tr></thead><tbody>\n",
              "                <tr>\n",
              "                        <th id=\"T_84108ed2_e79f_11ea_b15f_0242ac1c0002level0_row0\" class=\"row_heading level0 row0\" >0</th>\n",
              "                        <td id=\"T_84108ed2_e79f_11ea_b15f_0242ac1c0002row0_col0\" class=\"data row0 col0\" >0</td>\n",
              "                        <td id=\"T_84108ed2_e79f_11ea_b15f_0242ac1c0002row0_col1\" class=\"data row0 col1\" >0</td>\n",
              "                        <td id=\"T_84108ed2_e79f_11ea_b15f_0242ac1c0002row0_col2\" class=\"data row0 col2\" >34</td>\n",
              "            </tr>\n",
              "            <tr>\n",
              "                        <th id=\"T_84108ed2_e79f_11ea_b15f_0242ac1c0002level0_row1\" class=\"row_heading level0 row1\" >1</th>\n",
              "                        <td id=\"T_84108ed2_e79f_11ea_b15f_0242ac1c0002row1_col0\" class=\"data row1 col0\" >0</td>\n",
              "                        <td id=\"T_84108ed2_e79f_11ea_b15f_0242ac1c0002row1_col1\" class=\"data row1 col1\" >75</td>\n",
              "                        <td id=\"T_84108ed2_e79f_11ea_b15f_0242ac1c0002row1_col2\" class=\"data row1 col2\" >0</td>\n",
              "            </tr>\n",
              "            <tr>\n",
              "                        <th id=\"T_84108ed2_e79f_11ea_b15f_0242ac1c0002level0_row2\" class=\"row_heading level0 row2\" >2</th>\n",
              "                        <td id=\"T_84108ed2_e79f_11ea_b15f_0242ac1c0002row2_col0\" class=\"data row2 col0\" >0</td>\n",
              "                        <td id=\"T_84108ed2_e79f_11ea_b15f_0242ac1c0002row2_col1\" class=\"data row2 col1\" >0</td>\n",
              "                        <td id=\"T_84108ed2_e79f_11ea_b15f_0242ac1c0002row2_col2\" class=\"data row2 col2\" >76</td>\n",
              "            </tr>\n",
              "    </tbody></table>"
            ],
            "text/plain": [
              "<pandas.io.formats.style.Styler at 0x7fb5e0bbee48>"
            ]
          },
          "metadata": {
            "tags": []
          },
          "execution_count": 62
        }
      ]
    },
    {
      "cell_type": "code",
      "metadata": {
        "id": "sOY-C35TAycj",
        "colab_type": "code",
        "colab": {
          "base_uri": "https://localhost:8080/",
          "height": 68
        },
        "outputId": "80b72e98-a538-4a3d-c4b8-154e7a1ac398"
      },
      "source": [
        "rf_clf = RandomForestClassifier(random_state=0, n_jobs=-1)   \n",
        "rf_clf.fit(X_train, y_train)\n",
        "rf_predictions = rf_clf.predict(X_test)\n",
        "\n",
        "print('RandomForestClassifier + UnderSampling')\n",
        "print('Precision: ', multiclass_recall_score(y_test, rf_predictions))\n",
        "print('Recall: ', multiclass_precision_score(y_test, rf_predictions))"
      ],
      "execution_count": null,
      "outputs": [
        {
          "output_type": "stream",
          "text": [
            "RandomForestClassifier + UnderSampling\n",
            "Precision:  0.6882800137598899\n",
            "Recall:  0.6842948717948718\n"
          ],
          "name": "stdout"
        }
      ]
    },
    {
      "cell_type": "code",
      "metadata": {
        "id": "bwpELkY22S7e",
        "colab_type": "code",
        "colab": {
          "base_uri": "https://localhost:8080/",
          "height": 103
        },
        "outputId": "84c661a3-17cf-4c3b-e6d4-5305a76d9084"
      },
      "source": [
        "# Creates a confusion matrix\n",
        "cm = confusion_matrix(y_test, rf_predictions)\n",
        "cm_df = pd.DataFrame(cm)\n",
        "cm_df.style.background_gradient(cmap='coolwarm')"
      ],
      "execution_count": null,
      "outputs": [
        {
          "output_type": "execute_result",
          "data": {
            "text/html": [
              "<style  type=\"text/css\" >\n",
              "    #T_e6d1c644_e79f_11ea_b15f_0242ac1c0002row0_col0 {\n",
              "            background-color:  #b40426;\n",
              "            color:  #f1f1f1;\n",
              "        }    #T_e6d1c644_e79f_11ea_b15f_0242ac1c0002row0_col1 {\n",
              "            background-color:  #3b4cc0;\n",
              "            color:  #f1f1f1;\n",
              "        }    #T_e6d1c644_e79f_11ea_b15f_0242ac1c0002row0_col2 {\n",
              "            background-color:  #c1d4f4;\n",
              "            color:  #000000;\n",
              "        }    #T_e6d1c644_e79f_11ea_b15f_0242ac1c0002row1_col0 {\n",
              "            background-color:  #3b4cc0;\n",
              "            color:  #f1f1f1;\n",
              "        }    #T_e6d1c644_e79f_11ea_b15f_0242ac1c0002row1_col1 {\n",
              "            background-color:  #b40426;\n",
              "            color:  #f1f1f1;\n",
              "        }    #T_e6d1c644_e79f_11ea_b15f_0242ac1c0002row1_col2 {\n",
              "            background-color:  #3b4cc0;\n",
              "            color:  #f1f1f1;\n",
              "        }    #T_e6d1c644_e79f_11ea_b15f_0242ac1c0002row2_col0 {\n",
              "            background-color:  #dddcdc;\n",
              "            color:  #000000;\n",
              "        }    #T_e6d1c644_e79f_11ea_b15f_0242ac1c0002row2_col1 {\n",
              "            background-color:  #3e51c5;\n",
              "            color:  #f1f1f1;\n",
              "        }    #T_e6d1c644_e79f_11ea_b15f_0242ac1c0002row2_col2 {\n",
              "            background-color:  #b40426;\n",
              "            color:  #f1f1f1;\n",
              "        }</style><table id=\"T_e6d1c644_e79f_11ea_b15f_0242ac1c0002\" ><thead>    <tr>        <th class=\"blank level0\" ></th>        <th class=\"col_heading level0 col0\" >0</th>        <th class=\"col_heading level0 col1\" >1</th>        <th class=\"col_heading level0 col2\" >2</th>    </tr></thead><tbody>\n",
              "                <tr>\n",
              "                        <th id=\"T_e6d1c644_e79f_11ea_b15f_0242ac1c0002level0_row0\" class=\"row_heading level0 row0\" >0</th>\n",
              "                        <td id=\"T_e6d1c644_e79f_11ea_b15f_0242ac1c0002row0_col0\" class=\"data row0 col0\" >4</td>\n",
              "                        <td id=\"T_e6d1c644_e79f_11ea_b15f_0242ac1c0002row0_col1\" class=\"data row0 col1\" >0</td>\n",
              "                        <td id=\"T_e6d1c644_e79f_11ea_b15f_0242ac1c0002row0_col2\" class=\"data row0 col2\" >30</td>\n",
              "            </tr>\n",
              "            <tr>\n",
              "                        <th id=\"T_e6d1c644_e79f_11ea_b15f_0242ac1c0002level0_row1\" class=\"row_heading level0 row1\" >1</th>\n",
              "                        <td id=\"T_e6d1c644_e79f_11ea_b15f_0242ac1c0002row1_col0\" class=\"data row1 col0\" >0</td>\n",
              "                        <td id=\"T_e6d1c644_e79f_11ea_b15f_0242ac1c0002row1_col1\" class=\"data row1 col1\" >74</td>\n",
              "                        <td id=\"T_e6d1c644_e79f_11ea_b15f_0242ac1c0002row1_col2\" class=\"data row1 col2\" >1</td>\n",
              "            </tr>\n",
              "            <tr>\n",
              "                        <th id=\"T_e6d1c644_e79f_11ea_b15f_0242ac1c0002level0_row2\" class=\"row_heading level0 row2\" >2</th>\n",
              "                        <td id=\"T_e6d1c644_e79f_11ea_b15f_0242ac1c0002row2_col0\" class=\"data row2 col0\" >2</td>\n",
              "                        <td id=\"T_e6d1c644_e79f_11ea_b15f_0242ac1c0002row2_col1\" class=\"data row2 col1\" >1</td>\n",
              "                        <td id=\"T_e6d1c644_e79f_11ea_b15f_0242ac1c0002row2_col2\" class=\"data row2 col2\" >73</td>\n",
              "            </tr>\n",
              "    </tbody></table>"
            ],
            "text/plain": [
              "<pandas.io.formats.style.Styler at 0x7fb5e166fe10>"
            ]
          },
          "metadata": {
            "tags": []
          },
          "execution_count": 67
        }
      ]
    },
    {
      "cell_type": "code",
      "metadata": {
        "id": "lbA0RHB-JLUT",
        "colab_type": "code",
        "colab": {
          "base_uri": "https://localhost:8080/",
          "height": 68
        },
        "outputId": "736dbcca-9b21-437b-bd85-e37e2878b694"
      },
      "source": [
        "xg_cl = xgb.XGBClassifier(objective= \"multi:softprob\", \n",
        "                          n_estimators=125, \n",
        "                          learning_rate=0.1, \n",
        "                          seed=123,\n",
        "                          max_depth=2)\n",
        "\n",
        "xg_cl.fit(X_train, y_train)\n",
        "\n",
        "preds = xg_cl.predict(X_test)\n",
        "        \n",
        "#print('Accuracy : ', accuracy_score(y_test, preds))\n",
        "#print('ROC for XGBClassifier : ', multiclass_roc_auc_score(y_test, preds))\n",
        "\n",
        "print('XGBClassifier + UnderSampling')\n",
        "print('Precision: ', multiclass_recall_score(y_test, preds))\n",
        "print('Recall: ', multiclass_precision_score(y_test, preds))"
      ],
      "execution_count": null,
      "outputs": [
        {
          "output_type": "stream",
          "text": [
            "XGBClassifier + UnderSampling\n",
            "Precision:  0.6916924664602683\n",
            "Recall:  0.7287735849056604\n"
          ],
          "name": "stdout"
        }
      ]
    },
    {
      "cell_type": "code",
      "metadata": {
        "id": "c6xdkdRV9PhE",
        "colab_type": "code",
        "colab": {
          "base_uri": "https://localhost:8080/",
          "height": 103
        },
        "outputId": "281c993a-3198-4dff-a03c-a3badc380d2a"
      },
      "source": [
        "# Creates a confusion matrix\n",
        "cm = confusion_matrix(y_test, preds)\n",
        "cm_df = pd.DataFrame(cm)\n",
        "cm_df.style.background_gradient(cmap='coolwarm')"
      ],
      "execution_count": null,
      "outputs": [
        {
          "output_type": "execute_result",
          "data": {
            "text/html": [
              "<style  type=\"text/css\" >\n",
              "    #T_48bfcdc4_e7a0_11ea_b15f_0242ac1c0002row0_col0 {\n",
              "            background-color:  #b40426;\n",
              "            color:  #f1f1f1;\n",
              "        }    #T_48bfcdc4_e7a0_11ea_b15f_0242ac1c0002row0_col1 {\n",
              "            background-color:  #3b4cc0;\n",
              "            color:  #f1f1f1;\n",
              "        }    #T_48bfcdc4_e7a0_11ea_b15f_0242ac1c0002row0_col2 {\n",
              "            background-color:  #c4d5f3;\n",
              "            color:  #000000;\n",
              "        }    #T_48bfcdc4_e7a0_11ea_b15f_0242ac1c0002row1_col0 {\n",
              "            background-color:  #3b4cc0;\n",
              "            color:  #f1f1f1;\n",
              "        }    #T_48bfcdc4_e7a0_11ea_b15f_0242ac1c0002row1_col1 {\n",
              "            background-color:  #b40426;\n",
              "            color:  #f1f1f1;\n",
              "        }    #T_48bfcdc4_e7a0_11ea_b15f_0242ac1c0002row1_col2 {\n",
              "            background-color:  #3b4cc0;\n",
              "            color:  #f1f1f1;\n",
              "        }    #T_48bfcdc4_e7a0_11ea_b15f_0242ac1c0002row2_col0 {\n",
              "            background-color:  #aac7fd;\n",
              "            color:  #000000;\n",
              "        }    #T_48bfcdc4_e7a0_11ea_b15f_0242ac1c0002row2_col1 {\n",
              "            background-color:  #3b4cc0;\n",
              "            color:  #f1f1f1;\n",
              "        }    #T_48bfcdc4_e7a0_11ea_b15f_0242ac1c0002row2_col2 {\n",
              "            background-color:  #b40426;\n",
              "            color:  #f1f1f1;\n",
              "        }</style><table id=\"T_48bfcdc4_e7a0_11ea_b15f_0242ac1c0002\" ><thead>    <tr>        <th class=\"blank level0\" ></th>        <th class=\"col_heading level0 col0\" >0</th>        <th class=\"col_heading level0 col1\" >1</th>        <th class=\"col_heading level0 col2\" >2</th>    </tr></thead><tbody>\n",
              "                <tr>\n",
              "                        <th id=\"T_48bfcdc4_e7a0_11ea_b15f_0242ac1c0002level0_row0\" class=\"row_heading level0 row0\" >0</th>\n",
              "                        <td id=\"T_48bfcdc4_e7a0_11ea_b15f_0242ac1c0002row0_col0\" class=\"data row0 col0\" >3</td>\n",
              "                        <td id=\"T_48bfcdc4_e7a0_11ea_b15f_0242ac1c0002row0_col1\" class=\"data row0 col1\" >0</td>\n",
              "                        <td id=\"T_48bfcdc4_e7a0_11ea_b15f_0242ac1c0002row0_col2\" class=\"data row0 col2\" >31</td>\n",
              "            </tr>\n",
              "            <tr>\n",
              "                        <th id=\"T_48bfcdc4_e7a0_11ea_b15f_0242ac1c0002level0_row1\" class=\"row_heading level0 row1\" >1</th>\n",
              "                        <td id=\"T_48bfcdc4_e7a0_11ea_b15f_0242ac1c0002row1_col0\" class=\"data row1 col0\" >0</td>\n",
              "                        <td id=\"T_48bfcdc4_e7a0_11ea_b15f_0242ac1c0002row1_col1\" class=\"data row1 col1\" >75</td>\n",
              "                        <td id=\"T_48bfcdc4_e7a0_11ea_b15f_0242ac1c0002row1_col2\" class=\"data row1 col2\" >0</td>\n",
              "            </tr>\n",
              "            <tr>\n",
              "                        <th id=\"T_48bfcdc4_e7a0_11ea_b15f_0242ac1c0002level0_row2\" class=\"row_heading level0 row2\" >2</th>\n",
              "                        <td id=\"T_48bfcdc4_e7a0_11ea_b15f_0242ac1c0002row2_col0\" class=\"data row2 col0\" >1</td>\n",
              "                        <td id=\"T_48bfcdc4_e7a0_11ea_b15f_0242ac1c0002row2_col1\" class=\"data row2 col1\" >0</td>\n",
              "                        <td id=\"T_48bfcdc4_e7a0_11ea_b15f_0242ac1c0002row2_col2\" class=\"data row2 col2\" >75</td>\n",
              "            </tr>\n",
              "    </tbody></table>"
            ],
            "text/plain": [
              "<pandas.io.formats.style.Styler at 0x7fb5e0be2be0>"
            ]
          },
          "metadata": {
            "tags": []
          },
          "execution_count": 78
        }
      ]
    },
    {
      "cell_type": "markdown",
      "metadata": {
        "id": "qwLvey6eQB-5",
        "colab_type": "text"
      },
      "source": [
        "#**Implementing SMOTE**"
      ]
    },
    {
      "cell_type": "code",
      "metadata": {
        "id": "ykO9tCMxQfiL",
        "colab_type": "code",
        "colab": {}
      },
      "source": [
        "import pandas as pd\n",
        "train_smote = pd.read_csv('Train.csv')"
      ],
      "execution_count": null,
      "outputs": []
    },
    {
      "cell_type": "code",
      "metadata": {
        "id": "eflnouwb9z1M",
        "colab_type": "code",
        "colab": {}
      },
      "source": [
        "train_smote.drop(['L_Id', 'Date of Creation', 'Estimated Date of Completion', 'Actual Date of Completion'], axis=1, inplace=True)"
      ],
      "execution_count": null,
      "outputs": []
    },
    {
      "cell_type": "code",
      "metadata": {
        "id": "-zculWiQQaUr",
        "colab_type": "code",
        "colab": {
          "base_uri": "https://localhost:8080/",
          "height": 204
        },
        "outputId": "6abf202f-d7b2-4f51-fe2b-6d07f28d40fa"
      },
      "source": [
        "train_smote['Street Type'] = train_smote['Street Type'].fillna(train_smote['Street Type'].mode()[0])\n",
        "train_smote.isnull().sum()\n",
        "\n",
        "# Checking Problem Category wise Data frequency \n",
        "print('Problem Category frequency :')\n",
        "print(train_smote['Problem Category'].value_counts(normalize=True))\n",
        "print(' ')\n",
        "print('Problem Category count :')\n",
        "print(train_smote['Problem Category'].value_counts())"
      ],
      "execution_count": null,
      "outputs": [
        {
          "output_type": "stream",
          "text": [
            "Problem Category frequency :\n",
            "1    0.931977\n",
            "2    0.046746\n",
            "0    0.021277\n",
            "Name: Problem Category, dtype: float64\n",
            " \n",
            "Problem Category count :\n",
            "1    6001\n",
            "2     301\n",
            "0     137\n",
            "Name: Problem Category, dtype: int64\n"
          ],
          "name": "stdout"
        }
      ]
    },
    {
      "cell_type": "code",
      "metadata": {
        "id": "YkHryyApS0jK",
        "colab_type": "code",
        "colab": {}
      },
      "source": [
        "# Splitting Independent and Dependent Variables\n",
        "X = train_smote.loc[:, train_smote.columns != 'Problem Category'].values\n",
        "y = train_smote['Problem Category'].values\n",
        "\n",
        "from sklearn.model_selection import train_test_split\n",
        "\n",
        "# Splitting the dataset into the Training set and Test set\n",
        "X_train, X_test, y_train, y_test = train_test_split(X, y, test_size=0.25, random_state=0, stratify=y)"
      ],
      "execution_count": null,
      "outputs": []
    },
    {
      "cell_type": "code",
      "metadata": {
        "id": "31uRMdraQWQW",
        "colab_type": "code",
        "colab": {
          "base_uri": "https://localhost:8080/",
          "height": 51
        },
        "outputId": "dd0e1cd7-b27f-4137-9c0b-18ab87eddac4"
      },
      "source": [
        "from imblearn.over_sampling import SMOTE\n",
        "smote = SMOTE('minority')\n",
        "x_sm, y_sm = smote.fit_sample(X_train, y_train)\n",
        "\n",
        "print(X_train.shape)\n",
        "print(x_sm.shape)"
      ],
      "execution_count": null,
      "outputs": [
        {
          "output_type": "stream",
          "text": [
            "(4829, 11)\n",
            "(9226, 11)\n"
          ],
          "name": "stdout"
        }
      ]
    },
    {
      "cell_type": "code",
      "metadata": {
        "id": "B5FrJhwjT-Fb",
        "colab_type": "code",
        "colab": {
          "base_uri": "https://localhost:8080/",
          "height": 34
        },
        "outputId": "bebdd898-5849-407d-da07-72fbebff91ec"
      },
      "source": [
        "from sklearn.linear_model import LogisticRegression\n",
        "logisticRegr = LogisticRegression()\n",
        "logisticRegr.fit(x_sm, y_sm)\n",
        "\n",
        "predictions = logisticRegr.predict(X_test)\n",
        "score = logisticRegr.score(X_test, y_test)\n",
        "print(score)"
      ],
      "execution_count": null,
      "outputs": [
        {
          "output_type": "stream",
          "text": [
            "0.9329192546583851\n"
          ],
          "name": "stdout"
        }
      ]
    },
    {
      "cell_type": "code",
      "metadata": {
        "id": "-GO9cAbyUNx7",
        "colab_type": "code",
        "colab": {
          "base_uri": "https://localhost:8080/",
          "height": 68
        },
        "outputId": "a38a5e85-3f34-40e6-e54e-fc2b7cbb3885"
      },
      "source": [
        "import xgboost as xgb\n",
        "import warnings\n",
        "warnings.filterwarnings(\"ignore\")\n",
        "warnings.filterwarnings(module='sklearn*', action='ignore', category=DeprecationWarning)\n",
        "from sklearn.tree import DecisionTreeClassifier \n",
        "from sklearn.ensemble import RandomForestClassifier\n",
        "from sklearn.metrics import confusion_matrix\n",
        "\n",
        "dtree_model = DecisionTreeClassifier(max_depth=2).fit(x_sm, y_sm)   #Optimum Value for max_depth : 10\n",
        "dtree_predictions_2 = dtree_model.predict(X_test)\n",
        "\n",
        "#print('Accuracy : ', accuracy_score(y_test, dtree_predictions_2))\n",
        "#print('ROC for DecisionTreeClassifier : ', multiclass_roc_auc_score(y_test, dtree_predictions_2))\n",
        "\n",
        "print('DecisionTreeClassifier + SMOTE')\n",
        "print('Precision: ', multiclass_recall_score(y_test, dtree_predictions_2))\n",
        "print('Recall: ', multiclass_precision_score(y_test, dtree_predictions_2))"
      ],
      "execution_count": null,
      "outputs": [
        {
          "output_type": "stream",
          "text": [
            "DecisionTreeClassifier + SMOTE\n",
            "Precision:  0.6272289062193831\n",
            "Recall:  0.1485148514851485\n"
          ],
          "name": "stdout"
        }
      ]
    },
    {
      "cell_type": "code",
      "metadata": {
        "id": "6N3ZUHPQ_YeT",
        "colab_type": "code",
        "colab": {
          "base_uri": "https://localhost:8080/",
          "height": 103
        },
        "outputId": "c27054ce-596e-4ea8-98db-02aa0c76a94a"
      },
      "source": [
        "# Creates a confusion matrix\n",
        "cm = confusion_matrix(y_test, dtree_predictions_2)\n",
        "cm_df = pd.DataFrame(cm)\n",
        "cm_df.style.background_gradient(cmap='coolwarm')"
      ],
      "execution_count": null,
      "outputs": [
        {
          "output_type": "execute_result",
          "data": {
            "text/html": [
              "<style  type=\"text/css\" >\n",
              "    #T_69ac9976_e7a1_11ea_b15f_0242ac1c0002row0_col0 {\n",
              "            background-color:  #c6d6f1;\n",
              "            color:  #000000;\n",
              "        }    #T_69ac9976_e7a1_11ea_b15f_0242ac1c0002row0_col1 {\n",
              "            background-color:  #3b4cc0;\n",
              "            color:  #f1f1f1;\n",
              "        }    #T_69ac9976_e7a1_11ea_b15f_0242ac1c0002row0_col2 {\n",
              "            background-color:  #3b4cc0;\n",
              "            color:  #f1f1f1;\n",
              "        }    #T_69ac9976_e7a1_11ea_b15f_0242ac1c0002row1_col0 {\n",
              "            background-color:  #3b4cc0;\n",
              "            color:  #f1f1f1;\n",
              "        }    #T_69ac9976_e7a1_11ea_b15f_0242ac1c0002row1_col1 {\n",
              "            background-color:  #b40426;\n",
              "            color:  #f1f1f1;\n",
              "        }    #T_69ac9976_e7a1_11ea_b15f_0242ac1c0002row1_col2 {\n",
              "            background-color:  #3b4cc0;\n",
              "            color:  #f1f1f1;\n",
              "        }    #T_69ac9976_e7a1_11ea_b15f_0242ac1c0002row2_col0 {\n",
              "            background-color:  #b40426;\n",
              "            color:  #f1f1f1;\n",
              "        }    #T_69ac9976_e7a1_11ea_b15f_0242ac1c0002row2_col1 {\n",
              "            background-color:  #3b4cc0;\n",
              "            color:  #f1f1f1;\n",
              "        }    #T_69ac9976_e7a1_11ea_b15f_0242ac1c0002row2_col2 {\n",
              "            background-color:  #3b4cc0;\n",
              "            color:  #f1f1f1;\n",
              "        }</style><table id=\"T_69ac9976_e7a1_11ea_b15f_0242ac1c0002\" ><thead>    <tr>        <th class=\"blank level0\" ></th>        <th class=\"col_heading level0 col0\" >0</th>        <th class=\"col_heading level0 col1\" >1</th>        <th class=\"col_heading level0 col2\" >2</th>    </tr></thead><tbody>\n",
              "                <tr>\n",
              "                        <th id=\"T_69ac9976_e7a1_11ea_b15f_0242ac1c0002level0_row0\" class=\"row_heading level0 row0\" >0</th>\n",
              "                        <td id=\"T_69ac9976_e7a1_11ea_b15f_0242ac1c0002row0_col0\" class=\"data row0 col0\" >30</td>\n",
              "                        <td id=\"T_69ac9976_e7a1_11ea_b15f_0242ac1c0002row0_col1\" class=\"data row0 col1\" >4</td>\n",
              "                        <td id=\"T_69ac9976_e7a1_11ea_b15f_0242ac1c0002row0_col2\" class=\"data row0 col2\" >0</td>\n",
              "            </tr>\n",
              "            <tr>\n",
              "                        <th id=\"T_69ac9976_e7a1_11ea_b15f_0242ac1c0002level0_row1\" class=\"row_heading level0 row1\" >1</th>\n",
              "                        <td id=\"T_69ac9976_e7a1_11ea_b15f_0242ac1c0002row1_col0\" class=\"data row1 col0\" >1</td>\n",
              "                        <td id=\"T_69ac9976_e7a1_11ea_b15f_0242ac1c0002row1_col1\" class=\"data row1 col1\" >1500</td>\n",
              "                        <td id=\"T_69ac9976_e7a1_11ea_b15f_0242ac1c0002row1_col2\" class=\"data row1 col2\" >0</td>\n",
              "            </tr>\n",
              "            <tr>\n",
              "                        <th id=\"T_69ac9976_e7a1_11ea_b15f_0242ac1c0002level0_row2\" class=\"row_heading level0 row2\" >2</th>\n",
              "                        <td id=\"T_69ac9976_e7a1_11ea_b15f_0242ac1c0002row2_col0\" class=\"data row2 col0\" >70</td>\n",
              "                        <td id=\"T_69ac9976_e7a1_11ea_b15f_0242ac1c0002row2_col1\" class=\"data row2 col1\" >5</td>\n",
              "                        <td id=\"T_69ac9976_e7a1_11ea_b15f_0242ac1c0002row2_col2\" class=\"data row2 col2\" >0</td>\n",
              "            </tr>\n",
              "    </tbody></table>"
            ],
            "text/plain": [
              "<pandas.io.formats.style.Styler at 0x7fb5e0a06a20>"
            ]
          },
          "metadata": {
            "tags": []
          },
          "execution_count": 88
        }
      ]
    },
    {
      "cell_type": "code",
      "metadata": {
        "id": "iTdYdocKUZlH",
        "colab_type": "code",
        "colab": {
          "base_uri": "https://localhost:8080/",
          "height": 68
        },
        "outputId": "b94d2228-b462-4f4f-b61d-ba69ecaa1059"
      },
      "source": [
        "rf_clf = RandomForestClassifier(random_state=0, n_jobs=-1)   \n",
        "rf_clf.fit(x_sm, y_sm)\n",
        "rf_predictions_2 = rf_clf.predict(X_test)\n",
        "    \n",
        "#print('Accuracy : ', accuracy_score(y_test, rf_predictions_2))\n",
        "#print('ROC for RandomForestClassifier : ', multiclass_roc_auc_score(y_test, rf_predictions_2))\n",
        "\n",
        "print('RandomForestClassifier + SMOTE')\n",
        "print('Precision: ', multiclass_recall_score(y_test, rf_predictions_2))\n",
        "print('Recall: ', multiclass_precision_score(y_test, rf_predictions_2))"
      ],
      "execution_count": null,
      "outputs": [
        {
          "output_type": "stream",
          "text": [
            "RandomForestClassifier + SMOTE\n",
            "Precision:  0.6816993464052287\n",
            "Recall:  0.6177033492822966\n"
          ],
          "name": "stdout"
        }
      ]
    },
    {
      "cell_type": "code",
      "metadata": {
        "id": "h7-3Y1p8_icJ",
        "colab_type": "code",
        "colab": {
          "base_uri": "https://localhost:8080/",
          "height": 103
        },
        "outputId": "c232fc56-d06a-4480-d9bf-680761e29091"
      },
      "source": [
        "# Creates a confusion matrix\n",
        "cm = confusion_matrix(y_test, rf_predictions_2)\n",
        "cm_df = pd.DataFrame(cm)\n",
        "cm_df.style.background_gradient(cmap='coolwarm')"
      ],
      "execution_count": null,
      "outputs": [
        {
          "output_type": "execute_result",
          "data": {
            "text/html": [
              "<style  type=\"text/css\" >\n",
              "    #T_8f757eca_e7a1_11ea_b15f_0242ac1c0002row0_col0 {\n",
              "            background-color:  #d9dce1;\n",
              "            color:  #000000;\n",
              "        }    #T_8f757eca_e7a1_11ea_b15f_0242ac1c0002row0_col1 {\n",
              "            background-color:  #3b4cc0;\n",
              "            color:  #f1f1f1;\n",
              "        }    #T_8f757eca_e7a1_11ea_b15f_0242ac1c0002row0_col2 {\n",
              "            background-color:  #5977e3;\n",
              "            color:  #000000;\n",
              "        }    #T_8f757eca_e7a1_11ea_b15f_0242ac1c0002row1_col0 {\n",
              "            background-color:  #3b4cc0;\n",
              "            color:  #f1f1f1;\n",
              "        }    #T_8f757eca_e7a1_11ea_b15f_0242ac1c0002row1_col1 {\n",
              "            background-color:  #b40426;\n",
              "            color:  #f1f1f1;\n",
              "        }    #T_8f757eca_e7a1_11ea_b15f_0242ac1c0002row1_col2 {\n",
              "            background-color:  #3b4cc0;\n",
              "            color:  #f1f1f1;\n",
              "        }    #T_8f757eca_e7a1_11ea_b15f_0242ac1c0002row2_col0 {\n",
              "            background-color:  #b40426;\n",
              "            color:  #f1f1f1;\n",
              "        }    #T_8f757eca_e7a1_11ea_b15f_0242ac1c0002row2_col1 {\n",
              "            background-color:  #3b4cc0;\n",
              "            color:  #f1f1f1;\n",
              "        }    #T_8f757eca_e7a1_11ea_b15f_0242ac1c0002row2_col2 {\n",
              "            background-color:  #b40426;\n",
              "            color:  #f1f1f1;\n",
              "        }</style><table id=\"T_8f757eca_e7a1_11ea_b15f_0242ac1c0002\" ><thead>    <tr>        <th class=\"blank level0\" ></th>        <th class=\"col_heading level0 col0\" >0</th>        <th class=\"col_heading level0 col1\" >1</th>        <th class=\"col_heading level0 col2\" >2</th>    </tr></thead><tbody>\n",
              "                <tr>\n",
              "                        <th id=\"T_8f757eca_e7a1_11ea_b15f_0242ac1c0002level0_row0\" class=\"row_heading level0 row0\" >0</th>\n",
              "                        <td id=\"T_8f757eca_e7a1_11ea_b15f_0242ac1c0002row0_col0\" class=\"data row0 col0\" >31</td>\n",
              "                        <td id=\"T_8f757eca_e7a1_11ea_b15f_0242ac1c0002row0_col1\" class=\"data row0 col1\" >2</td>\n",
              "                        <td id=\"T_8f757eca_e7a1_11ea_b15f_0242ac1c0002row0_col2\" class=\"data row0 col2\" >1</td>\n",
              "            </tr>\n",
              "            <tr>\n",
              "                        <th id=\"T_8f757eca_e7a1_11ea_b15f_0242ac1c0002level0_row1\" class=\"row_heading level0 row1\" >1</th>\n",
              "                        <td id=\"T_8f757eca_e7a1_11ea_b15f_0242ac1c0002row1_col0\" class=\"data row1 col0\" >0</td>\n",
              "                        <td id=\"T_8f757eca_e7a1_11ea_b15f_0242ac1c0002row1_col1\" class=\"data row1 col1\" >1501</td>\n",
              "                        <td id=\"T_8f757eca_e7a1_11ea_b15f_0242ac1c0002row1_col2\" class=\"data row1 col2\" >0</td>\n",
              "            </tr>\n",
              "            <tr>\n",
              "                        <th id=\"T_8f757eca_e7a1_11ea_b15f_0242ac1c0002level0_row2\" class=\"row_heading level0 row2\" >2</th>\n",
              "                        <td id=\"T_8f757eca_e7a1_11ea_b15f_0242ac1c0002row2_col0\" class=\"data row2 col0\" >64</td>\n",
              "                        <td id=\"T_8f757eca_e7a1_11ea_b15f_0242ac1c0002row2_col1\" class=\"data row2 col1\" >1</td>\n",
              "                        <td id=\"T_8f757eca_e7a1_11ea_b15f_0242ac1c0002row2_col2\" class=\"data row2 col2\" >10</td>\n",
              "            </tr>\n",
              "    </tbody></table>"
            ],
            "text/plain": [
              "<pandas.io.formats.style.Styler at 0x7fb5e0dd17b8>"
            ]
          },
          "metadata": {
            "tags": []
          },
          "execution_count": 91
        }
      ]
    },
    {
      "cell_type": "code",
      "metadata": {
        "id": "aFYGQkKdTxI6",
        "colab_type": "code",
        "colab": {
          "base_uri": "https://localhost:8080/",
          "height": 68
        },
        "outputId": "49c8c29a-34ef-4e31-f909-238ca67e0de4"
      },
      "source": [
        "#XGB Classifier\n",
        "xg_cl = xgb.XGBClassifier(objective= \"multi:softprob\", \n",
        "                                  n_estimators=5500, \n",
        "                                  learning_rate=0.1, \n",
        "                                  seed=123,\n",
        "                                  max_depth=2)\n",
        "\n",
        "xg_cl.fit(x_sm, y_sm)\n",
        "\n",
        "preds_5000_2 = xg_cl.predict(X_test)\n",
        "        \n",
        "#print('Accuracy : ', accuracy_score(y_test, preds_5000_2))\n",
        "#print('ROC for XGBClassifier(5000) : ', multiclass_roc_auc_score(y_test, preds_5000_2))\n",
        "\n",
        "print('XGBClassifier(5000) + SMOTE')\n",
        "print('Precision: ', multiclass_recall_score(y_test, preds_5000_2))\n",
        "print('Recall: ', multiclass_precision_score(y_test, preds_5000_2))"
      ],
      "execution_count": null,
      "outputs": [
        {
          "output_type": "stream",
          "text": [
            "XGBClassifier(5000) + SMOTE\n",
            "Precision:  0.7057516339869281\n",
            "Recall:  0.6302083333333333\n"
          ],
          "name": "stdout"
        }
      ]
    },
    {
      "cell_type": "code",
      "metadata": {
        "id": "SKIJFaDwBEox",
        "colab_type": "code",
        "colab": {
          "base_uri": "https://localhost:8080/",
          "height": 103
        },
        "outputId": "0f8d321d-94bc-4e88-9b35-e8de871b328d"
      },
      "source": [
        "# Creates a confusion matrix\n",
        "cm = confusion_matrix(y_test, rf_predictions_2)\n",
        "cm_df = pd.DataFrame(cm)\n",
        "cm_df.style.background_gradient(cmap='coolwarm')"
      ],
      "execution_count": null,
      "outputs": [
        {
          "output_type": "execute_result",
          "data": {
            "text/html": [
              "<style  type=\"text/css\" >\n",
              "    #T_7c25470a_e7a2_11ea_b15f_0242ac1c0002row0_col0 {\n",
              "            background-color:  #d9dce1;\n",
              "            color:  #000000;\n",
              "        }    #T_7c25470a_e7a2_11ea_b15f_0242ac1c0002row0_col1 {\n",
              "            background-color:  #3b4cc0;\n",
              "            color:  #f1f1f1;\n",
              "        }    #T_7c25470a_e7a2_11ea_b15f_0242ac1c0002row0_col2 {\n",
              "            background-color:  #5977e3;\n",
              "            color:  #000000;\n",
              "        }    #T_7c25470a_e7a2_11ea_b15f_0242ac1c0002row1_col0 {\n",
              "            background-color:  #3b4cc0;\n",
              "            color:  #f1f1f1;\n",
              "        }    #T_7c25470a_e7a2_11ea_b15f_0242ac1c0002row1_col1 {\n",
              "            background-color:  #b40426;\n",
              "            color:  #f1f1f1;\n",
              "        }    #T_7c25470a_e7a2_11ea_b15f_0242ac1c0002row1_col2 {\n",
              "            background-color:  #3b4cc0;\n",
              "            color:  #f1f1f1;\n",
              "        }    #T_7c25470a_e7a2_11ea_b15f_0242ac1c0002row2_col0 {\n",
              "            background-color:  #b40426;\n",
              "            color:  #f1f1f1;\n",
              "        }    #T_7c25470a_e7a2_11ea_b15f_0242ac1c0002row2_col1 {\n",
              "            background-color:  #3b4cc0;\n",
              "            color:  #f1f1f1;\n",
              "        }    #T_7c25470a_e7a2_11ea_b15f_0242ac1c0002row2_col2 {\n",
              "            background-color:  #b40426;\n",
              "            color:  #f1f1f1;\n",
              "        }</style><table id=\"T_7c25470a_e7a2_11ea_b15f_0242ac1c0002\" ><thead>    <tr>        <th class=\"blank level0\" ></th>        <th class=\"col_heading level0 col0\" >0</th>        <th class=\"col_heading level0 col1\" >1</th>        <th class=\"col_heading level0 col2\" >2</th>    </tr></thead><tbody>\n",
              "                <tr>\n",
              "                        <th id=\"T_7c25470a_e7a2_11ea_b15f_0242ac1c0002level0_row0\" class=\"row_heading level0 row0\" >0</th>\n",
              "                        <td id=\"T_7c25470a_e7a2_11ea_b15f_0242ac1c0002row0_col0\" class=\"data row0 col0\" >31</td>\n",
              "                        <td id=\"T_7c25470a_e7a2_11ea_b15f_0242ac1c0002row0_col1\" class=\"data row0 col1\" >2</td>\n",
              "                        <td id=\"T_7c25470a_e7a2_11ea_b15f_0242ac1c0002row0_col2\" class=\"data row0 col2\" >1</td>\n",
              "            </tr>\n",
              "            <tr>\n",
              "                        <th id=\"T_7c25470a_e7a2_11ea_b15f_0242ac1c0002level0_row1\" class=\"row_heading level0 row1\" >1</th>\n",
              "                        <td id=\"T_7c25470a_e7a2_11ea_b15f_0242ac1c0002row1_col0\" class=\"data row1 col0\" >0</td>\n",
              "                        <td id=\"T_7c25470a_e7a2_11ea_b15f_0242ac1c0002row1_col1\" class=\"data row1 col1\" >1501</td>\n",
              "                        <td id=\"T_7c25470a_e7a2_11ea_b15f_0242ac1c0002row1_col2\" class=\"data row1 col2\" >0</td>\n",
              "            </tr>\n",
              "            <tr>\n",
              "                        <th id=\"T_7c25470a_e7a2_11ea_b15f_0242ac1c0002level0_row2\" class=\"row_heading level0 row2\" >2</th>\n",
              "                        <td id=\"T_7c25470a_e7a2_11ea_b15f_0242ac1c0002row2_col0\" class=\"data row2 col0\" >64</td>\n",
              "                        <td id=\"T_7c25470a_e7a2_11ea_b15f_0242ac1c0002row2_col1\" class=\"data row2 col1\" >1</td>\n",
              "                        <td id=\"T_7c25470a_e7a2_11ea_b15f_0242ac1c0002row2_col2\" class=\"data row2 col2\" >10</td>\n",
              "            </tr>\n",
              "    </tbody></table>"
            ],
            "text/plain": [
              "<pandas.io.formats.style.Styler at 0x7fb5e0b02ac8>"
            ]
          },
          "metadata": {
            "tags": []
          },
          "execution_count": 101
        }
      ]
    },
    {
      "cell_type": "code",
      "metadata": {
        "id": "g-e5AFN_UzXb",
        "colab_type": "code",
        "colab": {}
      },
      "source": [
        "result = pd.DataFrame(preds)"
      ],
      "execution_count": null,
      "outputs": []
    },
    {
      "cell_type": "markdown",
      "metadata": {
        "id": "RJcunivxGwLm",
        "colab_type": "text"
      },
      "source": [
        "#**Precision vs. Recall for Imbalanced Classification**\n",
        "You may decide to use precision or recall on your imbalanced classification problem. </br>\n",
        "\n",
        "Maximizing precision will minimize the number false positives, whereas maximizing the recall will minimize the number of false negatives. </br>\n",
        "\n",
        "Precision: Appropriate when minimizing false positives is the focus. </br>\n",
        "Recall: Appropriate when minimizing false negatives is the focus. </br>"
      ]
    }
  ]
}