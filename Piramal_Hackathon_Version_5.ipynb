{
  "nbformat": 4,
  "nbformat_minor": 0,
  "metadata": {
    "colab": {
      "name": "Piramal_Hackathon_Version_5.ipynb",
      "provenance": [],
      "collapsed_sections": [],
      "toc_visible": true
    },
    "kernelspec": {
      "name": "python3",
      "display_name": "Python 3"
    }
  },
  "cells": [
    {
      "cell_type": "markdown",
      "metadata": {
        "id": "LmZ1GymVBpWQ",
        "colab_type": "text"
      },
      "source": [
        "#**Approach Description**"
      ]
    },
    {
      "cell_type": "markdown",
      "metadata": {
        "id": "K-mdLsv0BUYB",
        "colab_type": "text"
      },
      "source": [
        "We are having skewed dataset here. with Problem Category count : (1, 6001), (2, 301), (0, 137)\n",
        "\n",
        "I am creating a dataset with undersampling Category 1, and Oversampling Category 0. I want to make a dataset with 300 samples for each Category respectively. And, I want to check how Classifier results come for this Dataset."
      ]
    },
    {
      "cell_type": "markdown",
      "metadata": {
        "id": "9fpeq2ZKBy7-",
        "colab_type": "text"
      },
      "source": [
        "#Loading data"
      ]
    },
    {
      "cell_type": "code",
      "metadata": {
        "id": "o1PNFLjMX31d",
        "colab_type": "code",
        "colab": {
          "base_uri": "https://localhost:8080/",
          "height": 417
        },
        "outputId": "0cab199a-ee65-460d-c771-f26bea429cc5"
      },
      "source": [
        "import pandas as pd\n",
        "\n",
        "train = pd.read_csv('Train.csv')\n",
        "train.head()"
      ],
      "execution_count": 5,
      "outputs": [
        {
          "output_type": "execute_result",
          "data": {
            "text/html": [
              "<div>\n",
              "<style scoped>\n",
              "    .dataframe tbody tr th:only-of-type {\n",
              "        vertical-align: middle;\n",
              "    }\n",
              "\n",
              "    .dataframe tbody tr th {\n",
              "        vertical-align: top;\n",
              "    }\n",
              "\n",
              "    .dataframe thead th {\n",
              "        text-align: right;\n",
              "    }\n",
              "</style>\n",
              "<table border=\"1\" class=\"dataframe\">\n",
              "  <thead>\n",
              "    <tr style=\"text-align: right;\">\n",
              "      <th></th>\n",
              "      <th>L_Id</th>\n",
              "      <th>Date of Creation</th>\n",
              "      <th>Agent Category Assigned</th>\n",
              "      <th>Type of Request</th>\n",
              "      <th>Description of the Request</th>\n",
              "      <th>Location</th>\n",
              "      <th>Street Type</th>\n",
              "      <th>Region Type</th>\n",
              "      <th>Ward No</th>\n",
              "      <th>Estimated Date of Completion</th>\n",
              "      <th>Request Solution Category</th>\n",
              "      <th>Actual Date of Completion</th>\n",
              "      <th>Team Assigned</th>\n",
              "      <th>A_1</th>\n",
              "      <th>A_2</th>\n",
              "      <th>Problem Category</th>\n",
              "    </tr>\n",
              "  </thead>\n",
              "  <tbody>\n",
              "    <tr>\n",
              "      <th>0</th>\n",
              "      <td>LM_1</td>\n",
              "      <td>18-12-2018 00:29</td>\n",
              "      <td>1</td>\n",
              "      <td>10</td>\n",
              "      <td>2</td>\n",
              "      <td>13</td>\n",
              "      <td>11223.0</td>\n",
              "      <td>0</td>\n",
              "      <td>7</td>\n",
              "      <td>18-12-2018 09:29</td>\n",
              "      <td>4</td>\n",
              "      <td>18-12-2018 05:34</td>\n",
              "      <td>45</td>\n",
              "      <td>1</td>\n",
              "      <td>1</td>\n",
              "      <td>1</td>\n",
              "    </tr>\n",
              "    <tr>\n",
              "      <th>1</th>\n",
              "      <td>LM_2</td>\n",
              "      <td>30-11-2018 22:19</td>\n",
              "      <td>1</td>\n",
              "      <td>15</td>\n",
              "      <td>17</td>\n",
              "      <td>13</td>\n",
              "      <td>10019.0</td>\n",
              "      <td>0</td>\n",
              "      <td>30</td>\n",
              "      <td>01-12-2018 07:19</td>\n",
              "      <td>8</td>\n",
              "      <td>01-12-2018 00:35</td>\n",
              "      <td>22</td>\n",
              "      <td>2</td>\n",
              "      <td>2</td>\n",
              "      <td>1</td>\n",
              "    </tr>\n",
              "    <tr>\n",
              "      <th>2</th>\n",
              "      <td>LM_3</td>\n",
              "      <td>12-12-2018 02:37</td>\n",
              "      <td>1</td>\n",
              "      <td>11</td>\n",
              "      <td>22</td>\n",
              "      <td>0</td>\n",
              "      <td>11237.0</td>\n",
              "      <td>2</td>\n",
              "      <td>7</td>\n",
              "      <td>12-12-2018 11:37</td>\n",
              "      <td>8</td>\n",
              "      <td>12-12-2018 04:29</td>\n",
              "      <td>17</td>\n",
              "      <td>1</td>\n",
              "      <td>1</td>\n",
              "      <td>1</td>\n",
              "    </tr>\n",
              "    <tr>\n",
              "      <th>3</th>\n",
              "      <td>LM_4</td>\n",
              "      <td>26-12-2018 01:45</td>\n",
              "      <td>1</td>\n",
              "      <td>11</td>\n",
              "      <td>22</td>\n",
              "      <td>12</td>\n",
              "      <td>11213.0</td>\n",
              "      <td>0</td>\n",
              "      <td>7</td>\n",
              "      <td>26-12-2018 10:45</td>\n",
              "      <td>7</td>\n",
              "      <td>26-12-2018 05:26</td>\n",
              "      <td>33</td>\n",
              "      <td>1</td>\n",
              "      <td>1</td>\n",
              "      <td>1</td>\n",
              "    </tr>\n",
              "    <tr>\n",
              "      <th>4</th>\n",
              "      <td>LM_5</td>\n",
              "      <td>24-12-2018 03:22</td>\n",
              "      <td>1</td>\n",
              "      <td>2</td>\n",
              "      <td>27</td>\n",
              "      <td>13</td>\n",
              "      <td>10460.0</td>\n",
              "      <td>0</td>\n",
              "      <td>6</td>\n",
              "      <td>24-12-2018 12:22</td>\n",
              "      <td>4</td>\n",
              "      <td>24-12-2018 10:20</td>\n",
              "      <td>24</td>\n",
              "      <td>0</td>\n",
              "      <td>0</td>\n",
              "      <td>1</td>\n",
              "    </tr>\n",
              "  </tbody>\n",
              "</table>\n",
              "</div>"
            ],
            "text/plain": [
              "   L_Id  Date of Creation  Agent Category Assigned  ...  A_1  A_2  Problem Category\n",
              "0  LM_1  18-12-2018 00:29                        1  ...    1    1                 1\n",
              "1  LM_2  30-11-2018 22:19                        1  ...    2    2                 1\n",
              "2  LM_3  12-12-2018 02:37                        1  ...    1    1                 1\n",
              "3  LM_4  26-12-2018 01:45                        1  ...    1    1                 1\n",
              "4  LM_5  24-12-2018 03:22                        1  ...    0    0                 1\n",
              "\n",
              "[5 rows x 16 columns]"
            ]
          },
          "metadata": {
            "tags": []
          },
          "execution_count": 5
        }
      ]
    },
    {
      "cell_type": "markdown",
      "metadata": {
        "id": "on8zXrJ1Tx5v",
        "colab_type": "text"
      },
      "source": [
        "#**Numerical Variables**"
      ]
    },
    {
      "cell_type": "code",
      "metadata": {
        "id": "URLRajNtUsF_",
        "colab_type": "code",
        "colab": {
          "base_uri": "https://localhost:8080/",
          "height": 318
        },
        "outputId": "e4fec12f-2597-430d-c051-cc9bd2dd9436"
      },
      "source": [
        "train.dtypes"
      ],
      "execution_count": 6,
      "outputs": [
        {
          "output_type": "execute_result",
          "data": {
            "text/plain": [
              "L_Id                             object\n",
              "Date of Creation                 object\n",
              "Agent Category Assigned           int64\n",
              "Type of Request                   int64\n",
              "Description of the Request        int64\n",
              "Location                          int64\n",
              "Street Type                     float64\n",
              "Region Type                       int64\n",
              "Ward No                           int64\n",
              "Estimated Date of Completion     object\n",
              "Request Solution Category         int64\n",
              "Actual Date of Completion        object\n",
              "Team Assigned                     int64\n",
              "A_1                               int64\n",
              "A_2                               int64\n",
              "Problem Category                  int64\n",
              "dtype: object"
            ]
          },
          "metadata": {
            "tags": []
          },
          "execution_count": 6
        }
      ]
    },
    {
      "cell_type": "markdown",
      "metadata": {
        "id": "Pv6JK7MsYaMP",
        "colab_type": "text"
      },
      "source": [
        "We will keep all Numeric features and remove all Other Columns\n",
        "\n",
        "---\n",
        "\n"
      ]
    },
    {
      "cell_type": "code",
      "metadata": {
        "id": "wxu8bKKSZYfk",
        "colab_type": "code",
        "colab": {}
      },
      "source": [
        "train.drop(['L_Id', 'Date of Creation', 'Estimated Date of Completion', 'Actual Date of Completion'], axis=1, inplace=True)"
      ],
      "execution_count": 7,
      "outputs": []
    },
    {
      "cell_type": "code",
      "metadata": {
        "id": "GB9gqA7dZs-L",
        "colab_type": "code",
        "colab": {
          "base_uri": "https://localhost:8080/",
          "height": 214
        },
        "outputId": "8cefb926-53b0-4120-e165-6596356e4d2e"
      },
      "source": [
        "train.head()"
      ],
      "execution_count": 8,
      "outputs": [
        {
          "output_type": "execute_result",
          "data": {
            "text/html": [
              "<div>\n",
              "<style scoped>\n",
              "    .dataframe tbody tr th:only-of-type {\n",
              "        vertical-align: middle;\n",
              "    }\n",
              "\n",
              "    .dataframe tbody tr th {\n",
              "        vertical-align: top;\n",
              "    }\n",
              "\n",
              "    .dataframe thead th {\n",
              "        text-align: right;\n",
              "    }\n",
              "</style>\n",
              "<table border=\"1\" class=\"dataframe\">\n",
              "  <thead>\n",
              "    <tr style=\"text-align: right;\">\n",
              "      <th></th>\n",
              "      <th>Agent Category Assigned</th>\n",
              "      <th>Type of Request</th>\n",
              "      <th>Description of the Request</th>\n",
              "      <th>Location</th>\n",
              "      <th>Street Type</th>\n",
              "      <th>Region Type</th>\n",
              "      <th>Ward No</th>\n",
              "      <th>Request Solution Category</th>\n",
              "      <th>Team Assigned</th>\n",
              "      <th>A_1</th>\n",
              "      <th>A_2</th>\n",
              "      <th>Problem Category</th>\n",
              "    </tr>\n",
              "  </thead>\n",
              "  <tbody>\n",
              "    <tr>\n",
              "      <th>0</th>\n",
              "      <td>1</td>\n",
              "      <td>10</td>\n",
              "      <td>2</td>\n",
              "      <td>13</td>\n",
              "      <td>11223.0</td>\n",
              "      <td>0</td>\n",
              "      <td>7</td>\n",
              "      <td>4</td>\n",
              "      <td>45</td>\n",
              "      <td>1</td>\n",
              "      <td>1</td>\n",
              "      <td>1</td>\n",
              "    </tr>\n",
              "    <tr>\n",
              "      <th>1</th>\n",
              "      <td>1</td>\n",
              "      <td>15</td>\n",
              "      <td>17</td>\n",
              "      <td>13</td>\n",
              "      <td>10019.0</td>\n",
              "      <td>0</td>\n",
              "      <td>30</td>\n",
              "      <td>8</td>\n",
              "      <td>22</td>\n",
              "      <td>2</td>\n",
              "      <td>2</td>\n",
              "      <td>1</td>\n",
              "    </tr>\n",
              "    <tr>\n",
              "      <th>2</th>\n",
              "      <td>1</td>\n",
              "      <td>11</td>\n",
              "      <td>22</td>\n",
              "      <td>0</td>\n",
              "      <td>11237.0</td>\n",
              "      <td>2</td>\n",
              "      <td>7</td>\n",
              "      <td>8</td>\n",
              "      <td>17</td>\n",
              "      <td>1</td>\n",
              "      <td>1</td>\n",
              "      <td>1</td>\n",
              "    </tr>\n",
              "    <tr>\n",
              "      <th>3</th>\n",
              "      <td>1</td>\n",
              "      <td>11</td>\n",
              "      <td>22</td>\n",
              "      <td>12</td>\n",
              "      <td>11213.0</td>\n",
              "      <td>0</td>\n",
              "      <td>7</td>\n",
              "      <td>7</td>\n",
              "      <td>33</td>\n",
              "      <td>1</td>\n",
              "      <td>1</td>\n",
              "      <td>1</td>\n",
              "    </tr>\n",
              "    <tr>\n",
              "      <th>4</th>\n",
              "      <td>1</td>\n",
              "      <td>2</td>\n",
              "      <td>27</td>\n",
              "      <td>13</td>\n",
              "      <td>10460.0</td>\n",
              "      <td>0</td>\n",
              "      <td>6</td>\n",
              "      <td>4</td>\n",
              "      <td>24</td>\n",
              "      <td>0</td>\n",
              "      <td>0</td>\n",
              "      <td>1</td>\n",
              "    </tr>\n",
              "  </tbody>\n",
              "</table>\n",
              "</div>"
            ],
            "text/plain": [
              "   Agent Category Assigned  Type of Request  ...  A_2  Problem Category\n",
              "0                        1               10  ...    1                 1\n",
              "1                        1               15  ...    2                 1\n",
              "2                        1               11  ...    1                 1\n",
              "3                        1               11  ...    1                 1\n",
              "4                        1                2  ...    0                 1\n",
              "\n",
              "[5 rows x 12 columns]"
            ]
          },
          "metadata": {
            "tags": []
          },
          "execution_count": 8
        }
      ]
    },
    {
      "cell_type": "code",
      "metadata": {
        "id": "DiQK7SLnG_1S",
        "colab_type": "code",
        "colab": {}
      },
      "source": [
        "#train['Street Type'] = train['Street Type'].fillna(train['Street Type'].mean())\n",
        "\n",
        "train['Street Type'] = train['Street Type'].fillna(train['Street Type'].mode()[0])"
      ],
      "execution_count": 9,
      "outputs": []
    },
    {
      "cell_type": "code",
      "metadata": {
        "id": "j_jsAqEtGsgU",
        "colab_type": "code",
        "colab": {
          "base_uri": "https://localhost:8080/",
          "height": 247
        },
        "outputId": "11fb05f6-1aca-41d4-b921-5f7bf7d3dd87"
      },
      "source": [
        "train.isnull().sum()"
      ],
      "execution_count": 10,
      "outputs": [
        {
          "output_type": "execute_result",
          "data": {
            "text/plain": [
              "Agent Category Assigned       0\n",
              "Type of Request               0\n",
              "Description of the Request    0\n",
              "Location                      0\n",
              "Street Type                   0\n",
              "Region Type                   0\n",
              "Ward No                       0\n",
              "Request Solution Category     0\n",
              "Team Assigned                 0\n",
              "A_1                           0\n",
              "A_2                           0\n",
              "Problem Category              0\n",
              "dtype: int64"
            ]
          },
          "metadata": {
            "tags": []
          },
          "execution_count": 10
        }
      ]
    },
    {
      "cell_type": "markdown",
      "metadata": {
        "id": "hEh2y9TqvH9w",
        "colab_type": "text"
      },
      "source": [
        "#**Checking Dataset SkewNess**"
      ]
    },
    {
      "cell_type": "code",
      "metadata": {
        "id": "vWbfh0a0uoaF",
        "colab_type": "code",
        "colab": {
          "base_uri": "https://localhost:8080/",
          "height": 212
        },
        "outputId": "b15fab9a-beab-4d6b-9adb-63e7083d280e"
      },
      "source": [
        "# Checking Problem Category wise Data frequency \n",
        "print('Problem Category frequency :')\n",
        "print(train['Problem Category'].value_counts(normalize=True))\n",
        "print(' ')\n",
        "print('Problem Category count :')\n",
        "print(train['Problem Category'].value_counts())"
      ],
      "execution_count": 11,
      "outputs": [
        {
          "output_type": "stream",
          "text": [
            "Problem Category frequency :\n",
            "1    0.931977\n",
            "2    0.046746\n",
            "0    0.021277\n",
            "Name: Problem Category, dtype: float64\n",
            " \n",
            "Problem Category count :\n",
            "1    6001\n",
            "2     301\n",
            "0     137\n",
            "Name: Problem Category, dtype: int64\n"
          ],
          "name": "stdout"
        }
      ]
    },
    {
      "cell_type": "markdown",
      "metadata": {
        "id": "-6K5kiQRw3nE",
        "colab_type": "text"
      },
      "source": [
        "#**Undersampling Category 1**\n",
        "\n",
        "Dataset is highly skewed. \n",
        "I will go for technique to deal with imbalanced Dataset.\n",
        "\n",
        "We have two options here : \n",
        "(1) UnderSampling\n",
        "(2) OverSampling\n",
        "\n",
        "This time, I will try doing Undersampling Category 1 and Oversampling Category 0 together."
      ]
    },
    {
      "cell_type": "code",
      "metadata": {
        "id": "yFmuWzph3P9T",
        "colab_type": "code",
        "colab": {
          "base_uri": "https://localhost:8080/",
          "height": 214
        },
        "outputId": "30e873c3-f4e7-4906-bd70-a3ae6ba085d5"
      },
      "source": [
        "# Problem Category count :\n",
        "#1    6001\n",
        "#2     301\n",
        "#0     137\n",
        "\n",
        "ProbCategory_0 = train.loc[train['Problem Category'] == 0]\n",
        "ProbCategory_1 = train.loc[train['Problem Category'] == 1][:300]\n",
        "ProbCategory_2 = train.loc[train['Problem Category'] == 2]\n",
        "\n",
        "normal_distributed_df = pd.concat([ProbCategory_0, ProbCategory_1, ProbCategory_2])\n",
        "\n",
        "# Shuffle dataframe rows\n",
        "new_df = normal_distributed_df.sample(frac=1, random_state=42)\n",
        "\n",
        "new_df.head()"
      ],
      "execution_count": 12,
      "outputs": [
        {
          "output_type": "execute_result",
          "data": {
            "text/html": [
              "<div>\n",
              "<style scoped>\n",
              "    .dataframe tbody tr th:only-of-type {\n",
              "        vertical-align: middle;\n",
              "    }\n",
              "\n",
              "    .dataframe tbody tr th {\n",
              "        vertical-align: top;\n",
              "    }\n",
              "\n",
              "    .dataframe thead th {\n",
              "        text-align: right;\n",
              "    }\n",
              "</style>\n",
              "<table border=\"1\" class=\"dataframe\">\n",
              "  <thead>\n",
              "    <tr style=\"text-align: right;\">\n",
              "      <th></th>\n",
              "      <th>Agent Category Assigned</th>\n",
              "      <th>Type of Request</th>\n",
              "      <th>Description of the Request</th>\n",
              "      <th>Location</th>\n",
              "      <th>Street Type</th>\n",
              "      <th>Region Type</th>\n",
              "      <th>Ward No</th>\n",
              "      <th>Request Solution Category</th>\n",
              "      <th>Team Assigned</th>\n",
              "      <th>A_1</th>\n",
              "      <th>A_2</th>\n",
              "      <th>Problem Category</th>\n",
              "    </tr>\n",
              "  </thead>\n",
              "  <tbody>\n",
              "    <tr>\n",
              "      <th>170</th>\n",
              "      <td>1</td>\n",
              "      <td>15</td>\n",
              "      <td>5</td>\n",
              "      <td>13</td>\n",
              "      <td>10065.0</td>\n",
              "      <td>2</td>\n",
              "      <td>30</td>\n",
              "      <td>10</td>\n",
              "      <td>34</td>\n",
              "      <td>2</td>\n",
              "      <td>2</td>\n",
              "      <td>1</td>\n",
              "    </tr>\n",
              "    <tr>\n",
              "      <th>216</th>\n",
              "      <td>1</td>\n",
              "      <td>10</td>\n",
              "      <td>34</td>\n",
              "      <td>13</td>\n",
              "      <td>11691.0</td>\n",
              "      <td>2</td>\n",
              "      <td>14</td>\n",
              "      <td>4</td>\n",
              "      <td>55</td>\n",
              "      <td>3</td>\n",
              "      <td>3</td>\n",
              "      <td>1</td>\n",
              "    </tr>\n",
              "    <tr>\n",
              "      <th>100</th>\n",
              "      <td>1</td>\n",
              "      <td>2</td>\n",
              "      <td>31</td>\n",
              "      <td>13</td>\n",
              "      <td>10457.0</td>\n",
              "      <td>0</td>\n",
              "      <td>6</td>\n",
              "      <td>8</td>\n",
              "      <td>20</td>\n",
              "      <td>0</td>\n",
              "      <td>0</td>\n",
              "      <td>1</td>\n",
              "    </tr>\n",
              "    <tr>\n",
              "      <th>1638</th>\n",
              "      <td>1</td>\n",
              "      <td>13</td>\n",
              "      <td>22</td>\n",
              "      <td>7</td>\n",
              "      <td>11385.0</td>\n",
              "      <td>4</td>\n",
              "      <td>31</td>\n",
              "      <td>12</td>\n",
              "      <td>0</td>\n",
              "      <td>5</td>\n",
              "      <td>5</td>\n",
              "      <td>2</td>\n",
              "    </tr>\n",
              "    <tr>\n",
              "      <th>23</th>\n",
              "      <td>1</td>\n",
              "      <td>11</td>\n",
              "      <td>22</td>\n",
              "      <td>0</td>\n",
              "      <td>10003.0</td>\n",
              "      <td>0</td>\n",
              "      <td>30</td>\n",
              "      <td>7</td>\n",
              "      <td>8</td>\n",
              "      <td>2</td>\n",
              "      <td>2</td>\n",
              "      <td>1</td>\n",
              "    </tr>\n",
              "  </tbody>\n",
              "</table>\n",
              "</div>"
            ],
            "text/plain": [
              "      Agent Category Assigned  Type of Request  ...  A_2  Problem Category\n",
              "170                         1               15  ...    2                 1\n",
              "216                         1               10  ...    3                 1\n",
              "100                         1                2  ...    0                 1\n",
              "1638                        1               13  ...    5                 2\n",
              "23                          1               11  ...    2                 1\n",
              "\n",
              "[5 rows x 12 columns]"
            ]
          },
          "metadata": {
            "tags": []
          },
          "execution_count": 12
        }
      ]
    },
    {
      "cell_type": "code",
      "metadata": {
        "id": "n1kSu-2k4FI-",
        "colab_type": "code",
        "colab": {
          "base_uri": "https://localhost:8080/",
          "height": 34
        },
        "outputId": "1799ab0b-46a4-40cc-bacb-4bbc9b76294a"
      },
      "source": [
        "new_df.shape"
      ],
      "execution_count": 13,
      "outputs": [
        {
          "output_type": "execute_result",
          "data": {
            "text/plain": [
              "(738, 12)"
            ]
          },
          "metadata": {
            "tags": []
          },
          "execution_count": 13
        }
      ]
    },
    {
      "cell_type": "code",
      "metadata": {
        "id": "seYNL7UzNfcN",
        "colab_type": "code",
        "colab": {
          "base_uri": "https://localhost:8080/",
          "height": 34
        },
        "outputId": "1b519946-f041-4fbe-8f01-0ad1aed2e2b7"
      },
      "source": [
        "# Splitting Independent and Dependent Variables\n",
        "X = new_df.loc[:, new_df.columns != 'Problem Category'].values\n",
        "y = new_df['Problem Category'].values\n",
        "\n",
        "from sklearn.model_selection import train_test_split\n",
        "\n",
        "# Splitting the dataset into the Training set and Test set\n",
        "X_train, X_test, y_train, y_test = train_test_split(X, y, test_size=0.25, random_state=0, stratify=y)\n",
        "\n",
        "print(X_train.shape)"
      ],
      "execution_count": 14,
      "outputs": [
        {
          "output_type": "stream",
          "text": [
            "(553, 11)\n"
          ],
          "name": "stdout"
        }
      ]
    },
    {
      "cell_type": "code",
      "metadata": {
        "id": "8bFC9B3TPWpC",
        "colab_type": "code",
        "colab": {
          "base_uri": "https://localhost:8080/",
          "height": 212
        },
        "outputId": "a59664fd-fe35-445a-d8c0-d2ee7f0f7b45"
      },
      "source": [
        "# Checking Problem Category wise Data frequency \n",
        "print('Problem Category frequency :')\n",
        "print(new_df['Problem Category'].value_counts(normalize=True))\n",
        "print(' ')\n",
        "print('Problem Category count :')\n",
        "print(new_df['Problem Category'].value_counts())"
      ],
      "execution_count": 15,
      "outputs": [
        {
          "output_type": "stream",
          "text": [
            "Problem Category frequency :\n",
            "2    0.407859\n",
            "1    0.406504\n",
            "0    0.185637\n",
            "Name: Problem Category, dtype: float64\n",
            " \n",
            "Problem Category count :\n",
            "2    301\n",
            "1    300\n",
            "0    137\n",
            "Name: Problem Category, dtype: int64\n"
          ],
          "name": "stdout"
        }
      ]
    },
    {
      "cell_type": "markdown",
      "metadata": {
        "id": "vG7wiHDKMCTm",
        "colab_type": "text"
      },
      "source": [
        "#**Oversampling Category 0**"
      ]
    },
    {
      "cell_type": "code",
      "metadata": {
        "id": "dn55aNljMTE1",
        "colab_type": "code",
        "colab": {
          "base_uri": "https://localhost:8080/",
          "height": 178
        },
        "outputId": "d97e488c-f15a-4767-ddac-5fa6361f9f57"
      },
      "source": [
        "from imblearn.over_sampling import SMOTE\n",
        "smote = SMOTE('minority')\n",
        "x_sm, y_sm = smote.fit_sample(X_train, y_train)\n",
        "\n",
        "print(X_train.shape)\n",
        "print(x_sm.shape)"
      ],
      "execution_count": 16,
      "outputs": [
        {
          "output_type": "stream",
          "text": [
            "/usr/local/lib/python3.6/dist-packages/sklearn/externals/six.py:31: FutureWarning: The module is deprecated in version 0.21 and will be removed in version 0.23 since we've dropped support for Python 2.7. Please rely on the official version of six (https://pypi.org/project/six/).\n",
            "  \"(https://pypi.org/project/six/).\", FutureWarning)\n",
            "/usr/local/lib/python3.6/dist-packages/sklearn/utils/deprecation.py:144: FutureWarning: The sklearn.neighbors.base module is  deprecated in version 0.22 and will be removed in version 0.24. The corresponding classes / functions should instead be imported from sklearn.neighbors. Anything that cannot be imported from sklearn.neighbors is now part of the private API.\n",
            "  warnings.warn(message, FutureWarning)\n"
          ],
          "name": "stderr"
        },
        {
          "output_type": "stream",
          "text": [
            "(553, 11)\n",
            "(675, 11)\n"
          ],
          "name": "stdout"
        },
        {
          "output_type": "stream",
          "text": [
            "/usr/local/lib/python3.6/dist-packages/sklearn/utils/deprecation.py:87: FutureWarning: Function safe_indexing is deprecated; safe_indexing is deprecated in version 0.22 and will be removed in version 0.24.\n",
            "  warnings.warn(msg, category=FutureWarning)\n"
          ],
          "name": "stderr"
        }
      ]
    },
    {
      "cell_type": "markdown",
      "metadata": {
        "id": "l8Upuli5-iTw",
        "colab_type": "text"
      },
      "source": [
        "# **Applying Classifiers**"
      ]
    },
    {
      "cell_type": "code",
      "metadata": {
        "id": "bB3GA1cSQX8I",
        "colab_type": "code",
        "colab": {}
      },
      "source": [
        "import numpy as np\n",
        "from sklearn.metrics import roc_auc_score\n",
        "from sklearn.preprocessing import LabelBinarizer\n",
        "from sklearn.metrics import precision_score\n",
        "from sklearn.metrics import recall_score\n",
        "\n",
        "#In an imbalanced classification problem with more than two classes, precision is \n",
        "#calculated as the sum of true positives across all classes divided by the sum of \n",
        "#true positives and false positives across all classes.\n",
        "\n",
        "#When using the precision_score() function for multiclass classification, it is \n",
        "#important to specify the minority classes via the “labels” argument and to perform \n",
        "#set the “average” argument to ‘micro‘ to ensure the calculation is performed as we expect.\n",
        "# calculate prediction\n",
        "def multiclass_precision_score(y_test, y_pred, average=\"macro\"):\n",
        "  precision = precision_score(y_test, y_pred, labels=[0,2], average=average)\n",
        "  return precision\n",
        "\n",
        "#Recall is a metric that quantifies the number of correct positive predictions made \n",
        "#out of all positive predictions that could have been made.\n",
        "# calculate recall\n",
        "def multiclass_recall_score(y_test, y_pred, average='macro'):\n",
        "  recall = recall_score(y_test, y_pred, average=average)\n",
        "  return recall"
      ],
      "execution_count": 17,
      "outputs": []
    },
    {
      "cell_type": "code",
      "metadata": {
        "id": "B5FrJhwjT-Fb",
        "colab_type": "code",
        "colab": {
          "base_uri": "https://localhost:8080/",
          "height": 176
        },
        "outputId": "9bd569b9-ee46-4b66-e7ca-aa1b8cad15f4"
      },
      "source": [
        "from sklearn.linear_model import LogisticRegression\n",
        "logisticRegr = LogisticRegression()\n",
        "logisticRegr.fit(x_sm, y_sm)\n",
        "\n",
        "predictions = logisticRegr.predict(X_test)\n",
        "score = logisticRegr.score(X_test, y_test)\n",
        "print(score)"
      ],
      "execution_count": 18,
      "outputs": [
        {
          "output_type": "stream",
          "text": [
            "0.6918918918918919\n"
          ],
          "name": "stdout"
        },
        {
          "output_type": "stream",
          "text": [
            "/usr/local/lib/python3.6/dist-packages/sklearn/linear_model/_logistic.py:940: ConvergenceWarning: lbfgs failed to converge (status=1):\n",
            "STOP: TOTAL NO. of ITERATIONS REACHED LIMIT.\n",
            "\n",
            "Increase the number of iterations (max_iter) or scale the data as shown in:\n",
            "    https://scikit-learn.org/stable/modules/preprocessing.html\n",
            "Please also refer to the documentation for alternative solver options:\n",
            "    https://scikit-learn.org/stable/modules/linear_model.html#logistic-regression\n",
            "  extra_warning_msg=_LOGISTIC_SOLVER_CONVERGENCE_MSG)\n"
          ],
          "name": "stderr"
        }
      ]
    },
    {
      "cell_type": "code",
      "metadata": {
        "id": "-GO9cAbyUNx7",
        "colab_type": "code",
        "colab": {
          "base_uri": "https://localhost:8080/",
          "height": 70
        },
        "outputId": "8dbef9c8-d495-4410-e2a6-ba71a3a90ff1"
      },
      "source": [
        "import xgboost as xgb\n",
        "import warnings\n",
        "warnings.filterwarnings(\"ignore\")\n",
        "warnings.filterwarnings(module='sklearn*', action='ignore', category=DeprecationWarning)\n",
        "from sklearn.tree import DecisionTreeClassifier \n",
        "from sklearn.ensemble import RandomForestClassifier\n",
        "from sklearn.metrics import confusion_matrix\n",
        "\n",
        "dtree_model = DecisionTreeClassifier(max_depth=2).fit(x_sm, y_sm)   #Optimum Value for max_depth : 10\n",
        "dtree_predictions_2 = dtree_model.predict(X_test)\n",
        "\n",
        "#print('Accuracy : ', accuracy_score(y_test, dtree_predictions_2))\n",
        "#print('ROC for DecisionTreeClassifier : ', multiclass_roc_auc_score(y_test, dtree_predictions_2))\n",
        "\n",
        "print('DecisionTreeClassifier + SMOTE')\n",
        "print('Precision: ', multiclass_recall_score(y_test, dtree_predictions_2))\n",
        "print('Recall: ', multiclass_precision_score(y_test, dtree_predictions_2))"
      ],
      "execution_count": 19,
      "outputs": [
        {
          "output_type": "stream",
          "text": [
            "DecisionTreeClassifier + SMOTE\n",
            "Precision:  0.6470588235294118\n",
            "Recall:  0.14953271028037382\n"
          ],
          "name": "stdout"
        }
      ]
    },
    {
      "cell_type": "code",
      "metadata": {
        "id": "6N3ZUHPQ_YeT",
        "colab_type": "code",
        "colab": {
          "base_uri": "https://localhost:8080/",
          "height": 88
        },
        "outputId": "04c3494e-b3a6-4050-cd5c-ccd1e21e1616"
      },
      "source": [
        "# Creates a confusion matrix\n",
        "cm = confusion_matrix(y_test, dtree_predictions_2)\n",
        "cm_df = pd.DataFrame(cm)\n",
        "cm_df.style.background_gradient(cmap='coolwarm')"
      ],
      "execution_count": 20,
      "outputs": [
        {
          "output_type": "execute_result",
          "data": {
            "text/html": [
              "<style  type=\"text/css\" >\n",
              "    #T_5c42f91a_ea26_11ea_9c0f_0242ac1c0002row0_col0 {\n",
              "            background-color:  #c9d7f0;\n",
              "            color:  #000000;\n",
              "        }    #T_5c42f91a_ea26_11ea_9c0f_0242ac1c0002row0_col1 {\n",
              "            background-color:  #3e51c5;\n",
              "            color:  #f1f1f1;\n",
              "        }    #T_5c42f91a_ea26_11ea_9c0f_0242ac1c0002row0_col2 {\n",
              "            background-color:  #3b4cc0;\n",
              "            color:  #f1f1f1;\n",
              "        }    #T_5c42f91a_ea26_11ea_9c0f_0242ac1c0002row1_col0 {\n",
              "            background-color:  #3b4cc0;\n",
              "            color:  #f1f1f1;\n",
              "        }    #T_5c42f91a_ea26_11ea_9c0f_0242ac1c0002row1_col1 {\n",
              "            background-color:  #b40426;\n",
              "            color:  #f1f1f1;\n",
              "        }    #T_5c42f91a_ea26_11ea_9c0f_0242ac1c0002row1_col2 {\n",
              "            background-color:  #3b4cc0;\n",
              "            color:  #f1f1f1;\n",
              "        }    #T_5c42f91a_ea26_11ea_9c0f_0242ac1c0002row2_col0 {\n",
              "            background-color:  #b40426;\n",
              "            color:  #f1f1f1;\n",
              "        }    #T_5c42f91a_ea26_11ea_9c0f_0242ac1c0002row2_col1 {\n",
              "            background-color:  #3b4cc0;\n",
              "            color:  #f1f1f1;\n",
              "        }    #T_5c42f91a_ea26_11ea_9c0f_0242ac1c0002row2_col2 {\n",
              "            background-color:  #3b4cc0;\n",
              "            color:  #f1f1f1;\n",
              "        }</style><table id=\"T_5c42f91a_ea26_11ea_9c0f_0242ac1c0002\" ><thead>    <tr>        <th class=\"blank level0\" ></th>        <th class=\"col_heading level0 col0\" >0</th>        <th class=\"col_heading level0 col1\" >1</th>        <th class=\"col_heading level0 col2\" >2</th>    </tr></thead><tbody>\n",
              "                <tr>\n",
              "                        <th id=\"T_5c42f91a_ea26_11ea_9c0f_0242ac1c0002level0_row0\" class=\"row_heading level0 row0\" >0</th>\n",
              "                        <td id=\"T_5c42f91a_ea26_11ea_9c0f_0242ac1c0002row0_col0\" class=\"data row0 col0\" >32</td>\n",
              "                        <td id=\"T_5c42f91a_ea26_11ea_9c0f_0242ac1c0002row0_col1\" class=\"data row0 col1\" >2</td>\n",
              "                        <td id=\"T_5c42f91a_ea26_11ea_9c0f_0242ac1c0002row0_col2\" class=\"data row0 col2\" >0</td>\n",
              "            </tr>\n",
              "            <tr>\n",
              "                        <th id=\"T_5c42f91a_ea26_11ea_9c0f_0242ac1c0002level0_row1\" class=\"row_heading level0 row1\" >1</th>\n",
              "                        <td id=\"T_5c42f91a_ea26_11ea_9c0f_0242ac1c0002row1_col0\" class=\"data row1 col0\" >0</td>\n",
              "                        <td id=\"T_5c42f91a_ea26_11ea_9c0f_0242ac1c0002row1_col1\" class=\"data row1 col1\" >75</td>\n",
              "                        <td id=\"T_5c42f91a_ea26_11ea_9c0f_0242ac1c0002row1_col2\" class=\"data row1 col2\" >0</td>\n",
              "            </tr>\n",
              "            <tr>\n",
              "                        <th id=\"T_5c42f91a_ea26_11ea_9c0f_0242ac1c0002level0_row2\" class=\"row_heading level0 row2\" >2</th>\n",
              "                        <td id=\"T_5c42f91a_ea26_11ea_9c0f_0242ac1c0002row2_col0\" class=\"data row2 col0\" >75</td>\n",
              "                        <td id=\"T_5c42f91a_ea26_11ea_9c0f_0242ac1c0002row2_col1\" class=\"data row2 col1\" >1</td>\n",
              "                        <td id=\"T_5c42f91a_ea26_11ea_9c0f_0242ac1c0002row2_col2\" class=\"data row2 col2\" >0</td>\n",
              "            </tr>\n",
              "    </tbody></table>"
            ],
            "text/plain": [
              "<pandas.io.formats.style.Styler at 0x7f035cb683c8>"
            ]
          },
          "metadata": {
            "tags": []
          },
          "execution_count": 20
        }
      ]
    },
    {
      "cell_type": "code",
      "metadata": {
        "id": "iTdYdocKUZlH",
        "colab_type": "code",
        "colab": {
          "base_uri": "https://localhost:8080/",
          "height": 70
        },
        "outputId": "d6de0a8d-15bc-4016-b7ca-83514cdaae3e"
      },
      "source": [
        "rf_clf = RandomForestClassifier(random_state=0, n_jobs=-1)   \n",
        "rf_clf.fit(x_sm, y_sm)\n",
        "rf_predictions_2 = rf_clf.predict(X_test)\n",
        "    \n",
        "#print('Accuracy : ', accuracy_score(y_test, rf_predictions_2))\n",
        "#print('ROC for RandomForestClassifier : ', multiclass_roc_auc_score(y_test, rf_predictions_2))\n",
        "\n",
        "print('RandomForestClassifier + SMOTE')\n",
        "print('Precision: ', multiclass_recall_score(y_test, rf_predictions_2))\n",
        "print('Recall: ', multiclass_precision_score(y_test, rf_predictions_2))"
      ],
      "execution_count": 21,
      "outputs": [
        {
          "output_type": "stream",
          "text": [
            "RandomForestClassifier + SMOTE\n",
            "Precision:  0.6859580323357414\n",
            "Recall:  0.532520325203252\n"
          ],
          "name": "stdout"
        }
      ]
    },
    {
      "cell_type": "code",
      "metadata": {
        "id": "h7-3Y1p8_icJ",
        "colab_type": "code",
        "colab": {
          "base_uri": "https://localhost:8080/",
          "height": 88
        },
        "outputId": "3741e280-b933-4759-a9c9-4ba292996b8c"
      },
      "source": [
        "# Creates a confusion matrix\n",
        "cm = confusion_matrix(y_test, rf_predictions_2)\n",
        "cm_df = pd.DataFrame(cm)\n",
        "cm_df.style.background_gradient(cmap='coolwarm')"
      ],
      "execution_count": 22,
      "outputs": [
        {
          "output_type": "execute_result",
          "data": {
            "text/html": [
              "<style  type=\"text/css\" >\n",
              "    #T_5c7ed908_ea26_11ea_9c0f_0242ac1c0002row0_col0 {\n",
              "            background-color:  #dddcdc;\n",
              "            color:  #000000;\n",
              "        }    #T_5c7ed908_ea26_11ea_9c0f_0242ac1c0002row0_col1 {\n",
              "            background-color:  #3b4cc0;\n",
              "            color:  #f1f1f1;\n",
              "        }    #T_5c7ed908_ea26_11ea_9c0f_0242ac1c0002row0_col2 {\n",
              "            background-color:  #b5cdfa;\n",
              "            color:  #000000;\n",
              "        }    #T_5c7ed908_ea26_11ea_9c0f_0242ac1c0002row1_col0 {\n",
              "            background-color:  #3b4cc0;\n",
              "            color:  #f1f1f1;\n",
              "        }    #T_5c7ed908_ea26_11ea_9c0f_0242ac1c0002row1_col1 {\n",
              "            background-color:  #b40426;\n",
              "            color:  #f1f1f1;\n",
              "        }    #T_5c7ed908_ea26_11ea_9c0f_0242ac1c0002row1_col2 {\n",
              "            background-color:  #3b4cc0;\n",
              "            color:  #f1f1f1;\n",
              "        }    #T_5c7ed908_ea26_11ea_9c0f_0242ac1c0002row2_col0 {\n",
              "            background-color:  #b40426;\n",
              "            color:  #f1f1f1;\n",
              "        }    #T_5c7ed908_ea26_11ea_9c0f_0242ac1c0002row2_col1 {\n",
              "            background-color:  #3e51c5;\n",
              "            color:  #f1f1f1;\n",
              "        }    #T_5c7ed908_ea26_11ea_9c0f_0242ac1c0002row2_col2 {\n",
              "            background-color:  #b40426;\n",
              "            color:  #f1f1f1;\n",
              "        }</style><table id=\"T_5c7ed908_ea26_11ea_9c0f_0242ac1c0002\" ><thead>    <tr>        <th class=\"blank level0\" ></th>        <th class=\"col_heading level0 col0\" >0</th>        <th class=\"col_heading level0 col1\" >1</th>        <th class=\"col_heading level0 col2\" >2</th>    </tr></thead><tbody>\n",
              "                <tr>\n",
              "                        <th id=\"T_5c7ed908_ea26_11ea_9c0f_0242ac1c0002level0_row0\" class=\"row_heading level0 row0\" >0</th>\n",
              "                        <td id=\"T_5c7ed908_ea26_11ea_9c0f_0242ac1c0002row0_col0\" class=\"data row0 col0\" >23</td>\n",
              "                        <td id=\"T_5c7ed908_ea26_11ea_9c0f_0242ac1c0002row0_col1\" class=\"data row0 col1\" >0</td>\n",
              "                        <td id=\"T_5c7ed908_ea26_11ea_9c0f_0242ac1c0002row0_col2\" class=\"data row0 col2\" >11</td>\n",
              "            </tr>\n",
              "            <tr>\n",
              "                        <th id=\"T_5c7ed908_ea26_11ea_9c0f_0242ac1c0002level0_row1\" class=\"row_heading level0 row1\" >1</th>\n",
              "                        <td id=\"T_5c7ed908_ea26_11ea_9c0f_0242ac1c0002row1_col0\" class=\"data row1 col0\" >1</td>\n",
              "                        <td id=\"T_5c7ed908_ea26_11ea_9c0f_0242ac1c0002row1_col1\" class=\"data row1 col1\" >74</td>\n",
              "                        <td id=\"T_5c7ed908_ea26_11ea_9c0f_0242ac1c0002row1_col2\" class=\"data row1 col2\" >0</td>\n",
              "            </tr>\n",
              "            <tr>\n",
              "                        <th id=\"T_5c7ed908_ea26_11ea_9c0f_0242ac1c0002level0_row2\" class=\"row_heading level0 row2\" >2</th>\n",
              "                        <td id=\"T_5c7ed908_ea26_11ea_9c0f_0242ac1c0002row2_col0\" class=\"data row2 col0\" >45</td>\n",
              "                        <td id=\"T_5c7ed908_ea26_11ea_9c0f_0242ac1c0002row2_col1\" class=\"data row2 col1\" >1</td>\n",
              "                        <td id=\"T_5c7ed908_ea26_11ea_9c0f_0242ac1c0002row2_col2\" class=\"data row2 col2\" >30</td>\n",
              "            </tr>\n",
              "    </tbody></table>"
            ],
            "text/plain": [
              "<pandas.io.formats.style.Styler at 0x7f0352c62ac8>"
            ]
          },
          "metadata": {
            "tags": []
          },
          "execution_count": 22
        }
      ]
    },
    {
      "cell_type": "code",
      "metadata": {
        "id": "aFYGQkKdTxI6",
        "colab_type": "code",
        "colab": {
          "base_uri": "https://localhost:8080/",
          "height": 70
        },
        "outputId": "820827d5-0afc-4438-c51b-b4b0615e24bd"
      },
      "source": [
        "#XGB Classifier\n",
        "xg_cl = xgb.XGBClassifier(objective= \"multi:softprob\", \n",
        "                                  n_estimators=5500, \n",
        "                                  learning_rate=0.1, \n",
        "                                  seed=123,\n",
        "                                  max_depth=2)\n",
        "\n",
        "xg_cl.fit(x_sm, y_sm)\n",
        "\n",
        "preds_5000_2 = xg_cl.predict(X_test)\n",
        "        \n",
        "#print('Accuracy : ', accuracy_score(y_test, preds_5000_2))\n",
        "#print('ROC for XGBClassifier(5000) : ', multiclass_roc_auc_score(y_test, preds_5000_2))\n",
        "\n",
        "print('XGBClassifier(5000) + SMOTE')\n",
        "print('Precision: ', multiclass_recall_score(y_test, preds_5000_2))\n",
        "print('Recall: ', multiclass_precision_score(y_test, preds_5000_2))"
      ],
      "execution_count": 23,
      "outputs": [
        {
          "output_type": "stream",
          "text": [
            "XGBClassifier(5000) + SMOTE\n",
            "Precision:  0.6762125902992776\n",
            "Recall:  0.5130788264404382\n"
          ],
          "name": "stdout"
        }
      ]
    },
    {
      "cell_type": "code",
      "metadata": {
        "id": "SKIJFaDwBEox",
        "colab_type": "code",
        "colab": {
          "base_uri": "https://localhost:8080/",
          "height": 88
        },
        "outputId": "d2fdbae8-1513-4fab-ba2d-13273bef29f8"
      },
      "source": [
        "# Creates a confusion matrix\n",
        "cm = confusion_matrix(y_test, rf_predictions_2)\n",
        "cm_df = pd.DataFrame(cm)\n",
        "cm_df.style.background_gradient(cmap='coolwarm')"
      ],
      "execution_count": 24,
      "outputs": [
        {
          "output_type": "execute_result",
          "data": {
            "text/html": [
              "<style  type=\"text/css\" >\n",
              "    #T_5ea34ea8_ea26_11ea_9c0f_0242ac1c0002row0_col0 {\n",
              "            background-color:  #dddcdc;\n",
              "            color:  #000000;\n",
              "        }    #T_5ea34ea8_ea26_11ea_9c0f_0242ac1c0002row0_col1 {\n",
              "            background-color:  #3b4cc0;\n",
              "            color:  #f1f1f1;\n",
              "        }    #T_5ea34ea8_ea26_11ea_9c0f_0242ac1c0002row0_col2 {\n",
              "            background-color:  #b5cdfa;\n",
              "            color:  #000000;\n",
              "        }    #T_5ea34ea8_ea26_11ea_9c0f_0242ac1c0002row1_col0 {\n",
              "            background-color:  #3b4cc0;\n",
              "            color:  #f1f1f1;\n",
              "        }    #T_5ea34ea8_ea26_11ea_9c0f_0242ac1c0002row1_col1 {\n",
              "            background-color:  #b40426;\n",
              "            color:  #f1f1f1;\n",
              "        }    #T_5ea34ea8_ea26_11ea_9c0f_0242ac1c0002row1_col2 {\n",
              "            background-color:  #3b4cc0;\n",
              "            color:  #f1f1f1;\n",
              "        }    #T_5ea34ea8_ea26_11ea_9c0f_0242ac1c0002row2_col0 {\n",
              "            background-color:  #b40426;\n",
              "            color:  #f1f1f1;\n",
              "        }    #T_5ea34ea8_ea26_11ea_9c0f_0242ac1c0002row2_col1 {\n",
              "            background-color:  #3e51c5;\n",
              "            color:  #f1f1f1;\n",
              "        }    #T_5ea34ea8_ea26_11ea_9c0f_0242ac1c0002row2_col2 {\n",
              "            background-color:  #b40426;\n",
              "            color:  #f1f1f1;\n",
              "        }</style><table id=\"T_5ea34ea8_ea26_11ea_9c0f_0242ac1c0002\" ><thead>    <tr>        <th class=\"blank level0\" ></th>        <th class=\"col_heading level0 col0\" >0</th>        <th class=\"col_heading level0 col1\" >1</th>        <th class=\"col_heading level0 col2\" >2</th>    </tr></thead><tbody>\n",
              "                <tr>\n",
              "                        <th id=\"T_5ea34ea8_ea26_11ea_9c0f_0242ac1c0002level0_row0\" class=\"row_heading level0 row0\" >0</th>\n",
              "                        <td id=\"T_5ea34ea8_ea26_11ea_9c0f_0242ac1c0002row0_col0\" class=\"data row0 col0\" >23</td>\n",
              "                        <td id=\"T_5ea34ea8_ea26_11ea_9c0f_0242ac1c0002row0_col1\" class=\"data row0 col1\" >0</td>\n",
              "                        <td id=\"T_5ea34ea8_ea26_11ea_9c0f_0242ac1c0002row0_col2\" class=\"data row0 col2\" >11</td>\n",
              "            </tr>\n",
              "            <tr>\n",
              "                        <th id=\"T_5ea34ea8_ea26_11ea_9c0f_0242ac1c0002level0_row1\" class=\"row_heading level0 row1\" >1</th>\n",
              "                        <td id=\"T_5ea34ea8_ea26_11ea_9c0f_0242ac1c0002row1_col0\" class=\"data row1 col0\" >1</td>\n",
              "                        <td id=\"T_5ea34ea8_ea26_11ea_9c0f_0242ac1c0002row1_col1\" class=\"data row1 col1\" >74</td>\n",
              "                        <td id=\"T_5ea34ea8_ea26_11ea_9c0f_0242ac1c0002row1_col2\" class=\"data row1 col2\" >0</td>\n",
              "            </tr>\n",
              "            <tr>\n",
              "                        <th id=\"T_5ea34ea8_ea26_11ea_9c0f_0242ac1c0002level0_row2\" class=\"row_heading level0 row2\" >2</th>\n",
              "                        <td id=\"T_5ea34ea8_ea26_11ea_9c0f_0242ac1c0002row2_col0\" class=\"data row2 col0\" >45</td>\n",
              "                        <td id=\"T_5ea34ea8_ea26_11ea_9c0f_0242ac1c0002row2_col1\" class=\"data row2 col1\" >1</td>\n",
              "                        <td id=\"T_5ea34ea8_ea26_11ea_9c0f_0242ac1c0002row2_col2\" class=\"data row2 col2\" >30</td>\n",
              "            </tr>\n",
              "    </tbody></table>"
            ],
            "text/plain": [
              "<pandas.io.formats.style.Styler at 0x7f035cb68940>"
            ]
          },
          "metadata": {
            "tags": []
          },
          "execution_count": 24
        }
      ]
    },
    {
      "cell_type": "markdown",
      "metadata": {
        "id": "RJcunivxGwLm",
        "colab_type": "text"
      },
      "source": [
        "#**Precision vs. Recall for Imbalanced Classification**\n",
        "You may decide to use precision or recall on your imbalanced classification problem. </br>\n",
        "\n",
        "Maximizing precision will minimize the number false positives, whereas maximizing the recall will minimize the number of false negatives. </br>\n",
        "\n",
        "Precision: Appropriate when minimizing false positives is the focus. </br>\n",
        "Recall: Appropriate when minimizing false negatives is the focus. </br>"
      ]
    }
  ]
}