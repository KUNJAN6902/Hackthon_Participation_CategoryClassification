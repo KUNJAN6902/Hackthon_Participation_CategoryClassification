{
  "nbformat": 4,
  "nbformat_minor": 0,
  "metadata": {
    "colab": {
      "name": "Piramal_Hackathon_Version_6.ipynb",
      "provenance": [],
      "collapsed_sections": [
        "LmZ1GymVBpWQ",
        "9fpeq2ZKBy7-",
        "on8zXrJ1Tx5v"
      ],
      "toc_visible": true
    },
    "kernelspec": {
      "name": "python3",
      "display_name": "Python 3"
    }
  },
  "cells": [
    {
      "cell_type": "markdown",
      "metadata": {
        "id": "LmZ1GymVBpWQ",
        "colab_type": "text"
      },
      "source": [
        "#**Approach Description**"
      ]
    },
    {
      "cell_type": "markdown",
      "metadata": {
        "id": "K-mdLsv0BUYB",
        "colab_type": "text"
      },
      "source": [
        "In this Notebook, I am trying to check how logisitc regression with \"class_weight=balanced\" behaves on dataset. I will take whole dataset and let Logistic regression take care of class imbalanced.\n",
        "\n",
        "First approach listed here is based on my Notebook 4 Data PreProcessing. And, Second approach listed here is based on my Notebook 3 Data Processing.\n",
        "\n",
        "Let us see what happens !! "
      ]
    },
    {
      "cell_type": "markdown",
      "metadata": {
        "id": "pcXzUZKUaSwN",
        "colab_type": "text"
      },
      "source": [
        "## **Approach 1 - Data PreProcessing based on Abhishek Thakur's post**"
      ]
    },
    {
      "cell_type": "markdown",
      "metadata": {
        "id": "9fpeq2ZKBy7-",
        "colab_type": "text"
      },
      "source": [
        "#Loading data"
      ]
    },
    {
      "cell_type": "code",
      "metadata": {
        "id": "o1PNFLjMX31d",
        "colab_type": "code",
        "colab": {
          "base_uri": "https://localhost:8080/",
          "height": 397
        },
        "outputId": "5a4eecfb-bc3b-48e2-f020-668de0bd5a6d"
      },
      "source": [
        "import pandas as pd\n",
        "\n",
        "train = pd.read_csv('Train.csv')\n",
        "train.head()"
      ],
      "execution_count": 18,
      "outputs": [
        {
          "output_type": "execute_result",
          "data": {
            "text/html": [
              "<div>\n",
              "<style scoped>\n",
              "    .dataframe tbody tr th:only-of-type {\n",
              "        vertical-align: middle;\n",
              "    }\n",
              "\n",
              "    .dataframe tbody tr th {\n",
              "        vertical-align: top;\n",
              "    }\n",
              "\n",
              "    .dataframe thead th {\n",
              "        text-align: right;\n",
              "    }\n",
              "</style>\n",
              "<table border=\"1\" class=\"dataframe\">\n",
              "  <thead>\n",
              "    <tr style=\"text-align: right;\">\n",
              "      <th></th>\n",
              "      <th>L_Id</th>\n",
              "      <th>Date of Creation</th>\n",
              "      <th>Agent Category Assigned</th>\n",
              "      <th>Type of Request</th>\n",
              "      <th>Description of the Request</th>\n",
              "      <th>Location</th>\n",
              "      <th>Street Type</th>\n",
              "      <th>Region Type</th>\n",
              "      <th>Ward No</th>\n",
              "      <th>Estimated Date of Completion</th>\n",
              "      <th>Request Solution Category</th>\n",
              "      <th>Actual Date of Completion</th>\n",
              "      <th>Team Assigned</th>\n",
              "      <th>A_1</th>\n",
              "      <th>A_2</th>\n",
              "      <th>Problem Category</th>\n",
              "    </tr>\n",
              "  </thead>\n",
              "  <tbody>\n",
              "    <tr>\n",
              "      <th>0</th>\n",
              "      <td>LM_1</td>\n",
              "      <td>18-12-2018 00:29</td>\n",
              "      <td>1</td>\n",
              "      <td>10</td>\n",
              "      <td>2</td>\n",
              "      <td>13</td>\n",
              "      <td>11223.0</td>\n",
              "      <td>0</td>\n",
              "      <td>7</td>\n",
              "      <td>18-12-2018 09:29</td>\n",
              "      <td>4</td>\n",
              "      <td>18-12-2018 05:34</td>\n",
              "      <td>45</td>\n",
              "      <td>1</td>\n",
              "      <td>1</td>\n",
              "      <td>1</td>\n",
              "    </tr>\n",
              "    <tr>\n",
              "      <th>1</th>\n",
              "      <td>LM_2</td>\n",
              "      <td>30-11-2018 22:19</td>\n",
              "      <td>1</td>\n",
              "      <td>15</td>\n",
              "      <td>17</td>\n",
              "      <td>13</td>\n",
              "      <td>10019.0</td>\n",
              "      <td>0</td>\n",
              "      <td>30</td>\n",
              "      <td>01-12-2018 07:19</td>\n",
              "      <td>8</td>\n",
              "      <td>01-12-2018 00:35</td>\n",
              "      <td>22</td>\n",
              "      <td>2</td>\n",
              "      <td>2</td>\n",
              "      <td>1</td>\n",
              "    </tr>\n",
              "    <tr>\n",
              "      <th>2</th>\n",
              "      <td>LM_3</td>\n",
              "      <td>12-12-2018 02:37</td>\n",
              "      <td>1</td>\n",
              "      <td>11</td>\n",
              "      <td>22</td>\n",
              "      <td>0</td>\n",
              "      <td>11237.0</td>\n",
              "      <td>2</td>\n",
              "      <td>7</td>\n",
              "      <td>12-12-2018 11:37</td>\n",
              "      <td>8</td>\n",
              "      <td>12-12-2018 04:29</td>\n",
              "      <td>17</td>\n",
              "      <td>1</td>\n",
              "      <td>1</td>\n",
              "      <td>1</td>\n",
              "    </tr>\n",
              "    <tr>\n",
              "      <th>3</th>\n",
              "      <td>LM_4</td>\n",
              "      <td>26-12-2018 01:45</td>\n",
              "      <td>1</td>\n",
              "      <td>11</td>\n",
              "      <td>22</td>\n",
              "      <td>12</td>\n",
              "      <td>11213.0</td>\n",
              "      <td>0</td>\n",
              "      <td>7</td>\n",
              "      <td>26-12-2018 10:45</td>\n",
              "      <td>7</td>\n",
              "      <td>26-12-2018 05:26</td>\n",
              "      <td>33</td>\n",
              "      <td>1</td>\n",
              "      <td>1</td>\n",
              "      <td>1</td>\n",
              "    </tr>\n",
              "    <tr>\n",
              "      <th>4</th>\n",
              "      <td>LM_5</td>\n",
              "      <td>24-12-2018 03:22</td>\n",
              "      <td>1</td>\n",
              "      <td>2</td>\n",
              "      <td>27</td>\n",
              "      <td>13</td>\n",
              "      <td>10460.0</td>\n",
              "      <td>0</td>\n",
              "      <td>6</td>\n",
              "      <td>24-12-2018 12:22</td>\n",
              "      <td>4</td>\n",
              "      <td>24-12-2018 10:20</td>\n",
              "      <td>24</td>\n",
              "      <td>0</td>\n",
              "      <td>0</td>\n",
              "      <td>1</td>\n",
              "    </tr>\n",
              "  </tbody>\n",
              "</table>\n",
              "</div>"
            ],
            "text/plain": [
              "   L_Id  Date of Creation  Agent Category Assigned  ...  A_1  A_2  Problem Category\n",
              "0  LM_1  18-12-2018 00:29                        1  ...    1    1                 1\n",
              "1  LM_2  30-11-2018 22:19                        1  ...    2    2                 1\n",
              "2  LM_3  12-12-2018 02:37                        1  ...    1    1                 1\n",
              "3  LM_4  26-12-2018 01:45                        1  ...    1    1                 1\n",
              "4  LM_5  24-12-2018 03:22                        1  ...    0    0                 1\n",
              "\n",
              "[5 rows x 16 columns]"
            ]
          },
          "metadata": {
            "tags": []
          },
          "execution_count": 18
        }
      ]
    },
    {
      "cell_type": "markdown",
      "metadata": {
        "id": "on8zXrJ1Tx5v",
        "colab_type": "text"
      },
      "source": [
        "#**Numerical Variables**"
      ]
    },
    {
      "cell_type": "code",
      "metadata": {
        "id": "URLRajNtUsF_",
        "colab_type": "code",
        "colab": {
          "base_uri": "https://localhost:8080/",
          "height": 318
        },
        "outputId": "66b4fbcd-5122-4b2d-8e4e-37c00c144812"
      },
      "source": [
        "train.dtypes"
      ],
      "execution_count": 19,
      "outputs": [
        {
          "output_type": "execute_result",
          "data": {
            "text/plain": [
              "L_Id                             object\n",
              "Date of Creation                 object\n",
              "Agent Category Assigned           int64\n",
              "Type of Request                   int64\n",
              "Description of the Request        int64\n",
              "Location                          int64\n",
              "Street Type                     float64\n",
              "Region Type                       int64\n",
              "Ward No                           int64\n",
              "Estimated Date of Completion     object\n",
              "Request Solution Category         int64\n",
              "Actual Date of Completion        object\n",
              "Team Assigned                     int64\n",
              "A_1                               int64\n",
              "A_2                               int64\n",
              "Problem Category                  int64\n",
              "dtype: object"
            ]
          },
          "metadata": {
            "tags": []
          },
          "execution_count": 19
        }
      ]
    },
    {
      "cell_type": "code",
      "metadata": {
        "id": "FAnb2TF3ToST",
        "colab_type": "code",
        "colab": {
          "base_uri": "https://localhost:8080/",
          "height": 105
        },
        "outputId": "95b259b3-1c4b-4cd5-892d-3026c828db2a"
      },
      "source": [
        "train.select_dtypes(include=['int64','float64']).columns"
      ],
      "execution_count": 20,
      "outputs": [
        {
          "output_type": "execute_result",
          "data": {
            "text/plain": [
              "Index(['Agent Category Assigned', 'Type of Request',\n",
              "       'Description of the Request', 'Location', 'Street Type', 'Region Type',\n",
              "       'Ward No', 'Request Solution Category', 'Team Assigned', 'A_1', 'A_2',\n",
              "       'Problem Category'],\n",
              "      dtype='object')"
            ]
          },
          "metadata": {
            "tags": []
          },
          "execution_count": 20
        }
      ]
    },
    {
      "cell_type": "markdown",
      "metadata": {
        "id": "Pv6JK7MsYaMP",
        "colab_type": "text"
      },
      "source": [
        "We will keep all Numeric features and remove all Other Columns\n",
        "\n",
        "---\n",
        "\n"
      ]
    },
    {
      "cell_type": "code",
      "metadata": {
        "id": "wxu8bKKSZYfk",
        "colab_type": "code",
        "colab": {}
      },
      "source": [
        "train.drop(['L_Id', 'Date of Creation', 'Estimated Date of Completion', 'Actual Date of Completion'], axis=1, inplace=True)"
      ],
      "execution_count": 21,
      "outputs": []
    },
    {
      "cell_type": "code",
      "metadata": {
        "id": "GB9gqA7dZs-L",
        "colab_type": "code",
        "colab": {
          "base_uri": "https://localhost:8080/",
          "height": 214
        },
        "outputId": "54e6c005-a6fd-40ea-fbab-d0df40526f95"
      },
      "source": [
        "train.head()"
      ],
      "execution_count": 22,
      "outputs": [
        {
          "output_type": "execute_result",
          "data": {
            "text/html": [
              "<div>\n",
              "<style scoped>\n",
              "    .dataframe tbody tr th:only-of-type {\n",
              "        vertical-align: middle;\n",
              "    }\n",
              "\n",
              "    .dataframe tbody tr th {\n",
              "        vertical-align: top;\n",
              "    }\n",
              "\n",
              "    .dataframe thead th {\n",
              "        text-align: right;\n",
              "    }\n",
              "</style>\n",
              "<table border=\"1\" class=\"dataframe\">\n",
              "  <thead>\n",
              "    <tr style=\"text-align: right;\">\n",
              "      <th></th>\n",
              "      <th>Agent Category Assigned</th>\n",
              "      <th>Type of Request</th>\n",
              "      <th>Description of the Request</th>\n",
              "      <th>Location</th>\n",
              "      <th>Street Type</th>\n",
              "      <th>Region Type</th>\n",
              "      <th>Ward No</th>\n",
              "      <th>Request Solution Category</th>\n",
              "      <th>Team Assigned</th>\n",
              "      <th>A_1</th>\n",
              "      <th>A_2</th>\n",
              "      <th>Problem Category</th>\n",
              "    </tr>\n",
              "  </thead>\n",
              "  <tbody>\n",
              "    <tr>\n",
              "      <th>0</th>\n",
              "      <td>1</td>\n",
              "      <td>10</td>\n",
              "      <td>2</td>\n",
              "      <td>13</td>\n",
              "      <td>11223.0</td>\n",
              "      <td>0</td>\n",
              "      <td>7</td>\n",
              "      <td>4</td>\n",
              "      <td>45</td>\n",
              "      <td>1</td>\n",
              "      <td>1</td>\n",
              "      <td>1</td>\n",
              "    </tr>\n",
              "    <tr>\n",
              "      <th>1</th>\n",
              "      <td>1</td>\n",
              "      <td>15</td>\n",
              "      <td>17</td>\n",
              "      <td>13</td>\n",
              "      <td>10019.0</td>\n",
              "      <td>0</td>\n",
              "      <td>30</td>\n",
              "      <td>8</td>\n",
              "      <td>22</td>\n",
              "      <td>2</td>\n",
              "      <td>2</td>\n",
              "      <td>1</td>\n",
              "    </tr>\n",
              "    <tr>\n",
              "      <th>2</th>\n",
              "      <td>1</td>\n",
              "      <td>11</td>\n",
              "      <td>22</td>\n",
              "      <td>0</td>\n",
              "      <td>11237.0</td>\n",
              "      <td>2</td>\n",
              "      <td>7</td>\n",
              "      <td>8</td>\n",
              "      <td>17</td>\n",
              "      <td>1</td>\n",
              "      <td>1</td>\n",
              "      <td>1</td>\n",
              "    </tr>\n",
              "    <tr>\n",
              "      <th>3</th>\n",
              "      <td>1</td>\n",
              "      <td>11</td>\n",
              "      <td>22</td>\n",
              "      <td>12</td>\n",
              "      <td>11213.0</td>\n",
              "      <td>0</td>\n",
              "      <td>7</td>\n",
              "      <td>7</td>\n",
              "      <td>33</td>\n",
              "      <td>1</td>\n",
              "      <td>1</td>\n",
              "      <td>1</td>\n",
              "    </tr>\n",
              "    <tr>\n",
              "      <th>4</th>\n",
              "      <td>1</td>\n",
              "      <td>2</td>\n",
              "      <td>27</td>\n",
              "      <td>13</td>\n",
              "      <td>10460.0</td>\n",
              "      <td>0</td>\n",
              "      <td>6</td>\n",
              "      <td>4</td>\n",
              "      <td>24</td>\n",
              "      <td>0</td>\n",
              "      <td>0</td>\n",
              "      <td>1</td>\n",
              "    </tr>\n",
              "  </tbody>\n",
              "</table>\n",
              "</div>"
            ],
            "text/plain": [
              "   Agent Category Assigned  Type of Request  ...  A_2  Problem Category\n",
              "0                        1               10  ...    1                 1\n",
              "1                        1               15  ...    2                 1\n",
              "2                        1               11  ...    1                 1\n",
              "3                        1               11  ...    1                 1\n",
              "4                        1                2  ...    0                 1\n",
              "\n",
              "[5 rows x 12 columns]"
            ]
          },
          "metadata": {
            "tags": []
          },
          "execution_count": 22
        }
      ]
    },
    {
      "cell_type": "code",
      "metadata": {
        "id": "WZ5oyavOojM8",
        "colab_type": "code",
        "colab": {
          "base_uri": "https://localhost:8080/",
          "height": 585
        },
        "outputId": "044f196b-90d5-4bce-a874-7bafcd1aa6ce"
      },
      "source": [
        "print('Agent Category Assigned : ', train['Agent Category Assigned'].unique())\n",
        "print('Type of Request : ', train['Type of Request'].unique())\n",
        "print('Description of the Request : ', train['Description of the Request'].unique())\n",
        "print('Location : ', train['Location'].unique())\n",
        "print('Street Type : ', train['Street Type'].unique())\n",
        "print('Region Type : ', train['Region Type'].unique())\n",
        "print('Ward No : ', train['Ward No'].unique())\n",
        "print('Request Solution Category : ', train['Request Solution Category'].unique())\n",
        "print('Team Assigned : ', train['Team Assigned'].unique())\n",
        "print('A_1 : ', train.A_1.unique())\n",
        "print('A_2 : ', train.A_2.unique())"
      ],
      "execution_count": 23,
      "outputs": [
        {
          "output_type": "stream",
          "text": [
            "Agent Category Assigned :  [1]\n",
            "Type of Request :  [10 15 11  2 14 20  3  1  0 13  8 16  5 18 17 12 19  4  9]\n",
            "Description of the Request :  [ 2 17 22 27 23 14 31 10 34 20 15  3 41 30  6  1 25 35 29 26  5  0 11 21\n",
            " 28 19 37 40  7 12  8 39 36 38 24  4 32  9]\n",
            "Location :  [13  0 12 10  7  9  6  3  5  8 16 14  1]\n",
            "Street Type :  [11223. 10019. 11237. 11213. 10460. 11375. 10009. 11354. 11201. 11434.\n",
            " 10314. 11235.    nan 10457. 11219. 10308. 10017. 10458. 11432. 10003.\n",
            " 10462. 11214. 11204. 11228. 11411. 11356. 11102. 11226. 10312. 10026.\n",
            " 10039. 10027. 11101. 10029. 11373. 11385. 10451. 11225. 11365. 11416.\n",
            " 10466. 11211. 11206. 10034. 11216. 10002. 11229. 11232. 10016. 11218.\n",
            " 11357. 10028. 11238. 10472. 11230. 11103. 11691. 10453. 11207. 11358.\n",
            " 10461. 10001. 11368. 11694. 11355. 11209. 10032. 10023. 10465. 10040.\n",
            " 11366. 11419. 11436. 11378. 10013. 11429. 10452. 11217. 11415. 11417.\n",
            " 11367. 10302. 11105. 11414. 11208. 11418. 11224. 11220. 10065. 10468.\n",
            " 11233. 11106. 10036. 11104. 11420. 11374. 10010. 11234. 11370. 11210.\n",
            " 11215. 10469. 10456. 10025. 10075. 11433. 11363. 10459. 10021. 11426.\n",
            " 10467. 10470. 11231. 10018. 10475. 11236. 10031. 10303. 11221. 11435.\n",
            " 11212. 11203. 10011. 11422. 10022. 10012. 11205. 11421. 11369. 10024.\n",
            " 11222. 11377. 10037. 11249. 10033. 11239. 11372. 10463. 10014. 11427.\n",
            " 10030. 11362. 10304. 11379. 11004. 10454. 11364. 11423. 10305. 10038.\n",
            " 11361. 11413. 10301. 10473. 11428. 10306. 11040. 10035. 10464. 10004.\n",
            " 11693. 11692. 10309. 11412. 10471. 10128. 10455. 11430. 10281. 10007.\n",
            " 10310. 10006. 11360. 10307. 10005. 10474. 10282. 11109.]\n",
            "Region Type :  [0 2 4 1 3 5]\n",
            "Ward No :  [ 7 30  6 17 16 23 45 31  8 10  1 26 13 38 18 33 47 14 11 39 43 27 35 24\n",
            " 21 37 46 42 36 12 25  4 40 48 49 22 28 19 32 20  3 44 29  0 41 34]\n",
            "Request Solution Category :  [ 4  8  7  6 12  9 13  2 10 15 11  5]\n",
            "Team Assigned :  [45 22 17 33 24 27 13 31  7 51  5 56  0 49 15 26 28  8 44 41  4 54 42 38\n",
            " 46 19 23  1 37 47 39 48  2 50 20 29 34 36 55 21 18 30 40 35 43  3 53 16\n",
            "  9 25 52 12 14 59 58 10  6 57 11 32 61 65 64 66 60]\n",
            "A_1 :  [1 2 0 3 4 5]\n",
            "A_2 :  [1 2 0 3 4 5]\n"
          ],
          "name": "stdout"
        }
      ]
    },
    {
      "cell_type": "code",
      "metadata": {
        "id": "DiQK7SLnG_1S",
        "colab_type": "code",
        "colab": {}
      },
      "source": [
        "#train['Street Type'] = train['Street Type'].fillna(train['Street Type'].mean())\n",
        "\n",
        "train['Street Type'] = train['Street Type'].fillna(train['Street Type'].mode()[0])"
      ],
      "execution_count": 24,
      "outputs": []
    },
    {
      "cell_type": "code",
      "metadata": {
        "id": "j_jsAqEtGsgU",
        "colab_type": "code",
        "colab": {
          "base_uri": "https://localhost:8080/",
          "height": 247
        },
        "outputId": "c3173c0e-d5ad-41bb-aeb7-cde4d20488b6"
      },
      "source": [
        "train.isnull().sum()"
      ],
      "execution_count": 25,
      "outputs": [
        {
          "output_type": "execute_result",
          "data": {
            "text/plain": [
              "Agent Category Assigned       0\n",
              "Type of Request               0\n",
              "Description of the Request    0\n",
              "Location                      0\n",
              "Street Type                   0\n",
              "Region Type                   0\n",
              "Ward No                       0\n",
              "Request Solution Category     0\n",
              "Team Assigned                 0\n",
              "A_1                           0\n",
              "A_2                           0\n",
              "Problem Category              0\n",
              "dtype: int64"
            ]
          },
          "metadata": {
            "tags": []
          },
          "execution_count": 25
        }
      ]
    },
    {
      "cell_type": "markdown",
      "metadata": {
        "id": "hEh2y9TqvH9w",
        "colab_type": "text"
      },
      "source": [
        "#**Checking Dataset SkewNess**"
      ]
    },
    {
      "cell_type": "code",
      "metadata": {
        "id": "vWbfh0a0uoaF",
        "colab_type": "code",
        "colab": {
          "base_uri": "https://localhost:8080/",
          "height": 212
        },
        "outputId": "cdae1881-58aa-4b83-eacb-478d2495e90c"
      },
      "source": [
        "# Checking Problem Category wise Data frequency \n",
        "print('Problem Category frequency :')\n",
        "print(train['Problem Category'].value_counts(normalize=True))\n",
        "print(' ')\n",
        "print('Problem Category count :')\n",
        "print(train['Problem Category'].value_counts())"
      ],
      "execution_count": 26,
      "outputs": [
        {
          "output_type": "stream",
          "text": [
            "Problem Category frequency :\n",
            "1    0.931977\n",
            "2    0.046746\n",
            "0    0.021277\n",
            "Name: Problem Category, dtype: float64\n",
            " \n",
            "Problem Category count :\n",
            "1    6001\n",
            "2     301\n",
            "0     137\n",
            "Name: Problem Category, dtype: int64\n"
          ],
          "name": "stdout"
        }
      ]
    },
    {
      "cell_type": "markdown",
      "metadata": {
        "id": "-6K5kiQRw3nE",
        "colab_type": "text"
      },
      "source": [
        "**Dataset is highly skewed. \n",
        "Here I would like to check how Logisitc Regression with \"class_weight=balanced\" behaves on imbalanced dataset.**"
      ]
    },
    {
      "cell_type": "markdown",
      "metadata": {
        "id": "l8Upuli5-iTw",
        "colab_type": "text"
      },
      "source": [
        "# **Applying Classifiers**"
      ]
    },
    {
      "cell_type": "code",
      "metadata": {
        "id": "_kzVtlne9QFR",
        "colab_type": "code",
        "colab": {}
      },
      "source": [
        "# Splitting Independent and Dependent Variables\n",
        "X = train.loc[:, train.columns != 'Problem Category'].values\n",
        "y = train['Problem Category'].values"
      ],
      "execution_count": 27,
      "outputs": []
    },
    {
      "cell_type": "code",
      "metadata": {
        "id": "uPJxXvAz_4y7",
        "colab_type": "code",
        "colab": {}
      },
      "source": [
        "from sklearn.model_selection import train_test_split\n",
        "\n",
        "# Splitting the dataset into the Training set and Test set\n",
        "X_train, X_test, y_train, y_test = train_test_split(X, y, test_size=0.25, random_state=0, stratify=y)"
      ],
      "execution_count": 28,
      "outputs": []
    },
    {
      "cell_type": "code",
      "metadata": {
        "id": "vqt6VTq0Wk8B",
        "colab_type": "code",
        "colab": {
          "base_uri": "https://localhost:8080/",
          "height": 34
        },
        "outputId": "3d64793e-a419-4a79-ccdd-82537841b931"
      },
      "source": [
        "from sklearn.linear_model import LogisticRegression\n",
        "logisticRegr = LogisticRegression()\n",
        "logisticRegr.fit(X_train, y_train)\n",
        "\n",
        "predictions = logisticRegr.predict(X_test)\n",
        "score = logisticRegr.score(X_test, y_test)\n",
        "print(score)"
      ],
      "execution_count": 29,
      "outputs": [
        {
          "output_type": "stream",
          "text": [
            "0.9732919254658385\n"
          ],
          "name": "stdout"
        }
      ]
    },
    {
      "cell_type": "code",
      "metadata": {
        "id": "KQw-oVFaBid2",
        "colab_type": "code",
        "colab": {
          "base_uri": "https://localhost:8080/",
          "height": 34
        },
        "outputId": "403b5097-f8ab-4050-8875-f38660331b5a"
      },
      "source": [
        "from sklearn.linear_model import LogisticRegression\n",
        "logisticRegr = LogisticRegression(class_weight='balanced')\n",
        "logisticRegr.fit(X_train, y_train)\n",
        "\n",
        "predictions = logisticRegr.predict(X_test)\n",
        "score = logisticRegr.score(X_test, y_test)\n",
        "print(score)"
      ],
      "execution_count": 30,
      "outputs": [
        {
          "output_type": "stream",
          "text": [
            "0.9167701863354037\n"
          ],
          "name": "stdout"
        }
      ]
    },
    {
      "cell_type": "code",
      "metadata": {
        "id": "dTK3LlXQCQYO",
        "colab_type": "code",
        "colab": {}
      },
      "source": [
        "import numpy as np\n",
        "from sklearn.metrics import roc_auc_score\n",
        "from sklearn.preprocessing import LabelBinarizer\n",
        "from sklearn.metrics import precision_score\n",
        "from sklearn.metrics import recall_score\n",
        "\n",
        "#In an imbalanced classification problem with more than two classes, precision is \n",
        "#calculated as the sum of true positives across all classes divided by the sum of \n",
        "#true positives and false positives across all classes.\n",
        "\n",
        "#When using the precision_score() function for multiclass classification, it is \n",
        "#important to specify the minority classes via the “labels” argument and to perform \n",
        "#set the “average” argument to ‘micro‘ to ensure the calculation is performed as we expect.\n",
        "# calculate prediction\n",
        "def multiclass_precision_score(y_test, y_pred, average=\"macro\"):\n",
        "  precision = precision_score(y_test, y_pred, labels=[0,2], average=average)\n",
        "  return precision\n",
        "\n",
        "#Recall is a metric that quantifies the number of correct positive predictions made \n",
        "#out of all positive predictions that could have been made.\n",
        "# calculate recall\n",
        "def multiclass_recall_score(y_test, y_pred, average='macro'):\n",
        "  recall = recall_score(y_test, y_pred, average=average)\n",
        "  return recall"
      ],
      "execution_count": 31,
      "outputs": []
    },
    {
      "cell_type": "code",
      "metadata": {
        "id": "c94GmoexAfhE",
        "colab_type": "code",
        "colab": {
          "base_uri": "https://localhost:8080/",
          "height": 70
        },
        "outputId": "b99ea5e7-f2bd-4f1f-d641-8c4d80cffa3d"
      },
      "source": [
        "import xgboost as xgb\n",
        "import warnings\n",
        "warnings.filterwarnings(\"ignore\")\n",
        "warnings.filterwarnings(module='sklearn*', action='ignore', category=DeprecationWarning)\n",
        "from sklearn.tree import DecisionTreeClassifier \n",
        "from sklearn.ensemble import RandomForestClassifier\n",
        "from sklearn.metrics import confusion_matrix\n",
        "from sklearn.metrics import accuracy_score\n",
        "\n",
        "dtree_model = DecisionTreeClassifier(class_weight='balanced', max_depth=3).fit(X_train, y_train)   #Optimum Value for max_depth : 10\n",
        "dtree_predictions = dtree_model.predict(X_test)\n",
        "\n",
        "print('DecisionTreeClassifier + UnderSampling')\n",
        "print('Precision: ', multiclass_recall_score(y_test, dtree_predictions))\n",
        "print('Recall: ', multiclass_precision_score(y_test, dtree_predictions))"
      ],
      "execution_count": 32,
      "outputs": [
        {
          "output_type": "stream",
          "text": [
            "DecisionTreeClassifier + UnderSampling\n",
            "Precision:  0.6850980392156862\n",
            "Recall:  0.52811004784689\n"
          ],
          "name": "stdout"
        }
      ]
    },
    {
      "cell_type": "code",
      "metadata": {
        "id": "4ARJpJB-1pmf",
        "colab_type": "code",
        "colab": {
          "base_uri": "https://localhost:8080/",
          "height": 88
        },
        "outputId": "0a98d181-4b76-4bb7-973f-b3cea9f319b0"
      },
      "source": [
        "# Creates a confusion matrix\n",
        "cm = confusion_matrix(y_test, dtree_predictions)\n",
        "cm_df = pd.DataFrame(cm)\n",
        "cm_df.style.background_gradient(cmap='coolwarm')"
      ],
      "execution_count": 33,
      "outputs": [
        {
          "output_type": "execute_result",
          "data": {
            "text/html": [
              "<style  type=\"text/css\" >\n",
              "    #T_fb786b64_ea21_11ea_a09e_0242ac1c0002row0_col0 {\n",
              "            background-color:  #dadce0;\n",
              "            color:  #000000;\n",
              "        }    #T_fb786b64_ea21_11ea_a09e_0242ac1c0002row0_col1 {\n",
              "            background-color:  #3b4cc0;\n",
              "            color:  #f1f1f1;\n",
              "        }    #T_fb786b64_ea21_11ea_a09e_0242ac1c0002row0_col2 {\n",
              "            background-color:  #b9d0f9;\n",
              "            color:  #000000;\n",
              "        }    #T_fb786b64_ea21_11ea_a09e_0242ac1c0002row1_col0 {\n",
              "            background-color:  #3b4cc0;\n",
              "            color:  #f1f1f1;\n",
              "        }    #T_fb786b64_ea21_11ea_a09e_0242ac1c0002row1_col1 {\n",
              "            background-color:  #b40426;\n",
              "            color:  #f1f1f1;\n",
              "        }    #T_fb786b64_ea21_11ea_a09e_0242ac1c0002row1_col2 {\n",
              "            background-color:  #3b4cc0;\n",
              "            color:  #f1f1f1;\n",
              "        }    #T_fb786b64_ea21_11ea_a09e_0242ac1c0002row2_col0 {\n",
              "            background-color:  #b40426;\n",
              "            color:  #f1f1f1;\n",
              "        }    #T_fb786b64_ea21_11ea_a09e_0242ac1c0002row2_col1 {\n",
              "            background-color:  #3b4cc0;\n",
              "            color:  #f1f1f1;\n",
              "        }    #T_fb786b64_ea21_11ea_a09e_0242ac1c0002row2_col2 {\n",
              "            background-color:  #b40426;\n",
              "            color:  #f1f1f1;\n",
              "        }</style><table id=\"T_fb786b64_ea21_11ea_a09e_0242ac1c0002\" ><thead>    <tr>        <th class=\"blank level0\" ></th>        <th class=\"col_heading level0 col0\" >0</th>        <th class=\"col_heading level0 col1\" >1</th>        <th class=\"col_heading level0 col2\" >2</th>    </tr></thead><tbody>\n",
              "                <tr>\n",
              "                        <th id=\"T_fb786b64_ea21_11ea_a09e_0242ac1c0002level0_row0\" class=\"row_heading level0 row0\" >0</th>\n",
              "                        <td id=\"T_fb786b64_ea21_11ea_a09e_0242ac1c0002row0_col0\" class=\"data row0 col0\" >25</td>\n",
              "                        <td id=\"T_fb786b64_ea21_11ea_a09e_0242ac1c0002row0_col1\" class=\"data row0 col1\" >0</td>\n",
              "                        <td id=\"T_fb786b64_ea21_11ea_a09e_0242ac1c0002row0_col2\" class=\"data row0 col2\" >9</td>\n",
              "            </tr>\n",
              "            <tr>\n",
              "                        <th id=\"T_fb786b64_ea21_11ea_a09e_0242ac1c0002level0_row1\" class=\"row_heading level0 row1\" >1</th>\n",
              "                        <td id=\"T_fb786b64_ea21_11ea_a09e_0242ac1c0002row1_col0\" class=\"data row1 col0\" >0</td>\n",
              "                        <td id=\"T_fb786b64_ea21_11ea_a09e_0242ac1c0002row1_col1\" class=\"data row1 col1\" >1501</td>\n",
              "                        <td id=\"T_fb786b64_ea21_11ea_a09e_0242ac1c0002row1_col2\" class=\"data row1 col2\" >0</td>\n",
              "            </tr>\n",
              "            <tr>\n",
              "                        <th id=\"T_fb786b64_ea21_11ea_a09e_0242ac1c0002level0_row2\" class=\"row_heading level0 row2\" >2</th>\n",
              "                        <td id=\"T_fb786b64_ea21_11ea_a09e_0242ac1c0002row2_col0\" class=\"data row2 col0\" >51</td>\n",
              "                        <td id=\"T_fb786b64_ea21_11ea_a09e_0242ac1c0002row2_col1\" class=\"data row2 col1\" >0</td>\n",
              "                        <td id=\"T_fb786b64_ea21_11ea_a09e_0242ac1c0002row2_col2\" class=\"data row2 col2\" >24</td>\n",
              "            </tr>\n",
              "    </tbody></table>"
            ],
            "text/plain": [
              "<pandas.io.formats.style.Styler at 0x7f8558c8ee10>"
            ]
          },
          "metadata": {
            "tags": []
          },
          "execution_count": 33
        }
      ]
    },
    {
      "cell_type": "code",
      "metadata": {
        "id": "sOY-C35TAycj",
        "colab_type": "code",
        "colab": {
          "base_uri": "https://localhost:8080/",
          "height": 70
        },
        "outputId": "f54cc53c-df63-4ba5-fa0f-b7d7f1cfadf2"
      },
      "source": [
        "rf_clf = RandomForestClassifier(class_weight='balanced', random_state=0, n_jobs=-1)   \n",
        "rf_clf.fit(X_train, y_train)\n",
        "rf_predictions = rf_clf.predict(X_test)\n",
        "\n",
        "print('RandomForestClassifier + UnderSampling')\n",
        "print('Precision: ', multiclass_recall_score(y_test, rf_predictions))\n",
        "print('Recall: ', multiclass_precision_score(y_test, rf_predictions))"
      ],
      "execution_count": 34,
      "outputs": [
        {
          "output_type": "stream",
          "text": [
            "RandomForestClassifier + UnderSampling\n",
            "Precision:  0.6483660130718953\n",
            "Recall:  0.4937637564196625\n"
          ],
          "name": "stdout"
        }
      ]
    },
    {
      "cell_type": "code",
      "metadata": {
        "id": "bwpELkY22S7e",
        "colab_type": "code",
        "colab": {
          "base_uri": "https://localhost:8080/",
          "height": 88
        },
        "outputId": "42d02ad3-ec4e-457e-af84-727da8b683d1"
      },
      "source": [
        "# Creates a confusion matrix\n",
        "cm = confusion_matrix(y_test, rf_predictions)\n",
        "cm_df = pd.DataFrame(cm)\n",
        "cm_df.style.background_gradient(cmap='coolwarm')"
      ],
      "execution_count": 35,
      "outputs": [
        {
          "output_type": "execute_result",
          "data": {
            "text/html": [
              "<style  type=\"text/css\" >\n",
              "    #T_168fa23c_ea22_11ea_a09e_0242ac1c0002row0_col0 {\n",
              "            background-color:  #c7d7f0;\n",
              "            color:  #000000;\n",
              "        }    #T_168fa23c_ea22_11ea_a09e_0242ac1c0002row0_col1 {\n",
              "            background-color:  #3b4cc0;\n",
              "            color:  #f1f1f1;\n",
              "        }    #T_168fa23c_ea22_11ea_a09e_0242ac1c0002row0_col2 {\n",
              "            background-color:  #cfdaea;\n",
              "            color:  #000000;\n",
              "        }    #T_168fa23c_ea22_11ea_a09e_0242ac1c0002row1_col0 {\n",
              "            background-color:  #3b4cc0;\n",
              "            color:  #f1f1f1;\n",
              "        }    #T_168fa23c_ea22_11ea_a09e_0242ac1c0002row1_col1 {\n",
              "            background-color:  #b40426;\n",
              "            color:  #f1f1f1;\n",
              "        }    #T_168fa23c_ea22_11ea_a09e_0242ac1c0002row1_col2 {\n",
              "            background-color:  #3b4cc0;\n",
              "            color:  #f1f1f1;\n",
              "        }    #T_168fa23c_ea22_11ea_a09e_0242ac1c0002row2_col0 {\n",
              "            background-color:  #b40426;\n",
              "            color:  #f1f1f1;\n",
              "        }    #T_168fa23c_ea22_11ea_a09e_0242ac1c0002row2_col1 {\n",
              "            background-color:  #3b4cc0;\n",
              "            color:  #f1f1f1;\n",
              "        }    #T_168fa23c_ea22_11ea_a09e_0242ac1c0002row2_col2 {\n",
              "            background-color:  #b40426;\n",
              "            color:  #f1f1f1;\n",
              "        }</style><table id=\"T_168fa23c_ea22_11ea_a09e_0242ac1c0002\" ><thead>    <tr>        <th class=\"blank level0\" ></th>        <th class=\"col_heading level0 col0\" >0</th>        <th class=\"col_heading level0 col1\" >1</th>        <th class=\"col_heading level0 col2\" >2</th>    </tr></thead><tbody>\n",
              "                <tr>\n",
              "                        <th id=\"T_168fa23c_ea22_11ea_a09e_0242ac1c0002level0_row0\" class=\"row_heading level0 row0\" >0</th>\n",
              "                        <td id=\"T_168fa23c_ea22_11ea_a09e_0242ac1c0002row0_col0\" class=\"data row0 col0\" >14</td>\n",
              "                        <td id=\"T_168fa23c_ea22_11ea_a09e_0242ac1c0002row0_col1\" class=\"data row0 col1\" >2</td>\n",
              "                        <td id=\"T_168fa23c_ea22_11ea_a09e_0242ac1c0002row0_col2\" class=\"data row0 col2\" >18</td>\n",
              "            </tr>\n",
              "            <tr>\n",
              "                        <th id=\"T_168fa23c_ea22_11ea_a09e_0242ac1c0002level0_row1\" class=\"row_heading level0 row1\" >1</th>\n",
              "                        <td id=\"T_168fa23c_ea22_11ea_a09e_0242ac1c0002row1_col0\" class=\"data row1 col0\" >0</td>\n",
              "                        <td id=\"T_168fa23c_ea22_11ea_a09e_0242ac1c0002row1_col1\" class=\"data row1 col1\" >1501</td>\n",
              "                        <td id=\"T_168fa23c_ea22_11ea_a09e_0242ac1c0002row1_col2\" class=\"data row1 col2\" >0</td>\n",
              "            </tr>\n",
              "            <tr>\n",
              "                        <th id=\"T_168fa23c_ea22_11ea_a09e_0242ac1c0002level0_row2\" class=\"row_heading level0 row2\" >2</th>\n",
              "                        <td id=\"T_168fa23c_ea22_11ea_a09e_0242ac1c0002row2_col0\" class=\"data row2 col0\" >33</td>\n",
              "                        <td id=\"T_168fa23c_ea22_11ea_a09e_0242ac1c0002row2_col1\" class=\"data row2 col1\" >2</td>\n",
              "                        <td id=\"T_168fa23c_ea22_11ea_a09e_0242ac1c0002row2_col2\" class=\"data row2 col2\" >40</td>\n",
              "            </tr>\n",
              "    </tbody></table>"
            ],
            "text/plain": [
              "<pandas.io.formats.style.Styler at 0x7f8558976860>"
            ]
          },
          "metadata": {
            "tags": []
          },
          "execution_count": 35
        }
      ]
    },
    {
      "cell_type": "code",
      "metadata": {
        "id": "lbA0RHB-JLUT",
        "colab_type": "code",
        "colab": {
          "base_uri": "https://localhost:8080/",
          "height": 70
        },
        "outputId": "d1555e48-5704-494f-dd66-b6fbd1cc1d83"
      },
      "source": [
        "xg_cl = xgb.XGBClassifier(objective= \"multi:softprob\", \n",
        "                          n_estimators=125, \n",
        "                          learning_rate=0.1, \n",
        "                          seed=123,\n",
        "                          max_depth=2,\n",
        "                          class_weight='balanced',)\n",
        "\n",
        "xg_cl.fit(X_train, y_train)\n",
        "\n",
        "preds = xg_cl.predict(X_test)\n",
        "        \n",
        "#print('Accuracy : ', accuracy_score(y_test, preds))\n",
        "#print('ROC for XGBClassifier : ', multiclass_roc_auc_score(y_test, preds))\n",
        "\n",
        "print('XGBClassifier + UnderSampling')\n",
        "print('Precision: ', multiclass_recall_score(y_test, preds))\n",
        "print('Recall: ', multiclass_precision_score(y_test, preds))"
      ],
      "execution_count": 36,
      "outputs": [
        {
          "output_type": "stream",
          "text": [
            "XGBClassifier + UnderSampling\n",
            "Precision:  0.6934640522875816\n",
            "Recall:  0.6313131313131313\n"
          ],
          "name": "stdout"
        }
      ]
    },
    {
      "cell_type": "code",
      "metadata": {
        "id": "c6xdkdRV9PhE",
        "colab_type": "code",
        "colab": {
          "base_uri": "https://localhost:8080/",
          "height": 88
        },
        "outputId": "dbf7f997-1d69-4f95-fded-1df2b0a23e14"
      },
      "source": [
        "# Creates a confusion matrix\n",
        "cm = confusion_matrix(y_test, preds)\n",
        "cm_df = pd.DataFrame(cm)\n",
        "cm_df.style.background_gradient(cmap='coolwarm')"
      ],
      "execution_count": 37,
      "outputs": [
        {
          "output_type": "execute_result",
          "data": {
            "text/html": [
              "<style  type=\"text/css\" >\n",
              "    #T_32c606b2_ea22_11ea_a09e_0242ac1c0002row0_col0 {\n",
              "            background-color:  #b40426;\n",
              "            color:  #f1f1f1;\n",
              "        }    #T_32c606b2_ea22_11ea_a09e_0242ac1c0002row0_col1 {\n",
              "            background-color:  #3b4cc0;\n",
              "            color:  #f1f1f1;\n",
              "        }    #T_32c606b2_ea22_11ea_a09e_0242ac1c0002row0_col2 {\n",
              "            background-color:  #c5d6f2;\n",
              "            color:  #000000;\n",
              "        }    #T_32c606b2_ea22_11ea_a09e_0242ac1c0002row1_col0 {\n",
              "            background-color:  #3b4cc0;\n",
              "            color:  #f1f1f1;\n",
              "        }    #T_32c606b2_ea22_11ea_a09e_0242ac1c0002row1_col1 {\n",
              "            background-color:  #b40426;\n",
              "            color:  #f1f1f1;\n",
              "        }    #T_32c606b2_ea22_11ea_a09e_0242ac1c0002row1_col2 {\n",
              "            background-color:  #3b4cc0;\n",
              "            color:  #f1f1f1;\n",
              "        }    #T_32c606b2_ea22_11ea_a09e_0242ac1c0002row2_col0 {\n",
              "            background-color:  #ee8468;\n",
              "            color:  #000000;\n",
              "        }    #T_32c606b2_ea22_11ea_a09e_0242ac1c0002row2_col1 {\n",
              "            background-color:  #3b4cc0;\n",
              "            color:  #f1f1f1;\n",
              "        }    #T_32c606b2_ea22_11ea_a09e_0242ac1c0002row2_col2 {\n",
              "            background-color:  #b40426;\n",
              "            color:  #f1f1f1;\n",
              "        }</style><table id=\"T_32c606b2_ea22_11ea_a09e_0242ac1c0002\" ><thead>    <tr>        <th class=\"blank level0\" ></th>        <th class=\"col_heading level0 col0\" >0</th>        <th class=\"col_heading level0 col1\" >1</th>        <th class=\"col_heading level0 col2\" >2</th>    </tr></thead><tbody>\n",
              "                <tr>\n",
              "                        <th id=\"T_32c606b2_ea22_11ea_a09e_0242ac1c0002level0_row0\" class=\"row_heading level0 row0\" >0</th>\n",
              "                        <td id=\"T_32c606b2_ea22_11ea_a09e_0242ac1c0002row0_col0\" class=\"data row0 col0\" >5</td>\n",
              "                        <td id=\"T_32c606b2_ea22_11ea_a09e_0242ac1c0002row0_col1\" class=\"data row0 col1\" >0</td>\n",
              "                        <td id=\"T_32c606b2_ea22_11ea_a09e_0242ac1c0002row0_col2\" class=\"data row0 col2\" >29</td>\n",
              "            </tr>\n",
              "            <tr>\n",
              "                        <th id=\"T_32c606b2_ea22_11ea_a09e_0242ac1c0002level0_row1\" class=\"row_heading level0 row1\" >1</th>\n",
              "                        <td id=\"T_32c606b2_ea22_11ea_a09e_0242ac1c0002row1_col0\" class=\"data row1 col0\" >0</td>\n",
              "                        <td id=\"T_32c606b2_ea22_11ea_a09e_0242ac1c0002row1_col1\" class=\"data row1 col1\" >1501</td>\n",
              "                        <td id=\"T_32c606b2_ea22_11ea_a09e_0242ac1c0002row1_col2\" class=\"data row1 col2\" >0</td>\n",
              "            </tr>\n",
              "            <tr>\n",
              "                        <th id=\"T_32c606b2_ea22_11ea_a09e_0242ac1c0002level0_row2\" class=\"row_heading level0 row2\" >2</th>\n",
              "                        <td id=\"T_32c606b2_ea22_11ea_a09e_0242ac1c0002row2_col0\" class=\"data row2 col0\" >4</td>\n",
              "                        <td id=\"T_32c606b2_ea22_11ea_a09e_0242ac1c0002row2_col1\" class=\"data row2 col1\" >1</td>\n",
              "                        <td id=\"T_32c606b2_ea22_11ea_a09e_0242ac1c0002row2_col2\" class=\"data row2 col2\" >70</td>\n",
              "            </tr>\n",
              "    </tbody></table>"
            ],
            "text/plain": [
              "<pandas.io.formats.style.Styler at 0x7f8558991860>"
            ]
          },
          "metadata": {
            "tags": []
          },
          "execution_count": 37
        }
      ]
    },
    {
      "cell_type": "markdown",
      "metadata": {
        "id": "RJcunivxGwLm",
        "colab_type": "text"
      },
      "source": [
        "#**Precision vs. Recall for Imbalanced Classification**\n",
        "You may decide to use precision or recall on your imbalanced classification problem. </br>\n",
        "\n",
        "Maximizing precision will minimize the number false positives, whereas maximizing the recall will minimize the number of false negatives. </br>\n",
        "\n",
        "Precision: Appropriate when minimizing false positives is the focus. </br>\n",
        "Recall: Appropriate when minimizing false negatives is the focus. </br>"
      ]
    },
    {
      "cell_type": "markdown",
      "metadata": {
        "id": "LjR2THmtaovQ",
        "colab_type": "text"
      },
      "source": [
        "# My Observation says that Logistic Regression and Decision Tree Classifier output shows pretty good improvement while using class_weight='balanced' parameter.\n",
        "\n",
        "## But, Ensemble Learning Classifiers like Decision Forest Classifier and XGBClassifiers' performance is almost unchanged."
      ]
    },
    {
      "cell_type": "markdown",
      "metadata": {
        "id": "i6DM6A19aerE",
        "colab_type": "text"
      },
      "source": [
        "## **Approach 2 - Data PreProcessing based on my Notebook 3 (procedure that I did in actual Hackathon)**"
      ]
    },
    {
      "cell_type": "code",
      "metadata": {
        "id": "jFJiDNMJaeNh",
        "colab_type": "code",
        "colab": {}
      },
      "source": [
        "import pandas as pd\n",
        "train = pd.read_csv('Train.csv')\n",
        "\n",
        "train['Street Type'] = train['Street Type'].fillna(train['Street Type'].mode()[0])\n",
        "\n",
        "#Normalized Data\n",
        "train['MinMax_StreetType'] = (train['Street Type']-min(train['Street Type']))/(max(train['Street Type'])-min(train['Street Type']))\n",
        "train['MinMax_WardNo'] = (train['Ward No']-min(train['Ward No']))/(max(train['Ward No'])-min(train['Ward No']))\n",
        "train['MinMax_TeamAssigned'] = (train['Team Assigned']-min(train['Team Assigned']))/(max(train['Team Assigned'])-min(train['Team Assigned']))\n",
        "\n",
        "train.drop(['L_Id', 'Street Type', 'Ward No', 'Team Assigned', 'Description of the Request'], axis=1, inplace=True)\n",
        "train.drop(['Date of Creation', 'Actual Date of Completion', 'Estimated Date of Completion'], axis=1, inplace=True)"
      ],
      "execution_count": 62,
      "outputs": []
    },
    {
      "cell_type": "code",
      "metadata": {
        "id": "wtwMRr2EbYo6",
        "colab_type": "code",
        "colab": {
          "base_uri": "https://localhost:8080/",
          "height": 87
        },
        "outputId": "2e72c5fc-d2ea-430f-8602-d1e92ef6ffe6"
      },
      "source": [
        "# Splitting Independent and Dependent Variables\n",
        "X = train.loc[:, train.columns != 'Problem Category'].values\n",
        "y = train['Problem Category'].values\n",
        "\n",
        "print(train.columns)\n",
        "\n",
        "from sklearn.model_selection import train_test_split\n",
        "X_train2, X_test2, y_train2, y_test2 = train_test_split(X, y, test_size=0.25, random_state=0, stratify=y)"
      ],
      "execution_count": 63,
      "outputs": [
        {
          "output_type": "stream",
          "text": [
            "Index(['Agent Category Assigned', 'Type of Request', 'Location', 'Region Type',\n",
            "       'Request Solution Category', 'A_1', 'A_2', 'Problem Category',\n",
            "       'MinMax_StreetType', 'MinMax_WardNo', 'MinMax_TeamAssigned'],\n",
            "      dtype='object')\n"
          ],
          "name": "stdout"
        }
      ]
    },
    {
      "cell_type": "code",
      "metadata": {
        "id": "Bv9H59amcCM1",
        "colab_type": "code",
        "colab": {
          "base_uri": "https://localhost:8080/",
          "height": 34
        },
        "outputId": "c4fdf5e1-9441-4795-e7e7-ea734d63eb69"
      },
      "source": [
        "from sklearn.linear_model import LogisticRegression\n",
        "logisticRegr = LogisticRegression(class_weight='balanced')\n",
        "logisticRegr.fit(X_train2, y_train2)\n",
        "\n",
        "predictions = logisticRegr.predict(X_test2)\n",
        "score2 = logisticRegr.score(X_test2, y_test2)\n",
        "print(score2)"
      ],
      "execution_count": 64,
      "outputs": [
        {
          "output_type": "stream",
          "text": [
            "0.9329192546583851\n"
          ],
          "name": "stdout"
        }
      ]
    },
    {
      "cell_type": "code",
      "metadata": {
        "id": "m6fBHCY3cOB4",
        "colab_type": "code",
        "colab": {
          "base_uri": "https://localhost:8080/",
          "height": 70
        },
        "outputId": "83164073-8d2d-41e2-891f-706baaa6f3f9"
      },
      "source": [
        "dtree_model = DecisionTreeClassifier(class_weight='balanced', max_depth=3).fit(X_train2, y_train2)   #Optimum Value for max_depth : 10\n",
        "dtree_predictions2 = dtree_model.predict(X_test2)\n",
        "\n",
        "print('DecisionTreeClassifier + UnderSampling')\n",
        "print('Precision: ', multiclass_recall_score(y_test2, dtree_predictions2))\n",
        "print('Recall: ', multiclass_precision_score(y_test2, dtree_predictions2))"
      ],
      "execution_count": 65,
      "outputs": [
        {
          "output_type": "stream",
          "text": [
            "DecisionTreeClassifier + UnderSampling\n",
            "Precision:  0.6385620915032679\n",
            "Recall:  0.46328551912568305\n"
          ],
          "name": "stdout"
        }
      ]
    },
    {
      "cell_type": "code",
      "metadata": {
        "id": "osABPL7vd9IL",
        "colab_type": "code",
        "colab": {
          "base_uri": "https://localhost:8080/",
          "height": 70
        },
        "outputId": "c307c811-fc6f-4715-a2b6-4cfde4c9379e"
      },
      "source": [
        "rf_clf = RandomForestClassifier(class_weight='balanced', random_state=0, n_jobs=-1)   \n",
        "rf_clf.fit(X_train2, y_train2)\n",
        "rf_predictions2 = rf_clf.predict(X_test2)\n",
        "\n",
        "print('RandomForestClassifier + UnderSampling')\n",
        "print('Precision: ', multiclass_recall_score(y_test2, rf_predictions2))\n",
        "print('Recall: ', multiclass_precision_score(y_test2, rf_predictions2))"
      ],
      "execution_count": 66,
      "outputs": [
        {
          "output_type": "stream",
          "text": [
            "RandomForestClassifier + UnderSampling\n",
            "Precision:  0.6644444444444445\n",
            "Recall:  0.5064640111809923\n"
          ],
          "name": "stdout"
        }
      ]
    },
    {
      "cell_type": "code",
      "metadata": {
        "id": "sqcauN9EeCw1",
        "colab_type": "code",
        "colab": {
          "base_uri": "https://localhost:8080/",
          "height": 70
        },
        "outputId": "15955f86-f1c9-47b4-86eb-45f815ae1715"
      },
      "source": [
        "xg_cl = xgb.XGBClassifier(objective= \"multi:softprob\", \n",
        "                          n_estimators=125, \n",
        "                          learning_rate=0.1, \n",
        "                          seed=123,\n",
        "                          max_depth=2,\n",
        "                          class_weight='balanced',)\n",
        "\n",
        "xg_cl.fit(X_train2, y_train2)\n",
        "\n",
        "preds2 = xg_cl.predict(X_test2)\n",
        "        \n",
        "#print('Accuracy : ', accuracy_score(y_test, preds))\n",
        "#print('ROC for XGBClassifier : ', multiclass_roc_auc_score(y_test, preds))\n",
        "\n",
        "print('XGBClassifier + UnderSampling')\n",
        "print('Precision: ', multiclass_recall_score(y_test2, preds2))\n",
        "print('Recall: ', multiclass_precision_score(y_test2, preds2))"
      ],
      "execution_count": 67,
      "outputs": [
        {
          "output_type": "stream",
          "text": [
            "XGBClassifier + UnderSampling\n",
            "Precision:  0.6934640522875816\n",
            "Recall:  0.6313131313131313\n"
          ],
          "name": "stdout"
        }
      ]
    },
    {
      "cell_type": "markdown",
      "metadata": {
        "id": "3XXjJCq8fAx3",
        "colab_type": "text"
      },
      "source": [
        "#My Observation says that Logistic Regression and Decision Tree Classifier output shows pretty good improvement while using class_weight='balanced' parameter.\n",
        "#But, Ensemble Learning Classifiers like Decision Forest Classifier and XGBClassifiers' performance is almost unchanged."
      ]
    },
    {
      "cell_type": "code",
      "metadata": {
        "id": "xfh-0SSFfFFf",
        "colab_type": "code",
        "colab": {}
      },
      "source": [
        ""
      ],
      "execution_count": null,
      "outputs": []
    }
  ]
}